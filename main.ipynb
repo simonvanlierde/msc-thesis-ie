{
 "cells": [
  {
   "cell_type": "markdown",
   "metadata": {},
   "source": [
    "# Introduction\n",
    "This notebook presents a cooling demand model (CDM) targeting the residential and office buildings in The Hague, The Netherlands. The primary aim is to serve as the computational base for Simon van Lierde's master's thesis in Industrial Ecology. The model incorporates data loading from from GIS files and public weather data APIs, extensive data processing, thermodynamic calculations, determination of environmental impacts, sensitivity analyses and the creation of figures."
   ]
  },
  {
   "cell_type": "markdown",
   "metadata": {},
   "source": [
    "## Import libraries"
   ]
  },
  {
   "cell_type": "code",
   "execution_count": null,
   "metadata": {},
   "outputs": [],
   "source": [
    "import time\n",
    "from pathlib import Path\n",
    "\n",
    "import matplotlib.pyplot as plt\n",
    "import numpy as np\n",
    "import pandas as pd\n",
    "from itables import init_notebook_mode\n",
    "\n",
    "from functions.data_handling import (\n",
    "    add_cooling_technology_data_to_buildings,\n",
    "    add_parameters_to_buildings,\n",
    "    aggregate_results,\n",
    "    read_buildings,\n",
    "    read_global_parameters,\n",
    "    read_parameter_specific_data,\n",
    ")\n",
    "from functions.environmental import (\n",
    "    calculate_environmental_impacts_from_cooling_demand,\n",
    "    calculate_environmental_parameters_for_cooling_technologies,\n",
    ")\n",
    "from functions.figures import (\n",
    "    get_indices_from_dates,\n",
    "    plot_cooling_loads_for_building_types,\n",
    "    plot_cooling_loads_for_energy_classes,\n",
    "    plot_thermal_flows_for_building_types,\n",
    "    plot_thermal_flows_for_energy_classes,\n",
    ")\n",
    "from functions.sensitivity_analysis import (\n",
    "    normalize_SA_results,\n",
    "    post_process_SA_cooling_tech_mix,\n",
    "    post_process_SA_results,\n",
    "    run_SA_for_cooling_technology_mix,\n",
    "    run_SA_for_total_market_penetration,\n",
    "    run_SA_for_variable_in_cooling_technology_parameters,\n",
    "    run_SA_for_variable_in_global_parameters,\n",
    ")\n",
    "from functions.thermodynamic import calc_cooling_demand_metrics_for_df\n",
    "from functions.time_series import create_time_series, get_raw_weather_data, read_dynamic_subsurface_temperature\n",
    "\n",
    "# To improve interaction with DataFrames\n",
    "init_notebook_mode(all_interactive=True)"
   ]
  },
  {
   "cell_type": "markdown",
   "metadata": {},
   "source": [
    "# Calculate the cooling demand and its environmental impacts"
   ]
  },
  {
   "cell_type": "markdown",
   "metadata": {},
   "source": [
    "### Set calculation options"
   ]
  },
  {
   "cell_type": "code",
   "execution_count": null,
   "metadata": {},
   "outputs": [],
   "source": [
    "BUILDING_SUBSET_NAME = \"full\"  # The name of the subset of buildings to be used ('sample': 314 buildings, 'sample_2000': 2000 buildings, 'sample_5000': 5000 buildings, 'subset': 5000 buildings in the center of The Hague, or 'full': all buildings)')\n",
    "SCENARIO = \"SQ\"  # The scenario to be used ('SQ' (Status Quo), '2030', 2050_L, '2050_M', 2050_H)\n",
    "INCLUDE_TIME_SERIES_IN_DATAFRAME = (\n",
    "    False  # Whether to include the time series in the DataFrame (True) or not (False). Should be set to false for large datasets to prevent memory issues\n",
    ")\n",
    "DROP_PARAMETER_COLUMNS = True  # Whether to drop the columns containing the parameters not needed for further analysis before writing to a file (True) or not (False)\n",
    "PARAMETER_COLUMNS_TO_DROP_AFTER_CALCULATIONS = [  # The columns containing the parameters not needed for further analysis\n",
    "    \"avg_ADP_kgSbeq_kW\",\n",
    "    \"avg_CSI_kgSieq_kW\",\n",
    "    \"avg_GHG_emissions_electricity_kgCO2eq_kWh_cooling\",\n",
    "    \"avg_GHG_emissions_EoL_phase_kgCO2eq_kW\",\n",
    "    \"avg_GHG_emissions_production_phase_kgCO2eq_kW\",\n",
    "    \"avg_GHG_emissions_refrigerant_leaks_kgCO2eq_kW\",\n",
    "    \"avg_material_density_kg_kW\",\n",
    "    \"avg_refrigerant_leakage_kg_kW\",\n",
    "    \"avg_refrigerant_leakage_rate_relative\",\n",
    "    \"energy_class_int\",\n",
    "    \"energy_labels_included_residential\",\n",
    "    \"energy_labels_included_office\",\n",
    "    \"cooling_technology_share_ASHP\",\n",
    "    \"cooling_technology_share_GSHP\",\n",
    "    \"cooling_technology_share_WSHP\",\n",
    "    \"cooling_technology_share_chiller\",\n",
    "    \"cooling_technology_share_AC_split\",\n",
    "    \"cooling_technology_share_AC_mobile\",\n",
    "    \"f_wall\",\n",
    "    \"f_window\",\n",
    "    \"facade_area_per_orientation_m2\",\n",
    "    \"g_window\",\n",
    "    \"ground_elevation_m\",\n",
    "    \"infiltration_ACH\",\n",
    "    \"int_heat_gain_appliances_W_m2\",\n",
    "    \"MBR_length_m\",\n",
    "    \"MBR_width_m\",\n",
    "    \"pressure_drop_Pa\",\n",
    "    \"Rc_floor_m2K_W\",\n",
    "    \"Rc_roof_m2K_W\",\n",
    "    \"Rc_wall_m2K_W\",\n",
    "    \"roof_elevation_m\",\n",
    "    \"status\",\n",
    "    \"U_window_W_m2K\",\n",
    "    \"ventilation_rate_pp_m3_h\",\n",
    "    \"wall_area_total_m2\",\n",
    "    \"window_area_per_orientation_m2\",\n",
    "    \"window_area_total_m2\",\n",
    "]"
   ]
  },
  {
   "cell_type": "markdown",
   "metadata": {},
   "source": [
    "### Load data"
   ]
  },
  {
   "cell_type": "markdown",
   "metadata": {},
   "source": [
    "#### Define path and layer names"
   ]
  },
  {
   "cell_type": "code",
   "execution_count": null,
   "metadata": {},
   "outputs": [],
   "source": [
    "# Building data\n",
    "BAG_DATA_INPUT_PATH = Path(\n",
    "    f\"data/output/geodata/BAG_buildings_with_residence_data_{BUILDING_SUBSET_NAME}{'_'+SCENARIO if BUILDING_SUBSET_NAME == 'sample_2000' else ''}.gpkg\",\n",
    ")  # The path to the GeoPackage containing the BAG building data\n",
    "BAG_DATA_LAYER_NAME = (\n",
    "    f\"BAG_buildings_{BUILDING_SUBSET_NAME}{'_'+SCENARIO if BUILDING_SUBSET_NAME == 'sample_2000' else ''}\"  # The name of the layer containing the BAG building data\n",
    ")\n",
    "\n",
    "# Constant parameters\n",
    "MULTIDIRECTIONAL_SOLAR_RADIATION_FRACTIONS_PATH = Path(\n",
    "    \"data/input/parameters/multidirectional_solar_radiation_fractions.csv\",\n",
    ")  # The file containing the multidirectional solar radiation fractions\n",
    "PRESENCE_LOAD_FACTORS_PATH = Path(\"data/input/parameters/presence_load_factors.csv\")  # The file containing the presence load factors\n",
    "\n",
    "# Scenario-dependent parameters\n",
    "SCENARIO_FOLDER = Path(f\"data/input/parameters/parameters_{SCENARIO}\")  # The folder containing the scenario specific parameters\n",
    "PARAMETERS_GLOBAL_PATH = SCENARIO_FOLDER / Path(\"parameters_global.csv\")  # The file containing the global parameters\n",
    "PARAMETERS_BUILDING_TYPE_PATH = SCENARIO_FOLDER / Path(\"parameters_building_type.csv\")  # The file containing the building type dependent parameters\n",
    "PARAMETERS_ENERGY_CLASS_PATH = SCENARIO_FOLDER / Path(\"parameters_energy_class.csv\")  # The file containing the energy class dependent parameters\n",
    "PARAMETERS_COOLING_TECHNOLOGY_PATH = SCENARIO_FOLDER / Path(\"parameters_cooling_technology.csv\")  # The file containing the cooling technology dependent parameters\n",
    "\n",
    "# Sensitivity analysis\n",
    "SUBSURFACE_TEMPERATURE_PATH = Path(\"data/input/parameters/subsurface_temperature.csv\")  # The file containing the dynamic subsurface temperature series\n",
    "\n",
    "# Outputs\n",
    "RESULTS_GEODATA_OUTPUT_PATH = Path(\n",
    "    f\"data/output/geodata/buildings_with_CDM_results_{SCENARIO}_{BUILDING_SUBSET_NAME}.gpkg\",\n",
    ")  # The path to the file to which the results should be written\n",
    "RESULTS_LAYER_NAME = f\"buildings_with_CDM_results_{SCENARIO}_{BUILDING_SUBSET_NAME}\"  # The name of the layer to which the results should be written\n",
    "RESULTS_CSV_OUTPUT_PATH = Path(f\"data/output/CDM_results_{SCENARIO}_{BUILDING_SUBSET_NAME}.csv\")  # The path to the file to which the aggregated results should be written"
   ]
  },
  {
   "cell_type": "markdown",
   "metadata": {},
   "source": [
    "#### Read data"
   ]
  },
  {
   "cell_type": "code",
   "execution_count": null,
   "metadata": {},
   "outputs": [],
   "source": [
    "# Load static parameters such as physical constants, building type- and energy label-dependant parameters\n",
    "PARAMETERS_GLOBAL = read_global_parameters(PARAMETERS_GLOBAL_PATH)\n",
    "PARAMETERS_BUILDING_TYPE = read_parameter_specific_data(PARAMETERS_BUILDING_TYPE_PATH)\n",
    "PARAMETERS_ENERGY_CLASS = read_parameter_specific_data(PARAMETERS_ENERGY_CLASS_PATH)\n",
    "PARAMETERS_COOLING_TECHNOLOGY = read_parameter_specific_data(PARAMETERS_COOLING_TECHNOLOGY_PATH)\n",
    "\n",
    "# Load the building data containing the building geometries and simple building parameters\n",
    "buildings = read_buildings(BAG_DATA_INPUT_PATH, BAG_DATA_LAYER_NAME)\n",
    "\n",
    "# Fetch the raw weather data\n",
    "raw_weather_data = get_raw_weather_data(PARAMETERS_GLOBAL)"
   ]
  },
  {
   "cell_type": "markdown",
   "metadata": {},
   "source": [
    "#### Pre-process data"
   ]
  },
  {
   "cell_type": "code",
   "execution_count": null,
   "metadata": {},
   "outputs": [],
   "source": [
    "# Assign the building parameters\n",
    "buildings = add_parameters_to_buildings(buildings, PARAMETERS_GLOBAL, PARAMETERS_BUILDING_TYPE, PARAMETERS_ENERGY_CLASS)\n",
    "\n",
    "# Build the cooling technologies DataFrame\n",
    "cooling_technologies = calculate_environmental_parameters_for_cooling_technologies(PARAMETERS_COOLING_TECHNOLOGY, PARAMETERS_GLOBAL)\n",
    "\n",
    "# Assign the cooling technology parameters to the buildings\n",
    "buildings = add_cooling_technology_data_to_buildings(buildings, cooling_technologies)\n",
    "\n",
    "# Create time series for weather series and other hourly data\n",
    "time_series = create_time_series(PARAMETERS_GLOBAL, raw_weather_data, MULTIDIRECTIONAL_SOLAR_RADIATION_FRACTIONS_PATH, PRESENCE_LOAD_FACTORS_PATH)"
   ]
  },
  {
   "cell_type": "markdown",
   "metadata": {},
   "source": [
    "### Calculate the cooling demand"
   ]
  },
  {
   "cell_type": "code",
   "execution_count": null,
   "metadata": {},
   "outputs": [],
   "source": [
    "t_start = time.time()  # Start the timer\n",
    "\n",
    "# Calculate the cooling demand in one go, including the cooling demand time series if INCLUDE_TIME_SERIES_IN_DATAFRAME is set to True\n",
    "buildings = calc_cooling_demand_metrics_for_df(buildings, time_series, PARAMETERS_GLOBAL, INCLUDE_TIME_SERIES_IN_DATAFRAME)\n",
    "\n",
    "t_end = time.time() - t_start  # Stop the timer"
   ]
  },
  {
   "cell_type": "code",
   "execution_count": null,
   "metadata": {},
   "outputs": [],
   "source": [
    "# Print performance metrics\n",
    "memory_usage = buildings.memory_usage(index=True).sum()\n",
    "print(\"Memory usage:\", round(memory_usage / 1024**2, 2), \"MB, or \", round(memory_usage / 1024 / len(buildings), 2), \"kb per building\")\n",
    "print(\"Time:\", round(t_end, 2), \"s, or \", round(t_end * 1000 / len(buildings), 2), \"ms per building\")"
   ]
  },
  {
   "cell_type": "markdown",
   "metadata": {},
   "source": [
    "### Calculate the environmental impacts\n"
   ]
  },
  {
   "cell_type": "code",
   "execution_count": null,
   "metadata": {},
   "outputs": [],
   "source": [
    "# Calculate the environmental impacts\n",
    "buildings, impact_summary = calculate_environmental_impacts_from_cooling_demand(buildings, PARAMETERS_GLOBAL)\n",
    "\n",
    "# Aggregate the results to the level of unique combinations of energy classes and building types\n",
    "buildings_agg = aggregate_results(buildings, PARAMETERS_GLOBAL)"
   ]
  },
  {
   "cell_type": "markdown",
   "metadata": {},
   "source": [
    "### Save results"
   ]
  },
  {
   "cell_type": "code",
   "execution_count": null,
   "metadata": {},
   "outputs": [],
   "source": [
    "# Drop any columns that contain time series arrays for the sake of writing the DataFrame to a file\n",
    "buildings_to_file = buildings.drop(\n",
    "    columns=[col for col in buildings.columns if type(buildings[col].iloc[0]) == np.ndarray],\n",
    ")\n",
    "\n",
    "# Drop the parameter columns (those that are not used in further analysis) if DROP_PARAMETER_COLUMNS is set to True\n",
    "if DROP_PARAMETER_COLUMNS:\n",
    "    # Check which parameter columns are in the DataFrame\n",
    "    columns_to_drop_existing = [col for col in PARAMETER_COLUMNS_TO_DROP_AFTER_CALCULATIONS if col in buildings_to_file.columns]\n",
    "\n",
    "    # Drop the parameter columns that are in the DataFrame\n",
    "    buildings_to_file = buildings_to_file.drop(columns=columns_to_drop_existing)\n",
    "\n",
    "# Save buildings with CDM results to GeoPackage\n",
    "buildings_to_file.to_file(RESULTS_GEODATA_OUTPUT_PATH, layer=RESULTS_LAYER_NAME, driver=\"GPKG\")\n",
    "\n",
    "# Save aggregated results to csv file\n",
    "buildings_agg.to_csv(RESULTS_CSV_OUTPUT_PATH, index=False)"
   ]
  },
  {
   "cell_type": "markdown",
   "metadata": {},
   "source": [
    "# Sensitivity analysis"
   ]
  },
  {
   "cell_type": "code",
   "execution_count": null,
   "metadata": {},
   "outputs": [],
   "source": [
    "# Load the global parameters for all scenarios, for plotting purposes\n",
    "global_param_dict = {}\n",
    "\n",
    "for scenario in [\"SQ\", \"2030\", \"2050_L\", \"2050_M\", \"2050_H\"]:\n",
    "    global_parameter_path = Path(f\"data/input/parameters/parameters_{scenario}/parameters_global.csv\")  # The file containing the global parameters for that scenario\n",
    "    global_param_dict[scenario] = read_global_parameters(global_parameter_path)  # Load the global parameters for the scenario into the dictionary"
   ]
  },
  {
   "cell_type": "markdown",
   "metadata": {},
   "source": [
    "### Create a sample of the BAG for easier sensitivity analysis"
   ]
  },
  {
   "cell_type": "markdown",
   "metadata": {},
   "source": [
    "#### Proportional to the total building stock"
   ]
  },
  {
   "cell_type": "code",
   "execution_count": null,
   "metadata": {},
   "outputs": [],
   "source": [
    "# Count the amount of buildings per combination of building type and energy class\n",
    "buildings_per_building_type_and_energy_class = buildings.groupby([\"building_type\", \"building_type_int\", \"energy_class\"]).size().reset_index(name=\"count\")\n",
    "\n",
    "# Calculate the fraction of buildings per combination of building type and energy class\n",
    "buildings_per_building_type_and_energy_class[\"fraction\"] = buildings_per_building_type_and_energy_class[\"count\"] / buildings_per_building_type_and_energy_class[\"count\"].sum()"
   ]
  },
  {
   "cell_type": "code",
   "execution_count": null,
   "metadata": {},
   "outputs": [],
   "source": [
    "sample_size_total = 2000  # The total number of buildings to sample\n",
    "sample_size_per_building_type_and_energy_class_minimum = 1  # The minimum number of buildings to sample per building type and energy class\n",
    "building_sample_output_path = f\"data/output/geodata/BAG_buildings_with_residence_data_sample_2000_{SCENARIO}.gpkg\"  # The path to the output file containing the sample of buildings\n",
    "building_sample_layer_name = f\"BAG_buildings_sample_2000_{SCENARIO}\"  # The name of the layer in the output file containing the sample of buildings\n",
    "buildings_sample = None  # The DataFrame containing the sample of buildings\n",
    "\n",
    "# Loop over the building type - energy class combinations\n",
    "for _, row in buildings_per_building_type_and_energy_class.iterrows():\n",
    "    # Calculate the sample size for this combination of building type and energy class\n",
    "    sample_size = max(round(row[\"fraction\"] * sample_size_total), sample_size_per_building_type_and_energy_class_minimum)\n",
    "\n",
    "    # Now take a random sample of size n from the buildings DataFrame within this combination of building type and energy class\n",
    "    buildings_subset = buildings[(buildings[\"building_type\"] == row[\"building_type\"]) & (buildings[\"energy_class\"] == row[\"energy_class\"])]\n",
    "    sample_subset = buildings_subset.sample(n=len(buildings_subset) if len(buildings_subset) < sample_size else sample_size)\n",
    "\n",
    "    # Now add this DataFrame to the sample DataFrame\n",
    "    buildings_sample = pd.concat([buildings_sample, sample_subset])\n",
    "\n",
    "# Reset the index of the buildings_subset_df DataFrame\n",
    "buildings_sample = buildings_sample.reset_index(drop=True)\n",
    "\n",
    "# Drop all columns that are dependent on scenario parameters\n",
    "buildings_sample = buildings_sample.drop(buildings.columns[18:], axis=1)\n",
    "\n",
    "# Write the subset of buildings to a GeoPackage file\n",
    "buildings_sample.to_file(building_sample_output_path, layer=building_sample_layer_name, driver=\"GPKG\")"
   ]
  },
  {
   "cell_type": "markdown",
   "metadata": {},
   "source": [
    "#### Equally sized samples per building type"
   ]
  },
  {
   "cell_type": "code",
   "execution_count": null,
   "metadata": {},
   "outputs": [],
   "source": [
    "sample_size_per_building_type = 250  # The total number of buildings to sample per building type\n",
    "building_sample_output_path = (\n",
    "    \"data/output/geodata/BAG_buildings_with_residence_data_sample_2000_equal_bins_building_types.gpkg\"  # The path to the output file containing the sample of buildings\n",
    ")\n",
    "building_sample_layer_name = \"BAG_buildings_sample_2000_equal_bins_building_types\"  # The name of the layer in the output file containing the sample of buildings\n",
    "buildings_sample = None  # The DataFrame containing the sample of buildings\n",
    "\n",
    "# Loop over the building types\n",
    "for building_type in buildings[\"building_type\"].unique():\n",
    "    # Now take a random sample of size n from the buildings DataFrame within this building type\n",
    "    buildings_subset = buildings[(buildings[\"building_type\"] == building_type)]\n",
    "    sample_subset = buildings_subset.sample(n=len(buildings_subset) if len(buildings_subset) < sample_size_per_building_type else sample_size_per_building_type)\n",
    "\n",
    "    # Now add this DataFrame to the sample DataFrame\n",
    "    buildings_sample = pd.concat([buildings_sample, sample_subset])\n",
    "\n",
    "# Reset the index of the buildings_subset_df DataFrame\n",
    "buildings_sample = buildings_sample.reset_index(drop=True)\n",
    "\n",
    "# Drop all columns that are dependent on scenario parameters\n",
    "buildings_sample = buildings_sample.drop(buildings.columns[18:], axis=1)\n",
    "\n",
    "# Write the subset of buildings to a GeoPackage file\n",
    "buildings_sample.to_file(building_sample_output_path, layer=building_sample_layer_name, driver=\"GPKG\")"
   ]
  },
  {
   "cell_type": "markdown",
   "metadata": {},
   "source": [
    "### Compare impacts of scenarios"
   ]
  },
  {
   "cell_type": "code",
   "execution_count": null,
   "metadata": {},
   "outputs": [],
   "source": [
    "impact_summaries = {}\n",
    "\n",
    "for scenario in [\"SQ\", \"2030\", \"2050_L\", \"2050_M\", \"2050_H\"]:\n",
    "    # Scenario-dependent parameters\n",
    "    SCENARIO_FOLDER = Path(f\"data/input/parameters/parameters_{scenario}\")  # The folder containing the scenario specific parameters\n",
    "    PARAMETERS_GLOBAL_PATH = SCENARIO_FOLDER / Path(\"parameters_global.csv\")  # The file containing the global parameters\n",
    "    PARAMETERS_BUILDING_TYPE_PATH = SCENARIO_FOLDER / Path(\"parameters_building_type.csv\")  # The file containing the building type dependent parameters\n",
    "    PARAMETERS_ENERGY_CLASS_PATH = SCENARIO_FOLDER / Path(\"parameters_energy_class.csv\")  # The file containing the energy class dependent parameters\n",
    "    PARAMETERS_COOLING_TECHNOLOGY_PATH = SCENARIO_FOLDER / Path(\"parameters_cooling_technology.csv\")  # The file containing the cooling technology dependent parameters\n",
    "\n",
    "    # Load static parameters such as physical constants, building type- and energy label-dependant parameters\n",
    "    PARAMETERS_GLOBAL = read_global_parameters(PARAMETERS_GLOBAL_PATH)\n",
    "    PARAMETERS_BUILDING_TYPE = read_parameter_specific_data(PARAMETERS_BUILDING_TYPE_PATH)\n",
    "    PARAMETERS_ENERGY_CLASS = read_parameter_specific_data(PARAMETERS_ENERGY_CLASS_PATH)\n",
    "    PARAMETERS_COOLING_TECHNOLOGY = read_parameter_specific_data(PARAMETERS_COOLING_TECHNOLOGY_PATH)\n",
    "\n",
    "    # Load the building data containing the building geometries and simple building parameters\n",
    "    buildings = read_buildings(BAG_DATA_INPUT_PATH, BAG_DATA_LAYER_NAME)\n",
    "\n",
    "    # Assign the building parameters\n",
    "    buildings = add_parameters_to_buildings(buildings, PARAMETERS_GLOBAL, PARAMETERS_BUILDING_TYPE, PARAMETERS_ENERGY_CLASS)\n",
    "\n",
    "    # Build the cooling technologies DataFrame\n",
    "    cooling_technologies = calculate_environmental_parameters_for_cooling_technologies(PARAMETERS_COOLING_TECHNOLOGY, PARAMETERS_GLOBAL)\n",
    "\n",
    "    # Assign the cooling technology parameters to the buildings\n",
    "    buildings = add_cooling_technology_data_to_buildings(buildings, cooling_technologies)\n",
    "\n",
    "    # Create time series for weather series and other hourly data\n",
    "    time_series = create_time_series(PARAMETERS_GLOBAL, raw_weather_data, MULTIDIRECTIONAL_SOLAR_RADIATION_FRACTIONS_PATH, PRESENCE_LOAD_FACTORS_PATH)\n",
    "\n",
    "    # Calculate the cooling demand in one go, including the cooling demand time series if INCLUDE_TIME_SERIES_IN_DATAFRAME is set to True\n",
    "    buildings = calc_cooling_demand_metrics_for_df(buildings, time_series, PARAMETERS_GLOBAL, INCLUDE_TIME_SERIES_IN_DATAFRAME)\n",
    "\n",
    "    # Calculate the environmental impacts\n",
    "    buildings, impact_summary = calculate_environmental_impacts_from_cooling_demand(buildings, PARAMETERS_GLOBAL)\n",
    "    impact_summaries[scenario] = impact_summary"
   ]
  },
  {
   "cell_type": "markdown",
   "metadata": {},
   "source": [
    "## Comfort Optimization Assessments"
   ]
  },
  {
   "cell_type": "markdown",
   "metadata": {},
   "source": [
    "### Effective cooling temperature\n",
    "Analyze the influence of the effective cooling temperature (or threshold temperature) on the energy demand, GHG emissions and material demand"
   ]
  },
  {
   "cell_type": "code",
   "execution_count": null,
   "metadata": {},
   "outputs": [],
   "source": [
    "# Fetch the value for T_thresh_C for all scenarios\n",
    "reference_values_T_thresh_C = {\n",
    "    \"SQ\": global_param_dict[\"SQ\"][\"T_thresh_C\"],\n",
    "    \"2030\": global_param_dict[\"2030\"][\"T_thresh_C\"],\n",
    "    \"2050_L\": global_param_dict[\"2050_L\"][\"T_thresh_C\"],\n",
    "    \"2050_M\": global_param_dict[\"2050_M\"][\"T_thresh_C\"],\n",
    "    \"2050_H\": global_param_dict[\"2050_H\"][\"T_thresh_C\"],\n",
    "}"
   ]
  },
  {
   "cell_type": "code",
   "execution_count": null,
   "metadata": {},
   "outputs": [],
   "source": [
    "# Run sensitivity analysis for the T_thresh_C parameter (the effective cooling temperature)\n",
    "SA_results_T_thresh_C = run_SA_for_variable_in_global_parameters(\n",
    "    variable_name=\"T_thresh_C\",\n",
    "    variable_start=15,\n",
    "    variable_end=30,\n",
    "    global_parameters=PARAMETERS_GLOBAL,\n",
    "    static_parameters={\n",
    "        \"buildings\": buildings,\n",
    "        \"raw_weather_data\": raw_weather_data,\n",
    "        \"building_type_parameters\": PARAMETERS_BUILDING_TYPE,\n",
    "        \"energy_class_parameters\": PARAMETERS_ENERGY_CLASS,\n",
    "        \"cooling_technology_parameters\": PARAMETERS_COOLING_TECHNOLOGY,\n",
    "        \"multi_directional_solar_radiation_fractions_path\": MULTIDIRECTIONAL_SOLAR_RADIATION_FRACTIONS_PATH,\n",
    "        \"presence_load_factors_path\": PRESENCE_LOAD_FACTORS_PATH,\n",
    "    },\n",
    "    calculation_steps=200,\n",
    ")"
   ]
  },
  {
   "cell_type": "code",
   "execution_count": null,
   "metadata": {},
   "outputs": [],
   "source": [
    "# Post-process the sensitivity analysis results\n",
    "post_process_SA_results(\n",
    "    SA_results=SA_results_T_thresh_C,\n",
    "    reference_values=reference_values_T_thresh_C,\n",
    "    variable_name_print=\"effective cooling temperature\",\n",
    "    variable_unit_print=\"°C\",\n",
    "    round_to=0,\n",
    "    include_scenario_lines_in_plots=True,\n",
    ")"
   ]
  },
  {
   "cell_type": "markdown",
   "metadata": {},
   "source": [
    "### Cooling demand cap percentile\n",
    "Analyze the influence of the percentile at which the cooling demand is capped on the energy demand, GHG emissions and material demand"
   ]
  },
  {
   "cell_type": "code",
   "execution_count": null,
   "metadata": {},
   "outputs": [],
   "source": [
    "# Run sensitivity analysis\n",
    "SA_results_cooling_demand_cap_percentile = run_SA_for_variable_in_global_parameters(\n",
    "    variable_name=\"peak_cooling_percentile_cap\",\n",
    "    variable_start=80,\n",
    "    variable_end=99.9,\n",
    "    global_parameters=PARAMETERS_GLOBAL,\n",
    "    static_parameters={\n",
    "        \"buildings\": buildings,\n",
    "        \"raw_weather_data\": raw_weather_data,\n",
    "        \"building_type_parameters\": PARAMETERS_BUILDING_TYPE,\n",
    "        \"energy_class_parameters\": PARAMETERS_ENERGY_CLASS,\n",
    "        \"cooling_technology_parameters\": PARAMETERS_COOLING_TECHNOLOGY,\n",
    "        \"multi_directional_solar_radiation_fractions_path\": MULTIDIRECTIONAL_SOLAR_RADIATION_FRACTIONS_PATH,\n",
    "        \"presence_load_factors_path\": PRESENCE_LOAD_FACTORS_PATH,\n",
    "    },\n",
    "    calculation_steps=250,\n",
    ")"
   ]
  },
  {
   "cell_type": "code",
   "execution_count": null,
   "metadata": {},
   "outputs": [],
   "source": [
    "# Fetch the value for the cooling demand cap percentile for all scenarios\n",
    "reference_values_cooling_demand_cap_percentile = {\n",
    "    \"SQ\": global_param_dict[\"SQ\"][\"peak_cooling_percentile_cap\"],\n",
    "    \"2030\": global_param_dict[\"2030\"][\"peak_cooling_percentile_cap\"],\n",
    "    \"2050_L\": global_param_dict[\"2050_L\"][\"peak_cooling_percentile_cap\"],\n",
    "    \"2050_M\": global_param_dict[\"2050_M\"][\"peak_cooling_percentile_cap\"],\n",
    "    \"2050_H\": global_param_dict[\"2050_H\"][\"peak_cooling_percentile_cap\"],\n",
    "}"
   ]
  },
  {
   "cell_type": "code",
   "execution_count": null,
   "metadata": {},
   "outputs": [],
   "source": [
    "# Post-process the sensitivity analysis results\n",
    "post_process_SA_results(\n",
    "    SA_results=SA_results_cooling_demand_cap_percentile,\n",
    "    reference_values=reference_values_cooling_demand_cap_percentile,\n",
    "    variable_name_print=\"cooling power cap percentile\",\n",
    "    variable_unit_print=\"%\",\n",
    "    round_to=0,\n",
    "    include_scenario_lines_in_plots=False,\n",
    ")"
   ]
  },
  {
   "cell_type": "markdown",
   "metadata": {},
   "source": [
    "## Climate-impact sensitivity analyses"
   ]
  },
  {
   "cell_type": "markdown",
   "metadata": {},
   "source": [
    "### UHI effect\n",
    "Analyze the influence of the UHI effect (both night and day values) on the energy demand, GHG emissions and material demand"
   ]
  },
  {
   "cell_type": "markdown",
   "metadata": {},
   "source": [
    "#### UHI effect (day)"
   ]
  },
  {
   "cell_type": "code",
   "execution_count": null,
   "metadata": {},
   "outputs": [],
   "source": [
    "# Run sensitivity analysis for the UHI effect during the day\n",
    "\n",
    "SA_results_UHI_effect_day = run_SA_for_variable_in_global_parameters(\n",
    "    variable_name=\"UHI_effect_day_C\",\n",
    "    variable_start=0,\n",
    "    variable_end=15,\n",
    "    global_parameters=PARAMETERS_GLOBAL,\n",
    "    static_parameters={\n",
    "        \"buildings\": buildings,\n",
    "        \"raw_weather_data\": raw_weather_data,\n",
    "        \"building_type_parameters\": PARAMETERS_BUILDING_TYPE,\n",
    "        \"energy_class_parameters\": PARAMETERS_ENERGY_CLASS,\n",
    "        \"cooling_technology_parameters\": PARAMETERS_COOLING_TECHNOLOGY,\n",
    "        \"multi_directional_solar_radiation_fractions_path\": MULTIDIRECTIONAL_SOLAR_RADIATION_FRACTIONS_PATH,\n",
    "        \"presence_load_factors_path\": PRESENCE_LOAD_FACTORS_PATH,\n",
    "    },\n",
    "    calculation_steps=100,\n",
    ")"
   ]
  },
  {
   "cell_type": "code",
   "execution_count": null,
   "metadata": {},
   "outputs": [],
   "source": [
    "SA_results_UHI_effect_day"
   ]
  },
  {
   "cell_type": "code",
   "execution_count": null,
   "metadata": {},
   "outputs": [],
   "source": [
    "13.13138\t/41.21498"
   ]
  },
  {
   "cell_type": "code",
   "execution_count": null,
   "metadata": {},
   "outputs": [],
   "source": [
    "# Fetch the value for UHI_effect_day_C for all scenarios\n",
    "reference_values_UHI_effect_day = {\n",
    "    \"SQ\": global_param_dict[\"SQ\"][\"UHI_effect_day_C\"],\n",
    "    \"2030\": global_param_dict[\"2030\"][\"UHI_effect_day_C\"],\n",
    "    \"2050_L\": global_param_dict[\"2050_L\"][\"UHI_effect_day_C\"],\n",
    "    \"2050_M\": global_param_dict[\"2050_M\"][\"UHI_effect_day_C\"],\n",
    "    \"2050_H\": global_param_dict[\"2050_H\"][\"UHI_effect_day_C\"],\n",
    "}"
   ]
  },
  {
   "cell_type": "code",
   "execution_count": null,
   "metadata": {},
   "outputs": [],
   "source": [
    "# Post-process the sensitivity analysis results\n",
    "post_process_SA_results(\n",
    "    SA_results=SA_results_UHI_effect_day,\n",
    "    reference_values=reference_values_UHI_effect_day,\n",
    "    variable_name_print=\"daytime UHI effect\",\n",
    "    variable_unit_print=\"°C\",\n",
    "    round_to=1,\n",
    "    include_scenario_lines_in_plots=True,\n",
    ")"
   ]
  },
  {
   "cell_type": "markdown",
   "metadata": {},
   "source": [
    "Investigate the difference in impact between the UHI effect on a hot summer's day (8.3 °C) and the annual average daytime UHI effect (1.2 °C)"
   ]
  },
  {
   "cell_type": "code",
   "execution_count": null,
   "metadata": {},
   "outputs": [],
   "source": [
    "# Find the variable value in the sensitivity analysis closest to the reference value\n",
    "ref_value_in_SA_results_UHI_effect_day = SA_results_UHI_effect_day.index[(np.abs(SA_results_UHI_effect_day.index - PARAMETERS_GLOBAL[\"UHI_effect_day_C\"])).argmin()]\n",
    "\n",
    "# Normalize the results to the value used for the independent variable in the reference scenario\n",
    "SA_results_UHI_effect_day_normalized = normalize_SA_results(SA_results_UHI_effect_day, ref_value_in_SA_results_UHI_effect_day)"
   ]
  },
  {
   "cell_type": "code",
   "execution_count": null,
   "metadata": {},
   "outputs": [],
   "source": [
    "variable_name_print_UHI_effect_day = \"daytime UHI effect\"\n",
    "variable_unit_print_UHI_effect_day = \"°C\"\n",
    "x_axis_label_UHI_effect_day = variable_name_print_UHI_effect_day[0].upper() + variable_name_print_UHI_effect_day[1:] + f\" ({variable_unit_print_UHI_effect_day})\""
   ]
  },
  {
   "cell_type": "code",
   "execution_count": null,
   "metadata": {},
   "outputs": [],
   "source": [
    "SA_results_UHI_effect_day.iloc[:, -3:].plot(subplots=True, figsize=(9, 6), sharex=True)  # Initialize the plot\n",
    "plt.suptitle(\"Influence of daytime UHI effect on impacts\")  # Add a title to the plot\n",
    "for ax in plt.gcf().axes:  # Add the line indicating the reference value in each subplot\n",
    "    ax.axvline(\n",
    "        x=reference_values_UHI_effect_day[\"SQ\"], color=\"dimgray\", linestyle=\"dotted\", alpha=0.7, label=\"Value in reference scenario:\\nUHI effect on a hot summer's day (8.3 °C)\"\n",
    "    )\n",
    "    ax.axvline(x=1.2, color=\"green\", linestyle=\"dotted\", alpha=0.7, label=\"Annual average daytime UHI effect (1.2 °C)\")\n",
    "plt.gcf().axes[0].legend(\n",
    "    bbox_to_anchor=(1, 1),\n",
    "    loc=\"upper right\",\n",
    "    # borderaxespad=0,\n",
    ")  # Add a legend for the reference value to the first subplot\n",
    "plt.xlabel(x_axis_label_UHI_effect_day)  # Add the x-axis label\n",
    "plt.tight_layout()  # Make sure the subplots don't overlap\n",
    "plt.savefig(f\"data/output/images/SA/SA_results_{variable_name_print_UHI_effect_day.replace(' ', '_')}_with_1_2_C_line.png\", dpi=300, bbox_inches=\"tight\")  # Save the figure\n",
    "plt.show()  # Show the plot to the console\n",
    "plt.close()"
   ]
  },
  {
   "cell_type": "code",
   "execution_count": null,
   "metadata": {},
   "outputs": [],
   "source": [
    "SA_results_UHI_effect_day_normalized.iloc[:, -3:].plot(subplots=False, figsize=(6, 6), sharex=True)  # Initialize the plot\n",
    "plt.title(f\"Influence of {variable_name_print_UHI_effect_day} on impacts,\\nnormalized to the value at 8.3 °C\")  # Add a title to the plot\n",
    "plt.axvline(\n",
    "    x=reference_values_UHI_effect_day[\"SQ\"], color=\"dimgray\", linestyle=\"dotted\", alpha=0.7, label=\"Value in reference scenario:\\nUHI effect on a hot summer's day (8.3 °C)\"\n",
    ")\n",
    "plt.axvline(x=reference_values_UHI_effect_day[\"2030\"], color=\"dimgray\", linestyle=\"dotted\", alpha=0.7, label=\"Value in 2050 L scenario\")\n",
    "plt.axvline(x=reference_values_UHI_effect_day[\"2050_L\"], color=\"gold\", linestyle=\"dotted\", alpha=0.7, label=\"Value in 2050 L scenario\")\n",
    "plt.axvline(x=reference_values_UHI_effect_day[\"2050_M\"], color=\"darkorange\", linestyle=\"dotted\", alpha=0.7, label=\"Value in 2050 M scenario\")\n",
    "plt.axvline(x=reference_values_UHI_effect_day[\"2050_H\"], color=\"red\", linestyle=\"dotted\", alpha=0.7, label=\"Value in 2050 H scenario\")\n",
    "plt.axvline(x=1.2, color=\"green\", linestyle=\"dotted\", alpha=0.7, label=\"Annual average daytime UHI effect (1.2 °C)\")\n",
    "plt.xlabel(x_axis_label_UHI_effect_day)  # Add the x-axis label\n",
    "plt.legend()  # Add a legend to the plot\n",
    "plt.tight_layout()  # Make sure the subplots don't overlap\n",
    "plt.savefig(\n",
    "    f\"data/output/images/SA/SA_results_{variable_name_print_UHI_effect_day.replace(' ', '_')}_normalized_with_1_2_C_line.png\",\n",
    "    dpi=300,\n",
    "    bbox_inches=\"tight\",\n",
    ")  # Save the figure\n",
    "plt.show()  # Show the plot to the console\n",
    "plt.close()"
   ]
  },
  {
   "cell_type": "markdown",
   "metadata": {},
   "source": [
    "#### UHI effect (night)"
   ]
  },
  {
   "cell_type": "code",
   "execution_count": null,
   "metadata": {},
   "outputs": [],
   "source": [
    "# Run sensitivity analysis for the UHI effect during the night\n",
    "SA_results_UHI_effect_night = run_SA_for_variable_in_global_parameters(\n",
    "    variable_name=\"UHI_effect_night_C\",\n",
    "    variable_start=0,\n",
    "    variable_end=15,\n",
    "    global_parameters=PARAMETERS_GLOBAL,\n",
    "    static_parameters={\n",
    "        \"buildings\": buildings,\n",
    "        \"raw_weather_data\": raw_weather_data,\n",
    "        \"building_type_parameters\": PARAMETERS_BUILDING_TYPE,\n",
    "        \"energy_class_parameters\": PARAMETERS_ENERGY_CLASS,\n",
    "        \"cooling_technology_parameters\": PARAMETERS_COOLING_TECHNOLOGY,\n",
    "        \"multi_directional_solar_radiation_fractions_path\": MULTIDIRECTIONAL_SOLAR_RADIATION_FRACTIONS_PATH,\n",
    "        \"presence_load_factors_path\": PRESENCE_LOAD_FACTORS_PATH,\n",
    "    },\n",
    "    calculation_steps=100,\n",
    ")"
   ]
  },
  {
   "cell_type": "code",
   "execution_count": null,
   "metadata": {},
   "outputs": [],
   "source": [
    "# Fetch the value for UHI_effect_night_C for all scenarios\n",
    "reference_values_UHI_effect_night_C = {\n",
    "    \"SQ\": global_param_dict[\"SQ\"][\"UHI_effect_night_C\"],\n",
    "    \"2030\": global_param_dict[\"2030\"][\"UHI_effect_night_C\"],\n",
    "    \"2050_L\": global_param_dict[\"2050_L\"][\"UHI_effect_night_C\"],\n",
    "    \"2050_M\": global_param_dict[\"2050_M\"][\"UHI_effect_night_C\"],\n",
    "    \"2050_H\": global_param_dict[\"2050_H\"][\"UHI_effect_night_C\"],\n",
    "}"
   ]
  },
  {
   "cell_type": "code",
   "execution_count": null,
   "metadata": {},
   "outputs": [],
   "source": [
    "# Post-process the sensitivity analysis results\n",
    "post_process_SA_results(\n",
    "    SA_results=SA_results_UHI_effect_night,\n",
    "    reference_values=reference_values_UHI_effect_night_C,\n",
    "    variable_name_print=\"nighttime UHI effect\",\n",
    "    variable_unit_print=\"°C\",\n",
    "    round_to=1,\n",
    "    include_scenario_lines_in_plots=True,\n",
    ")"
   ]
  },
  {
   "cell_type": "markdown",
   "metadata": {},
   "source": [
    "### Outside air temperature increase"
   ]
  },
  {
   "cell_type": "markdown",
   "metadata": {},
   "source": [
    "#### Springtime temperature shift"
   ]
  },
  {
   "cell_type": "code",
   "execution_count": null,
   "metadata": {},
   "outputs": [],
   "source": [
    "# Run sensitivity analysis for the springtime temperature shift\n",
    "SA_results_delta_T_spring = run_SA_for_variable_in_global_parameters(\n",
    "    variable_name=\"delta_T_spring_C\",\n",
    "    variable_start=0,\n",
    "    variable_end=4,\n",
    "    global_parameters=PARAMETERS_GLOBAL,\n",
    "    static_parameters={\n",
    "        \"buildings\": buildings,\n",
    "        \"raw_weather_data\": raw_weather_data,\n",
    "        \"building_type_parameters\": PARAMETERS_BUILDING_TYPE,\n",
    "        \"energy_class_parameters\": PARAMETERS_ENERGY_CLASS,\n",
    "        \"cooling_technology_parameters\": PARAMETERS_COOLING_TECHNOLOGY,\n",
    "        \"multi_directional_solar_radiation_fractions_path\": MULTIDIRECTIONAL_SOLAR_RADIATION_FRACTIONS_PATH,\n",
    "        \"presence_load_factors_path\": PRESENCE_LOAD_FACTORS_PATH,\n",
    "    },\n",
    ")"
   ]
  },
  {
   "cell_type": "code",
   "execution_count": null,
   "metadata": {},
   "outputs": [],
   "source": [
    "# Post-process the sensitivity analysis results\n",
    "post_process_SA_results(\n",
    "    SA_results=SA_results_delta_T_spring,\n",
    "    reference_value=PARAMETERS_GLOBAL[\"delta_T_spring_C\"],\n",
    "    variable_name_print=\"springtime temperature shift\",\n",
    "    variable_unit_print=\"°C\",\n",
    "    round_to=1,\n",
    ")"
   ]
  },
  {
   "cell_type": "markdown",
   "metadata": {},
   "source": [
    "#### Summertime temperature"
   ]
  },
  {
   "cell_type": "code",
   "execution_count": null,
   "metadata": {},
   "outputs": [],
   "source": [
    "# Run sensitivity analysis for the summertime temperature shift\n",
    "SA_results_T_summer = run_SA_for_variable_in_global_parameters(\n",
    "    variable_name=\"delta_T_summer_C\",\n",
    "    variable_start=-2,\n",
    "    variable_end=8,\n",
    "    global_parameters=PARAMETERS_GLOBAL,\n",
    "    static_parameters={\n",
    "        \"buildings\": buildings,\n",
    "        \"raw_weather_data\": raw_weather_data,\n",
    "        \"building_type_parameters\": PARAMETERS_BUILDING_TYPE,\n",
    "        \"energy_class_parameters\": PARAMETERS_ENERGY_CLASS,\n",
    "        \"cooling_technology_parameters\": PARAMETERS_COOLING_TECHNOLOGY,\n",
    "        \"multi_directional_solar_radiation_fractions_path\": MULTIDIRECTIONAL_SOLAR_RADIATION_FRACTIONS_PATH,\n",
    "        \"presence_load_factors_path\": PRESENCE_LOAD_FACTORS_PATH,\n",
    "    },\n",
    "    calculation_steps=100,\n",
    ")"
   ]
  },
  {
   "cell_type": "code",
   "execution_count": null,
   "metadata": {},
   "outputs": [],
   "source": [
    "# Fetch the average temperature during summer months from the raw weather data\n",
    "average_T_summer_C = raw_weather_data[raw_weather_data[\"date\"].dt.month.isin([6, 7, 8])][\"T_outdoor_raw_C\"].mean()\n",
    "\n",
    "# Adding the average temperature during summer months to the index of the SA results DataFrame\n",
    "SA_results_T_summer = SA_results_T_summer.set_index(SA_results_T_summer.index + average_T_summer_C)"
   ]
  },
  {
   "cell_type": "code",
   "execution_count": null,
   "metadata": {},
   "outputs": [],
   "source": [
    "# Fetch the value for the summer temperature for all scenarios\n",
    "reference_values_T_summer = {\n",
    "    \"SQ\": global_param_dict[\"SQ\"][\"delta_T_summer_C\"] + average_T_summer_C,\n",
    "    \"2030\": global_param_dict[\"2030\"][\"delta_T_summer_C\"] + average_T_summer_C,\n",
    "    \"2050_L\": global_param_dict[\"2050_L\"][\"delta_T_summer_C\"] + average_T_summer_C,\n",
    "    \"2050_M\": global_param_dict[\"2050_M\"][\"delta_T_summer_C\"] + average_T_summer_C,\n",
    "    \"2050_H\": global_param_dict[\"2050_H\"][\"delta_T_summer_C\"] + average_T_summer_C,\n",
    "}"
   ]
  },
  {
   "cell_type": "code",
   "execution_count": null,
   "metadata": {},
   "outputs": [],
   "source": [
    "# Post-process the sensitivity analysis results\n",
    "post_process_SA_results(\n",
    "    SA_results=SA_results_T_summer,\n",
    "    reference_values=reference_values_T_summer,\n",
    "    variable_name_print=\"average summertime temperature\",\n",
    "    variable_unit_print=\"°C\",\n",
    "    round_to=1,\n",
    ")"
   ]
  },
  {
   "cell_type": "markdown",
   "metadata": {},
   "source": [
    "#### Autumn time temperature shift"
   ]
  },
  {
   "cell_type": "code",
   "execution_count": null,
   "metadata": {},
   "outputs": [],
   "source": [
    "# Run sensitivity analysis for the autumn time temperature shift\n",
    "SA_results_delta_T_autumn = run_SA_for_variable_in_global_parameters(\n",
    "    variable_name=\"delta_T_autumn_C\",\n",
    "    variable_start=0,\n",
    "    variable_end=4,\n",
    "    global_parameters=PARAMETERS_GLOBAL,\n",
    "    static_parameters={\n",
    "        \"buildings\": buildings,\n",
    "        \"raw_weather_data\": raw_weather_data,\n",
    "        \"building_type_parameters\": PARAMETERS_BUILDING_TYPE,\n",
    "        \"energy_class_parameters\": PARAMETERS_ENERGY_CLASS,\n",
    "        \"cooling_technology_parameters\": PARAMETERS_COOLING_TECHNOLOGY,\n",
    "        \"multi_directional_solar_radiation_fractions_path\": MULTIDIRECTIONAL_SOLAR_RADIATION_FRACTIONS_PATH,\n",
    "        \"presence_load_factors_path\": PRESENCE_LOAD_FACTORS_PATH,\n",
    "    },\n",
    ")"
   ]
  },
  {
   "cell_type": "code",
   "execution_count": null,
   "metadata": {},
   "outputs": [],
   "source": [
    "# Post-process the sensitivity analysis results\n",
    "post_process_SA_results(\n",
    "    SA_results=SA_results_delta_T_autumn,\n",
    "    reference_value=PARAMETERS_GLOBAL[\"delta_T_autumn_C\"],\n",
    "    variable_name_print=\"autumn-time temperature shift\",\n",
    "    variable_unit_print=\"°C\",\n",
    "    round_to=1,\n",
    ")"
   ]
  },
  {
   "cell_type": "markdown",
   "metadata": {},
   "source": [
    "#### Wintertime temperature shift"
   ]
  },
  {
   "cell_type": "code",
   "execution_count": null,
   "metadata": {},
   "outputs": [],
   "source": [
    "# Run sensitivity analysis for the wintertime temperature shift\n",
    "SA_results_delta_T_winter = run_SA_for_variable_in_global_parameters(\n",
    "    variable_name=\"delta_T_winter_C\",\n",
    "    variable_start=0,\n",
    "    variable_end=4,\n",
    "    global_parameters=PARAMETERS_GLOBAL,\n",
    "    static_parameters={\n",
    "        \"buildings\": buildings,\n",
    "        \"raw_weather_data\": raw_weather_data,\n",
    "        \"building_type_parameters\": PARAMETERS_BUILDING_TYPE,\n",
    "        \"energy_class_parameters\": PARAMETERS_ENERGY_CLASS,\n",
    "        \"cooling_technology_parameters\": PARAMETERS_COOLING_TECHNOLOGY,\n",
    "        \"multi_directional_solar_radiation_fractions_path\": MULTIDIRECTIONAL_SOLAR_RADIATION_FRACTIONS_PATH,\n",
    "        \"presence_load_factors_path\": PRESENCE_LOAD_FACTORS_PATH,\n",
    "    },\n",
    ")"
   ]
  },
  {
   "cell_type": "code",
   "execution_count": null,
   "metadata": {},
   "outputs": [],
   "source": [
    "# Post-process the sensitivity analysis results\n",
    "post_process_SA_results(\n",
    "    SA_results=SA_results_delta_T_winter,\n",
    "    reference_value=PARAMETERS_GLOBAL[\"delta_T_winter_C\"],\n",
    "    variable_name_print=\"wintertime temperature shift\",\n",
    "    variable_unit_print=\"°C\",\n",
    "    round_to=1,\n",
    ")"
   ]
  },
  {
   "cell_type": "markdown",
   "metadata": {},
   "source": [
    "### Solar radiation"
   ]
  },
  {
   "cell_type": "markdown",
   "metadata": {},
   "source": [
    "#### Solar radiation during summer"
   ]
  },
  {
   "cell_type": "code",
   "execution_count": null,
   "metadata": {},
   "outputs": [],
   "source": [
    "# Run sensitivity analysis for the solar radiation during summer\n",
    "SA_results_solar_radiation_summer = run_SA_for_variable_in_global_parameters(\n",
    "    variable_name=\"delta_P_solar_summer\",\n",
    "    variable_start=-0.01,\n",
    "    variable_end=0.1,\n",
    "    global_parameters=PARAMETERS_GLOBAL,\n",
    "    static_parameters={\n",
    "        \"buildings\": buildings,\n",
    "        \"raw_weather_data\": raw_weather_data,\n",
    "        \"building_type_parameters\": PARAMETERS_BUILDING_TYPE,\n",
    "        \"energy_class_parameters\": PARAMETERS_ENERGY_CLASS,\n",
    "        \"cooling_technology_parameters\": PARAMETERS_COOLING_TECHNOLOGY,\n",
    "        \"multi_directional_solar_radiation_fractions_path\": MULTIDIRECTIONAL_SOLAR_RADIATION_FRACTIONS_PATH,\n",
    "        \"presence_load_factors_path\": PRESENCE_LOAD_FACTORS_PATH,\n",
    "    },\n",
    ")"
   ]
  },
  {
   "cell_type": "code",
   "execution_count": null,
   "metadata": {},
   "outputs": [],
   "source": [
    "# Fetch the average solar radiation during summer months from the reference time series\n",
    "time_series_df = pd.DataFrame(time_series)\n",
    "average_solar_radiation_summer_W_m2 = time_series_df[time_series_df[\"date\"].dt.month.isin([6, 7, 8])][\"P_sol_total_W_m2\"].mean()\n",
    "\n",
    "# Adding the average_solar_radiation_summer_W_m2 to the index of SA_results_solar_radiation_summer\n",
    "SA_results_solar_radiation_summer = SA_results_solar_radiation_summer.set_index((SA_results_solar_radiation_summer.index + 1) * average_solar_radiation_summer_W_m2)"
   ]
  },
  {
   "cell_type": "code",
   "execution_count": null,
   "metadata": {},
   "outputs": [],
   "source": [
    "# Fetch the value for the solar radiation during summer months for all scenarios\n",
    "reference_values_solar_radiation_summer = {\n",
    "    \"SQ\": (global_param_dict[\"SQ\"][\"delta_P_solar_summer\"] + 1) * average_solar_radiation_summer_W_m2,\n",
    "    \"2030\": (global_param_dict[\"2030\"][\"delta_P_solar_summer\"] + 1) * average_solar_radiation_summer_W_m2,\n",
    "    \"2050_L\": (global_param_dict[\"2050_L\"][\"delta_P_solar_summer\"] + 1) * average_solar_radiation_summer_W_m2,\n",
    "    \"2050_M\": (global_param_dict[\"2050_M\"][\"delta_P_solar_summer\"] + 1) * average_solar_radiation_summer_W_m2,\n",
    "    \"2050_H\": (global_param_dict[\"2050_H\"][\"delta_P_solar_summer\"] + 1) * average_solar_radiation_summer_W_m2,\n",
    "}"
   ]
  },
  {
   "cell_type": "code",
   "execution_count": null,
   "metadata": {},
   "outputs": [],
   "source": [
    "# Post-process the sensitivity analysis results\n",
    "post_process_SA_results(\n",
    "    SA_results=SA_results_solar_radiation_summer,\n",
    "    reference_values=reference_values_solar_radiation_summer,\n",
    "    variable_name_print=\"average summertime solar radiation\",\n",
    "    variable_unit_print=\"W/m2\",\n",
    "    round_to=1,\n",
    ")"
   ]
  },
  {
   "cell_type": "markdown",
   "metadata": {},
   "source": [
    "#### Solar radiation during the rest of the year"
   ]
  },
  {
   "cell_type": "code",
   "execution_count": null,
   "metadata": {},
   "outputs": [],
   "source": [
    "# Run sensitivity analysis for the solar radiation during the rest of the year\n",
    "SA_results_solar_radiation_RoY = run_SA_for_variable_in_global_parameters(\n",
    "    variable_name=\"delta_P_solar_RoY\",\n",
    "    variable_start=-0.01,\n",
    "    variable_end=0.1,\n",
    "    global_parameters=PARAMETERS_GLOBAL,\n",
    "    static_parameters={\n",
    "        \"buildings\": buildings,\n",
    "        \"raw_weather_data\": raw_weather_data,\n",
    "        \"building_type_parameters\": PARAMETERS_BUILDING_TYPE,\n",
    "        \"energy_class_parameters\": PARAMETERS_ENERGY_CLASS,\n",
    "        \"cooling_technology_parameters\": PARAMETERS_COOLING_TECHNOLOGY,\n",
    "        \"multi_directional_solar_radiation_fractions_path\": MULTIDIRECTIONAL_SOLAR_RADIATION_FRACTIONS_PATH,\n",
    "        \"presence_load_factors_path\": PRESENCE_LOAD_FACTORS_PATH,\n",
    "    },\n",
    ")"
   ]
  },
  {
   "cell_type": "code",
   "execution_count": null,
   "metadata": {},
   "outputs": [],
   "source": [
    "# Fetch the average solar radiation during the rest of the year from the reference time series\n",
    "time_series_df = pd.DataFrame(time_series)\n",
    "average_solar_radiation_RoY_W_m2 = time_series_df[~time_series_df[\"date\"].dt.month.isin([6, 7, 8])][\"P_sol_total_W_m2\"].mean()\n",
    "\n",
    "# Adding the average_solar_radiation_RoY_W_m2 to the index of average_solar_radiation_RoY_W_m2\n",
    "SA_results_solar_radiation_RoY = SA_results_solar_radiation_RoY.set_index((SA_results_solar_radiation_RoY.index + 1) * average_solar_radiation_RoY_W_m2)"
   ]
  },
  {
   "cell_type": "code",
   "execution_count": null,
   "metadata": {},
   "outputs": [],
   "source": [
    "# Post-process the sensitivity analysis results\n",
    "post_process_SA_results(\n",
    "    SA_results=SA_results_solar_radiation_RoY,\n",
    "    reference_value=((PARAMETERS_GLOBAL[\"delta_P_solar_RoY\"] + 1) * average_solar_radiation_RoY_W_m2),\n",
    "    variable_name_print=\"average rest-of-year solar radiation\",\n",
    "    variable_unit_print=\"W/m2\",\n",
    "    round_to=1,\n",
    ")"
   ]
  },
  {
   "cell_type": "markdown",
   "metadata": {},
   "source": [
    "### Subsurface temperature: static vs dynamic\n",
    "Analysis on the difference in environmental impacts between using a static subsurface temperature vs. using a time-series as input for the CDM"
   ]
  },
  {
   "cell_type": "code",
   "execution_count": null,
   "metadata": {},
   "outputs": [],
   "source": [
    "# Fetch the total cooling energy and power demands calculated with the static subsurface temperature series\n",
    "E_cooling_kWh_total_static_T_sub_C = buildings[\"E_cooling_kWh\"].sum()\n",
    "P_cooling_peak_kW_total_static_T_sub_C = buildings[\"P_cooling_peak_kW\"].sum()\n",
    "\n",
    "# Read the dynamic subsurface temperature series for the reference period\n",
    "subsurface_T_dynamic = read_dynamic_subsurface_temperature(SUBSURFACE_TEMPERATURE_PATH, 2018, 2022)\n",
    "\n",
    "# Create a copy of PARAMETERS_GLOBAL in which T_sub_C is changed to a dynamic subsurface temperature series\n",
    "global_parameters_with_dynamic_T_sub_C = PARAMETERS_GLOBAL.copy()\n",
    "global_parameters_with_dynamic_T_sub_C[\"T_sub_C\"] = subsurface_T_dynamic\n",
    "\n",
    "# Calculate the cooling demand using the dynamic subsurface temperature series\n",
    "buildings_with_dynamic_T_sub_C = calc_cooling_demand_metrics_for_df(buildings, time_series, global_parameters_with_dynamic_T_sub_C)\n",
    "\n",
    "# Read the energy and power demand using the dynamic subsurface temperature series\n",
    "E_cooling_kWh_total_dynamic_T_sub_C = buildings_with_dynamic_T_sub_C[\"E_cooling_kWh\"].sum()\n",
    "P_cooling_peak_kW_total_dynamic_T_sub_C = buildings_with_dynamic_T_sub_C[\"P_cooling_peak_kW\"].sum()\n",
    "\n",
    "# Calculate the relative difference between the total cooling energy and power demands calculated with the dynamic and static subsurface temperature series\n",
    "E_cooling_kWh_total_relative_difference = (E_cooling_kWh_total_dynamic_T_sub_C - E_cooling_kWh_total_static_T_sub_C) / E_cooling_kWh_total_static_T_sub_C\n",
    "P_cooling_peak_kW_total_relative_difference = (P_cooling_peak_kW_total_dynamic_T_sub_C - P_cooling_peak_kW_total_static_T_sub_C) / P_cooling_peak_kW_total_static_T_sub_C\n",
    "\n",
    "# Print the results\n",
    "print(f\"Total cooling energy demand with dynamic subsurface temperature series: {round(E_cooling_kWh_total_dynamic_T_sub_C / 1_000_000, 2):,} GWh\")\n",
    "print(f\"Total cooling energy demand with static subsurface temperature series: {round(E_cooling_kWh_total_static_T_sub_C / 1_000_000, 2):,} GWh\")\n",
    "print(f\"Difference in total energy demand: {round(E_cooling_kWh_total_relative_difference * 100, 2):,} %\")\n",
    "\n",
    "print(f\"Total cooling power demand with dynamic subsurface temperature series: {round(P_cooling_peak_kW_total_dynamic_T_sub_C / 1_000, 2):,} MW\")\n",
    "print(f\"Total cooling power demand with static subsurface temperature series: {round(P_cooling_peak_kW_total_static_T_sub_C / 1_000, 2):,} MW\")\n",
    "print(f\"Difference in total power demand: {round(P_cooling_peak_kW_total_relative_difference * 100, 2):,} %\")"
   ]
  },
  {
   "cell_type": "markdown",
   "metadata": {},
   "source": [
    "## Carbon efficiency sensitivity analyses"
   ]
  },
  {
   "cell_type": "markdown",
   "metadata": {},
   "source": [
    "#### Carbon intensity of electric grid"
   ]
  },
  {
   "cell_type": "code",
   "execution_count": null,
   "metadata": {},
   "outputs": [],
   "source": [
    "# Run sensitivity analysis for the carbon intensity of the electricity grid\n",
    "SA_results_carbon_intensity_grid = run_SA_for_variable_in_global_parameters(\n",
    "    variable_name=\"carbon_intensity_electric_grid_kgCO2eq_kWh\",\n",
    "    variable_start=0,\n",
    "    variable_end=1,\n",
    "    global_parameters=PARAMETERS_GLOBAL,\n",
    "    static_parameters={\n",
    "        \"buildings\": buildings,\n",
    "        \"raw_weather_data\": raw_weather_data,\n",
    "        \"building_type_parameters\": PARAMETERS_BUILDING_TYPE,\n",
    "        \"energy_class_parameters\": PARAMETERS_ENERGY_CLASS,\n",
    "        \"cooling_technology_parameters\": PARAMETERS_COOLING_TECHNOLOGY,\n",
    "        \"multi_directional_solar_radiation_fractions_path\": MULTIDIRECTIONAL_SOLAR_RADIATION_FRACTIONS_PATH,\n",
    "        \"presence_load_factors_path\": PRESENCE_LOAD_FACTORS_PATH,\n",
    "    },\n",
    ")"
   ]
  },
  {
   "cell_type": "code",
   "execution_count": null,
   "metadata": {},
   "outputs": [],
   "source": [
    "# Fetch the value for grid carbon intensities for all scenarios\n",
    "reference_values_carbon_intensity_electric_grid = {\n",
    "    \"SQ\": global_param_dict[\"SQ\"][\"carbon_intensity_electric_grid_kgCO2eq_kWh\"],\n",
    "    \"2030\": global_param_dict[\"2030\"][\"carbon_intensity_electric_grid_kgCO2eq_kWh\"],\n",
    "    \"2050_L\": global_param_dict[\"2050_L\"][\"carbon_intensity_electric_grid_kgCO2eq_kWh\"],\n",
    "    \"2050_M\": global_param_dict[\"2050_M\"][\"carbon_intensity_electric_grid_kgCO2eq_kWh\"],\n",
    "    \"2050_H\": global_param_dict[\"2050_H\"][\"carbon_intensity_electric_grid_kgCO2eq_kWh\"],\n",
    "}"
   ]
  },
  {
   "cell_type": "code",
   "execution_count": null,
   "metadata": {},
   "outputs": [],
   "source": [
    "# Post-process the sensitivity analysis results\n",
    "post_process_SA_results(\n",
    "    SA_results=SA_results_carbon_intensity_grid,\n",
    "    reference_values=reference_values_carbon_intensity_electric_grid,\n",
    "    variable_name_print=\"carbon intensity of the electricity grid\",\n",
    "    variable_unit_print=\"kg CO2eq/kWh\",\n",
    "    round_to=3,\n",
    "    include_scenario_lines_in_plots=True,\n",
    ")"
   ]
  },
  {
   "cell_type": "markdown",
   "metadata": {},
   "source": [
    "#### GWP of refrigerant"
   ]
  },
  {
   "cell_type": "code",
   "execution_count": null,
   "metadata": {},
   "outputs": [],
   "source": [
    "# Run sensitivity analysis for the global warming potential of the refrigerants used in the cooling technologies\n",
    "SA_results_gwp_refrigerant = run_SA_for_variable_in_global_parameters(\n",
    "    variable_name=\"gwp_refrigerant_kgCO2eq_kg\",\n",
    "    variable_start=0,\n",
    "    variable_end=20000,\n",
    "    global_parameters=PARAMETERS_GLOBAL,\n",
    "    static_parameters={\n",
    "        \"buildings\": buildings,\n",
    "        \"raw_weather_data\": raw_weather_data,\n",
    "        \"building_type_parameters\": PARAMETERS_BUILDING_TYPE,\n",
    "        \"energy_class_parameters\": PARAMETERS_ENERGY_CLASS,\n",
    "        \"cooling_technology_parameters\": PARAMETERS_COOLING_TECHNOLOGY,\n",
    "        \"multi_directional_solar_radiation_fractions_path\": MULTIDIRECTIONAL_SOLAR_RADIATION_FRACTIONS_PATH,\n",
    "        \"presence_load_factors_path\": PRESENCE_LOAD_FACTORS_PATH,\n",
    "    },\n",
    ")"
   ]
  },
  {
   "cell_type": "code",
   "execution_count": null,
   "metadata": {},
   "outputs": [],
   "source": [
    "# Fetch the value for refrigerant emission factors for all scenarios\n",
    "reference_values_gwp_refrigerant = {\n",
    "    \"SQ\": global_param_dict[\"SQ\"][\"gwp_refrigerant_kgCO2eq_kg\"],\n",
    "    \"2030\": global_param_dict[\"2030\"][\"gwp_refrigerant_kgCO2eq_kg\"],\n",
    "    \"2050_L\": global_param_dict[\"2050_L\"][\"gwp_refrigerant_kgCO2eq_kg\"],\n",
    "    \"2050_M\": global_param_dict[\"2050_M\"][\"gwp_refrigerant_kgCO2eq_kg\"],\n",
    "    \"2050_H\": global_param_dict[\"2050_H\"][\"gwp_refrigerant_kgCO2eq_kg\"],\n",
    "}"
   ]
  },
  {
   "cell_type": "code",
   "execution_count": null,
   "metadata": {},
   "outputs": [],
   "source": [
    "# Post-process the sensitivity analysis results\n",
    "post_process_SA_results(\n",
    "    SA_results=SA_results_gwp_refrigerant,\n",
    "    reference_values=reference_values_gwp_refrigerant,\n",
    "    variable_name_print=\"global warming potential of refrigerant\",\n",
    "    variable_unit_print=\"kg CO2eq/kg\",\n",
    "    round_to=0,\n",
    "    include_scenario_lines_in_plots=True,\n",
    ")"
   ]
  },
  {
   "cell_type": "markdown",
   "metadata": {},
   "source": [
    "#### Carbon intensity of production stage of cooling technologies"
   ]
  },
  {
   "cell_type": "code",
   "execution_count": null,
   "metadata": {},
   "outputs": [],
   "source": [
    "# Run sensitivity analysis for the carbon intensity of the production phase\n",
    "SA_results_carbon_intensity_production = run_SA_for_variable_in_global_parameters(\n",
    "    variable_name=\"carbon_intensity_production_kgCO2eq_kg\",\n",
    "    variable_start=1,\n",
    "    variable_end=10,\n",
    "    global_parameters=PARAMETERS_GLOBAL,\n",
    "    static_parameters={\n",
    "        \"buildings\": buildings,\n",
    "        \"raw_weather_data\": raw_weather_data,\n",
    "        \"building_type_parameters\": PARAMETERS_BUILDING_TYPE,\n",
    "        \"energy_class_parameters\": PARAMETERS_ENERGY_CLASS,\n",
    "        \"cooling_technology_parameters\": PARAMETERS_COOLING_TECHNOLOGY,\n",
    "        \"multi_directional_solar_radiation_fractions_path\": MULTIDIRECTIONAL_SOLAR_RADIATION_FRACTIONS_PATH,\n",
    "        \"presence_load_factors_path\": PRESENCE_LOAD_FACTORS_PATH,\n",
    "    },\n",
    ")"
   ]
  },
  {
   "cell_type": "code",
   "execution_count": null,
   "metadata": {},
   "outputs": [],
   "source": [
    "# Post-process the sensitivity analysis results\n",
    "post_process_SA_results(\n",
    "    SA_results=SA_results_carbon_intensity_production,\n",
    "    reference_value=PARAMETERS_GLOBAL[\"carbon_intensity_production_kgCO2eq_kg\"],\n",
    "    variable_name_print=\"carbon intensity of cooling equipment production\",\n",
    "    variable_unit_print=\"kg CO2eq/kg\",\n",
    "    round_to=3,\n",
    ")"
   ]
  },
  {
   "cell_type": "markdown",
   "metadata": {},
   "source": [
    "#### Carbon intensity of end-of-life phase of cooling technologies"
   ]
  },
  {
   "cell_type": "code",
   "execution_count": null,
   "metadata": {},
   "outputs": [],
   "source": [
    "# Run sensitivity analysis for the carbon intensity of the end-of-life phase\n",
    "SA_results_carbon_intensity_EoL = run_SA_for_variable_in_global_parameters(\n",
    "    variable_name=\"carbon_intensity_EoL_kgCO2eq_kg\",\n",
    "    variable_start=1,\n",
    "    variable_end=10,\n",
    "    global_parameters=PARAMETERS_GLOBAL,\n",
    "    static_parameters={\n",
    "        \"buildings\": buildings,\n",
    "        \"raw_weather_data\": raw_weather_data,\n",
    "        \"building_type_parameters\": PARAMETERS_BUILDING_TYPE,\n",
    "        \"energy_class_parameters\": PARAMETERS_ENERGY_CLASS,\n",
    "        \"cooling_technology_parameters\": PARAMETERS_COOLING_TECHNOLOGY,\n",
    "        \"multi_directional_solar_radiation_fractions_path\": MULTIDIRECTIONAL_SOLAR_RADIATION_FRACTIONS_PATH,\n",
    "        \"presence_load_factors_path\": PRESENCE_LOAD_FACTORS_PATH,\n",
    "    },\n",
    ")"
   ]
  },
  {
   "cell_type": "code",
   "execution_count": null,
   "metadata": {},
   "outputs": [],
   "source": [
    "# Post-process the sensitivity analysis results\n",
    "post_process_SA_results(\n",
    "    SA_results=SA_results_carbon_intensity_EoL,\n",
    "    reference_value=PARAMETERS_GLOBAL[\"carbon_intensity_EoL_kgCO2eq_kg\"],\n",
    "    variable_name_print=\"carbon intensity of treatment of waste cooling equipment\",\n",
    "    variable_unit_print=\"kg CO2eq/kg\",\n",
    "    round_to=3,\n",
    ")"
   ]
  },
  {
   "cell_type": "markdown",
   "metadata": {},
   "source": [
    "## Internal heat gains"
   ]
  },
  {
   "cell_type": "markdown",
   "metadata": {},
   "source": [
    "#### People per household"
   ]
  },
  {
   "cell_type": "code",
   "execution_count": null,
   "metadata": {},
   "outputs": [],
   "source": [
    "# Run sensitivity analysis for the average amount of people per household\n",
    "SA_results_people_per_hh = run_SA_for_variable_in_global_parameters(\n",
    "    variable_name=\"people_per_hh\",\n",
    "    variable_start=1,\n",
    "    variable_end=6,\n",
    "    global_parameters=PARAMETERS_GLOBAL,\n",
    "    static_parameters={\n",
    "        \"buildings\": buildings,\n",
    "        \"raw_weather_data\": raw_weather_data,\n",
    "        \"building_type_parameters\": PARAMETERS_BUILDING_TYPE,\n",
    "        \"energy_class_parameters\": PARAMETERS_ENERGY_CLASS,\n",
    "        \"cooling_technology_parameters\": PARAMETERS_COOLING_TECHNOLOGY,\n",
    "        \"multi_directional_solar_radiation_fractions_path\": MULTIDIRECTIONAL_SOLAR_RADIATION_FRACTIONS_PATH,\n",
    "        \"presence_load_factors_path\": PRESENCE_LOAD_FACTORS_PATH,\n",
    "    },\n",
    ")"
   ]
  },
  {
   "cell_type": "code",
   "execution_count": null,
   "metadata": {},
   "outputs": [],
   "source": [
    "# Fetch the value for refrigerant emission factors for all scenarios\n",
    "reference_values_people_per_hh = {\n",
    "    \"SQ\": global_param_dict[\"SQ\"][\"people_per_hh\"],\n",
    "    \"2030\": global_param_dict[\"2030\"][\"people_per_hh\"],\n",
    "    \"2050_L\": global_param_dict[\"2050_L\"][\"people_per_hh\"],\n",
    "    \"2050_M\": global_param_dict[\"2050_M\"][\"people_per_hh\"],\n",
    "    \"2050_H\": global_param_dict[\"2050_H\"][\"people_per_hh\"],\n",
    "}"
   ]
  },
  {
   "cell_type": "code",
   "execution_count": null,
   "metadata": {},
   "outputs": [],
   "source": [
    "# Post-process the sensitivity analysis results\n",
    "post_process_SA_results(\n",
    "    SA_results=SA_results_people_per_hh,\n",
    "    reference_values=reference_values_people_per_hh,\n",
    "    variable_name_print=\"average amount of people per household\",\n",
    "    variable_unit_print=\"-\",\n",
    "    round_to=0,\n",
    "    include_scenario_lines_in_plots=False,\n",
    ")"
   ]
  },
  {
   "cell_type": "markdown",
   "metadata": {},
   "source": [
    "#### People density offices"
   ]
  },
  {
   "cell_type": "code",
   "execution_count": null,
   "metadata": {},
   "outputs": [],
   "source": [
    "# Run sensitivity analysis for the average density of people in offices\n",
    "SA_results_people_density_office = run_SA_for_variable_in_global_parameters(\n",
    "    variable_name=\"people_density_office\",\n",
    "    variable_start=0.04,\n",
    "    variable_end=0.2,\n",
    "    global_parameters=PARAMETERS_GLOBAL,\n",
    "    static_parameters={\n",
    "        \"buildings\": buildings,\n",
    "        \"raw_weather_data\": raw_weather_data,\n",
    "        \"building_type_parameters\": PARAMETERS_BUILDING_TYPE,\n",
    "        \"energy_class_parameters\": PARAMETERS_ENERGY_CLASS,\n",
    "        \"cooling_technology_parameters\": PARAMETERS_COOLING_TECHNOLOGY,\n",
    "        \"multi_directional_solar_radiation_fractions_path\": MULTIDIRECTIONAL_SOLAR_RADIATION_FRACTIONS_PATH,\n",
    "        \"presence_load_factors_path\": PRESENCE_LOAD_FACTORS_PATH,\n",
    "    },\n",
    ")"
   ]
  },
  {
   "cell_type": "code",
   "execution_count": null,
   "metadata": {},
   "outputs": [],
   "source": [
    "# Fetch the value for refrigerant emission factors for all scenarios\n",
    "reference_values_people_density_office = {\n",
    "    \"SQ\": global_param_dict[\"SQ\"][\"people_density_office\"],\n",
    "    \"2030\": global_param_dict[\"2030\"][\"people_density_office\"],\n",
    "    \"2050_L\": global_param_dict[\"2050_L\"][\"people_density_office\"],\n",
    "    \"2050_M\": global_param_dict[\"2050_M\"][\"people_density_office\"],\n",
    "    \"2050_H\": global_param_dict[\"2050_H\"][\"people_density_office\"],\n",
    "}"
   ]
  },
  {
   "cell_type": "code",
   "execution_count": null,
   "metadata": {},
   "outputs": [],
   "source": [
    "# Post-process the sensitivity analysis results\n",
    "post_process_SA_results(\n",
    "    SA_results=SA_results_people_density_office,\n",
    "    reference_values=reference_values_people_density_office,\n",
    "    variable_name_print=\"density of people in offices\",\n",
    "    variable_unit_print=\"people/m2\",\n",
    "    round_to=3,\n",
    "    include_scenario_lines_in_plots=False,\n",
    ")"
   ]
  },
  {
   "cell_type": "markdown",
   "metadata": {},
   "source": [
    "#### Internal heat gain of lighting"
   ]
  },
  {
   "cell_type": "code",
   "execution_count": null,
   "metadata": {},
   "outputs": [],
   "source": [
    "# Run sensitivity analysis for the internal heat gain intensity from lighting\n",
    "SA_results_int_heat_gain_light = run_SA_for_variable_in_global_parameters(\n",
    "    variable_name=\"int_heat_gain_light_W_m2\",\n",
    "    variable_start=0.5,\n",
    "    variable_end=25,\n",
    "    global_parameters=PARAMETERS_GLOBAL,\n",
    "    static_parameters={\n",
    "        \"buildings\": buildings,\n",
    "        \"raw_weather_data\": raw_weather_data,\n",
    "        \"building_type_parameters\": PARAMETERS_BUILDING_TYPE,\n",
    "        \"energy_class_parameters\": PARAMETERS_ENERGY_CLASS,\n",
    "        \"cooling_technology_parameters\": PARAMETERS_COOLING_TECHNOLOGY,\n",
    "        \"multi_directional_solar_radiation_fractions_path\": MULTIDIRECTIONAL_SOLAR_RADIATION_FRACTIONS_PATH,\n",
    "        \"presence_load_factors_path\": PRESENCE_LOAD_FACTORS_PATH,\n",
    "    },\n",
    "    calculation_steps=100,\n",
    ")"
   ]
  },
  {
   "cell_type": "code",
   "execution_count": null,
   "metadata": {},
   "outputs": [],
   "source": [
    "reference_values_int_heat_gain_light = {\n",
    "    \"SQ\": global_param_dict[\"SQ\"][\"int_heat_gain_light_W_m2\"],\n",
    "    \"2030\": global_param_dict[\"2030\"][\"int_heat_gain_light_W_m2\"],\n",
    "    \"2050_L\": global_param_dict[\"2050_L\"][\"int_heat_gain_light_W_m2\"],\n",
    "    \"2050_M\": global_param_dict[\"2050_M\"][\"int_heat_gain_light_W_m2\"],\n",
    "    \"2050_H\": global_param_dict[\"2050_H\"][\"int_heat_gain_light_W_m2\"],\n",
    "}"
   ]
  },
  {
   "cell_type": "code",
   "execution_count": null,
   "metadata": {},
   "outputs": [],
   "source": [
    "# Post-process the sensitivity analysis results\n",
    "post_process_SA_results(\n",
    "    SA_results=SA_results_int_heat_gain_light,\n",
    "    reference_values=reference_values_int_heat_gain_light,\n",
    "    variable_name_print=\"lighting power flux\",\n",
    "    variable_unit_print=\"W/m2\",\n",
    "    round_to=0,\n",
    "    include_scenario_lines_in_plots=False,\n",
    ")"
   ]
  },
  {
   "cell_type": "markdown",
   "metadata": {},
   "source": [
    "## Cooling technology dependent variables"
   ]
  },
  {
   "cell_type": "code",
   "execution_count": null,
   "metadata": {},
   "outputs": [],
   "source": [
    "# Load the cooling technology parameters for all scenarios, for plotting purposes\n",
    "cooling_technology_param_dict = {}\n",
    "\n",
    "for scenario in [\"SQ\", \"2030\", \"2050_L\", \"2050_M\", \"2050_H\"]:\n",
    "    cooling_technology_parameter_path = Path(\n",
    "        f\"data/input/parameters/parameters_{scenario}/parameters_cooling_technology.csv\",\n",
    "    )  # The file containing the cooling technology parameters for that scenario\n",
    "    cooling_technology_param_dict[scenario] = pd.DataFrame(\n",
    "        read_parameter_specific_data(cooling_technology_parameter_path),\n",
    "    )  # Load the cooling technology parameters for the scenario into the dictionary"
   ]
  },
  {
   "cell_type": "markdown",
   "metadata": {},
   "source": [
    "### Energy efficiency of cooling technologies"
   ]
  },
  {
   "cell_type": "code",
   "execution_count": null,
   "metadata": {},
   "outputs": [],
   "source": [
    "# Run sensitivity analysis for the energy efficiency of cooling technologies\n",
    "SA_results_SEER = run_SA_for_variable_in_cooling_technology_parameters(\n",
    "    variable_name=\"SEER\",\n",
    "    multiplier_start=0.5,\n",
    "    multiplier_end=3,\n",
    "    cooling_technology_parameters=PARAMETERS_COOLING_TECHNOLOGY,\n",
    "    static_parameters={\n",
    "        \"buildings\": buildings,\n",
    "        \"raw_weather_data\": raw_weather_data,\n",
    "        \"global_parameters\": PARAMETERS_GLOBAL,\n",
    "        \"building_type_parameters\": PARAMETERS_BUILDING_TYPE,\n",
    "        \"energy_class_parameters\": PARAMETERS_ENERGY_CLASS,\n",
    "        \"multi_directional_solar_radiation_fractions_path\": MULTIDIRECTIONAL_SOLAR_RADIATION_FRACTIONS_PATH,\n",
    "        \"presence_load_factors_path\": PRESENCE_LOAD_FACTORS_PATH,\n",
    "    },\n",
    "    calculation_steps=50,\n",
    ")"
   ]
  },
  {
   "cell_type": "code",
   "execution_count": null,
   "metadata": {},
   "outputs": [],
   "source": [
    "reference_values_SEER = {\n",
    "    \"SQ\": cooling_technology_param_dict[\"SQ\"][\"SEER\"].mean(),\n",
    "    \"2030\": cooling_technology_param_dict[\"2030\"][\"SEER\"].mean(),\n",
    "    \"2050_L\": cooling_technology_param_dict[\"2050_L\"][\"SEER\"].mean(),\n",
    "    \"2050_M\": cooling_technology_param_dict[\"2050_M\"][\"SEER\"].mean(),\n",
    "    \"2050_H\": cooling_technology_param_dict[\"2050_H\"][\"SEER\"].mean(),\n",
    "}"
   ]
  },
  {
   "cell_type": "code",
   "execution_count": null,
   "metadata": {},
   "outputs": [],
   "source": [
    "# Post-process the sensitivity analysis results\n",
    "post_process_SA_results(\n",
    "    SA_results=SA_results_SEER,\n",
    "    reference_values=reference_values_SEER,\n",
    "    variable_name_print=\"SEER\",\n",
    "    variable_unit_print=\"kWh cooling / kWh electricity\",\n",
    "    round_to=0,\n",
    "    include_scenario_lines_in_plots=True,\n",
    ")"
   ]
  },
  {
   "cell_type": "markdown",
   "metadata": {},
   "source": [
    "### Refrigerant leakage rates"
   ]
  },
  {
   "cell_type": "code",
   "execution_count": null,
   "metadata": {},
   "outputs": [],
   "source": [
    "# Run sensitivity analysis for the refrigerant leakage rates of cooling technologies\n",
    "SA_results_refrigerant_leakage_rates = run_SA_for_variable_in_cooling_technology_parameters(\n",
    "    variable_name=\"refrigerant_leakage_rate_relative\",\n",
    "    multiplier_start=0.05,\n",
    "    multiplier_end=2,\n",
    "    cooling_technology_parameters=PARAMETERS_COOLING_TECHNOLOGY,\n",
    "    static_parameters={\n",
    "        \"buildings\": buildings,\n",
    "        \"raw_weather_data\": raw_weather_data,\n",
    "        \"global_parameters\": PARAMETERS_GLOBAL,\n",
    "        \"building_type_parameters\": PARAMETERS_BUILDING_TYPE,\n",
    "        \"energy_class_parameters\": PARAMETERS_ENERGY_CLASS,\n",
    "        \"multi_directional_solar_radiation_fractions_path\": MULTIDIRECTIONAL_SOLAR_RADIATION_FRACTIONS_PATH,\n",
    "        \"presence_load_factors_path\": PRESENCE_LOAD_FACTORS_PATH,\n",
    "    },\n",
    "    calculation_steps=100,\n",
    ")"
   ]
  },
  {
   "cell_type": "code",
   "execution_count": null,
   "metadata": {},
   "outputs": [],
   "source": [
    "# Change the index of the results DataFrame to be in percentage points\n",
    "SA_results_refrigerant_leakage_rates = SA_results_refrigerant_leakage_rates.set_index(SA_results_refrigerant_leakage_rates.index * 100)"
   ]
  },
  {
   "cell_type": "code",
   "execution_count": null,
   "metadata": {},
   "outputs": [],
   "source": [
    "reference_values_refrigerant_leakage_rates = {\n",
    "    \"SQ\": cooling_technology_param_dict[\"SQ\"][\"refrigerant_leakage_rate_relative\"].mean() * 100,\n",
    "    \"2030\": cooling_technology_param_dict[\"2030\"][\"refrigerant_leakage_rate_relative\"].mean() * 100,\n",
    "    \"2050_L\": cooling_technology_param_dict[\"2050_L\"][\"refrigerant_leakage_rate_relative\"].mean() * 100,\n",
    "    \"2050_M\": cooling_technology_param_dict[\"2050_M\"][\"refrigerant_leakage_rate_relative\"].mean() * 100,\n",
    "    \"2050_H\": cooling_technology_param_dict[\"2050_H\"][\"refrigerant_leakage_rate_relative\"].mean() * 100,\n",
    "}"
   ]
  },
  {
   "cell_type": "code",
   "execution_count": null,
   "metadata": {},
   "outputs": [],
   "source": [
    "# Post-process the sensitivity analysis results\n",
    "post_process_SA_results(\n",
    "    SA_results=SA_results_refrigerant_leakage_rates,\n",
    "    reference_values=reference_values_refrigerant_leakage_rates,\n",
    "    variable_name_print=\"refrigerant leakage rate\",\n",
    "    variable_unit_print=r\"% of charge per year\",\n",
    "    round_to=0,\n",
    "    include_scenario_lines_in_plots=True,\n",
    ")"
   ]
  },
  {
   "cell_type": "markdown",
   "metadata": {},
   "source": [
    "### Material intensity of cooling technologies"
   ]
  },
  {
   "cell_type": "code",
   "execution_count": null,
   "metadata": {},
   "outputs": [],
   "source": [
    "# Run sensitivity analysis for the material intensity of cooling technologies\n",
    "SA_results_material_intensity = run_SA_for_variable_in_cooling_technology_parameters(\n",
    "    variable_name=\"material_density_kg_kW\",\n",
    "    multiplier_start=0.2,\n",
    "    multiplier_end=4,\n",
    "    cooling_technology_parameters=PARAMETERS_COOLING_TECHNOLOGY,\n",
    "    static_parameters={\n",
    "        \"buildings\": buildings,\n",
    "        \"raw_weather_data\": raw_weather_data,\n",
    "        \"global_parameters\": PARAMETERS_GLOBAL,\n",
    "        \"building_type_parameters\": PARAMETERS_BUILDING_TYPE,\n",
    "        \"energy_class_parameters\": PARAMETERS_ENERGY_CLASS,\n",
    "        \"multi_directional_solar_radiation_fractions_path\": MULTIDIRECTIONAL_SOLAR_RADIATION_FRACTIONS_PATH,\n",
    "        \"presence_load_factors_path\": PRESENCE_LOAD_FACTORS_PATH,\n",
    "    },\n",
    "    calculation_steps=10,\n",
    ")"
   ]
  },
  {
   "cell_type": "code",
   "execution_count": null,
   "metadata": {},
   "outputs": [],
   "source": [
    "reference_values_material_intensity = {\n",
    "    \"SQ\": cooling_technology_param_dict[\"SQ\"][\"material_density_kg_kW\"].mean(),\n",
    "    \"2030\": cooling_technology_param_dict[\"2030\"][\"material_density_kg_kW\"].mean(),\n",
    "    \"2050_L\": cooling_technology_param_dict[\"2050_L\"][\"material_density_kg_kW\"].mean(),\n",
    "    \"2050_M\": cooling_technology_param_dict[\"2050_M\"][\"material_density_kg_kW\"].mean(),\n",
    "    \"2050_H\": cooling_technology_param_dict[\"2050_H\"][\"material_density_kg_kW\"].mean(),\n",
    "}"
   ]
  },
  {
   "cell_type": "code",
   "execution_count": null,
   "metadata": {},
   "outputs": [],
   "source": [
    "# Post-process the sensitivity analysis results\n",
    "post_process_SA_results(\n",
    "    SA_results=SA_results_material_intensity,\n",
    "    reference_values=reference_values_material_intensity,\n",
    "    variable_name_print=\"material intensity of cooling technologies\",\n",
    "    variable_unit_print=r\"kg per kW cooling power\",\n",
    "    round_to=0,\n",
    "    include_scenario_lines_in_plots=False,\n",
    ")"
   ]
  },
  {
   "cell_type": "markdown",
   "metadata": {},
   "source": [
    "#### Lifetime of cooling equipment"
   ]
  },
  {
   "cell_type": "code",
   "execution_count": null,
   "metadata": {},
   "outputs": [],
   "source": [
    "# Run sensitivity analysis for the material intensity of cooling technologies\n",
    "SA_results_lifetime_cooling_equipment = run_SA_for_variable_in_cooling_technology_parameters(\n",
    "    variable_name=\"average_lifetime_yr\",\n",
    "    multiplier_start=0.2,\n",
    "    multiplier_end=4,\n",
    "    cooling_technology_parameters=PARAMETERS_COOLING_TECHNOLOGY,\n",
    "    static_parameters={\n",
    "        \"buildings\": buildings,\n",
    "        \"raw_weather_data\": raw_weather_data,\n",
    "        \"global_parameters\": PARAMETERS_GLOBAL,\n",
    "        \"building_type_parameters\": PARAMETERS_BUILDING_TYPE,\n",
    "        \"energy_class_parameters\": PARAMETERS_ENERGY_CLASS,\n",
    "        \"multi_directional_solar_radiation_fractions_path\": MULTIDIRECTIONAL_SOLAR_RADIATION_FRACTIONS_PATH,\n",
    "        \"presence_load_factors_path\": PRESENCE_LOAD_FACTORS_PATH,\n",
    "    },\n",
    "    calculation_steps=10,\n",
    ")"
   ]
  },
  {
   "cell_type": "code",
   "execution_count": null,
   "metadata": {},
   "outputs": [],
   "source": [
    "reference_values_lifetime_cooling_equipment = {\n",
    "    \"SQ\": cooling_technology_param_dict[\"SQ\"][\"average_lifetime_yr\"].mean(),\n",
    "    \"2030\": cooling_technology_param_dict[\"2030\"][\"average_lifetime_yr\"].mean(),\n",
    "    \"2050_L\": cooling_technology_param_dict[\"2050_L\"][\"average_lifetime_yr\"].mean(),\n",
    "    \"2050_M\": cooling_technology_param_dict[\"2050_M\"][\"average_lifetime_yr\"].mean(),\n",
    "    \"2050_H\": cooling_technology_param_dict[\"2050_H\"][\"average_lifetime_yr\"].mean(),\n",
    "}"
   ]
  },
  {
   "cell_type": "code",
   "execution_count": null,
   "metadata": {},
   "outputs": [],
   "source": [
    "# Post-process the sensitivity analysis results\n",
    "post_process_SA_results(\n",
    "    SA_results=SA_results_lifetime_cooling_equipment,\n",
    "    reference_values=reference_values_lifetime_cooling_equipment,\n",
    "    variable_name_print=\"average lifetime of cooling equipment\",\n",
    "    variable_unit_print=r\"year\",\n",
    "    round_to=0,\n",
    "    include_scenario_lines_in_plots=False,\n",
    ")"
   ]
  },
  {
   "cell_type": "markdown",
   "metadata": {},
   "source": [
    "## Building type dependent variables"
   ]
  },
  {
   "cell_type": "code",
   "execution_count": null,
   "metadata": {},
   "outputs": [],
   "source": [
    "# Load the building type dependent parameters for all scenarios, for plotting purposes\n",
    "building_type_param_dict = {}\n",
    "\n",
    "for scenario in [\"SQ\", \"2030\", \"2050_L\", \"2050_M\", \"2050_H\"]:\n",
    "    building_type_param_path = Path(\n",
    "        f\"data/input/parameters/parameters_{scenario}/parameters_building_type.csv\",\n",
    "    )  # The file containing the building type parameters for that scenario\n",
    "    building_type_param_dict[scenario] = pd.DataFrame(\n",
    "        read_parameter_specific_data(building_type_param_path),\n",
    "    )  # Load the building type parameters for the scenario into the dictionary"
   ]
  },
  {
   "cell_type": "markdown",
   "metadata": {},
   "source": [
    "#### Total market penetration of cooling equipment"
   ]
  },
  {
   "cell_type": "code",
   "execution_count": null,
   "metadata": {},
   "outputs": [],
   "source": [
    "# Fetch the prevalance of building types from the buildings DataFrame\n",
    "building_type_prevalence = buildings[\"building_type\"].value_counts(normalize=True)"
   ]
  },
  {
   "cell_type": "code",
   "execution_count": null,
   "metadata": {},
   "outputs": [],
   "source": [
    "SA_results_total_market_penetration = run_SA_for_total_market_penetration(\n",
    "    multiplier_start=0,\n",
    "    multiplier_end=5.86,\n",
    "    building_type_parameters=PARAMETERS_BUILDING_TYPE,\n",
    "    building_type_prevalence=building_type_prevalence,\n",
    "    static_parameters={\n",
    "        \"buildings\": buildings,\n",
    "        \"raw_weather_data\": raw_weather_data,\n",
    "        \"global_parameters\": PARAMETERS_GLOBAL,\n",
    "        \"energy_class_parameters\": PARAMETERS_ENERGY_CLASS,\n",
    "        \"cooling_technology_parameters\": PARAMETERS_COOLING_TECHNOLOGY,\n",
    "        \"multi_directional_solar_radiation_fractions_path\": MULTIDIRECTIONAL_SOLAR_RADIATION_FRACTIONS_PATH,\n",
    "        \"presence_load_factors_path\": PRESENCE_LOAD_FACTORS_PATH,\n",
    "    },\n",
    "    calculation_steps=50,\n",
    ")"
   ]
  },
  {
   "cell_type": "code",
   "execution_count": null,
   "metadata": {},
   "outputs": [],
   "source": [
    "reference_values_total_market_penetration_rate = {}\n",
    "\n",
    "for scenario in [\"SQ\", \"2030\", \"2050_L\", \"2050_M\", \"2050_H\"]:\n",
    "    df_building_type_parameters = building_type_param_dict[scenario].set_index(\"building_type\")\n",
    "    # Calculate the weighted total market penetration rate\n",
    "    df_building_type_parameters[\"total_market_penetration_rate\"] = df_building_type_parameters[\n",
    "        [col for col in df_building_type_parameters.columns if col.startswith(\"cooling_technology_share\")]\n",
    "    ].sum(axis=1)\n",
    "\n",
    "    # Figure out the weighted average value of the total market penetration, in percentage points\n",
    "    reference_values_total_market_penetration_rate[scenario] = df_building_type_parameters[\"total_market_penetration_rate\"].mul(building_type_prevalence).sum() * 100"
   ]
  },
  {
   "cell_type": "code",
   "execution_count": null,
   "metadata": {},
   "outputs": [],
   "source": [
    "# Post-process the sensitivity analysis results\n",
    "post_process_SA_results(\n",
    "    SA_results=SA_results_total_market_penetration,\n",
    "    reference_values=reference_values_total_market_penetration_rate,\n",
    "    variable_name_print=\"total market penetration of cooling technologies\",\n",
    "    variable_unit_print=r\"%\",\n",
    "    round_to=0,\n",
    "    include_scenario_lines_in_plots=False,\n",
    ")"
   ]
  },
  {
   "cell_type": "markdown",
   "metadata": {},
   "source": [
    "#### Technology mix"
   ]
  },
  {
   "cell_type": "code",
   "execution_count": null,
   "metadata": {},
   "outputs": [],
   "source": [
    "SA_results_cooling_technology_mix = run_SA_for_cooling_technology_mix(\n",
    "    cooling_tech_one=\"GSHP\",\n",
    "    cooling_tech_two=\"AC_mobile\",\n",
    "    building_type_parameters=PARAMETERS_BUILDING_TYPE,\n",
    "    static_parameters={\n",
    "        \"buildings\": buildings,\n",
    "        \"raw_weather_data\": raw_weather_data,\n",
    "        \"global_parameters\": PARAMETERS_GLOBAL,\n",
    "        \"energy_class_parameters\": PARAMETERS_ENERGY_CLASS,\n",
    "        \"cooling_technology_parameters\": PARAMETERS_COOLING_TECHNOLOGY,\n",
    "        \"multi_directional_solar_radiation_fractions_path\": MULTIDIRECTIONAL_SOLAR_RADIATION_FRACTIONS_PATH,\n",
    "        \"presence_load_factors_path\": PRESENCE_LOAD_FACTORS_PATH,\n",
    "    },\n",
    "    calculation_steps=5,\n",
    ")"
   ]
  },
  {
   "cell_type": "code",
   "execution_count": null,
   "metadata": {},
   "outputs": [],
   "source": [
    "# Post-process the sensitivity analysis results\n",
    "test = post_process_SA_cooling_tech_mix(\n",
    "    SA_results=SA_results_cooling_technology_mix,\n",
    "    cooling_tech_one=\"GSHP\",\n",
    "    cooling_tech_two=\"AC_mobile\",\n",
    "    show_plots=True,\n",
    ")"
   ]
  },
  {
   "cell_type": "code",
   "execution_count": null,
   "metadata": {},
   "outputs": [],
   "source": [
    "cooling_mix_elasticities_table = pd.DataFrame(\n",
    "    np.nan,\n",
    "    index=range(30),\n",
    "    columns=[\"cooling_tech_one\", \"cooling_tech_one\", \"elasticity_electricity_demand\", \"elasticity_carbon_emissions\", \"elasticity_material_demand\"],\n",
    ")"
   ]
  },
  {
   "cell_type": "code",
   "execution_count": null,
   "metadata": {},
   "outputs": [],
   "source": [
    "# Run sensitivity analysis for every combination of cooling technology\n",
    "cooling_techs = [\"ASHP\", \"GSHP\", \"WSHP\", \"chiller\", \"AC_split\", \"AC_mobile\"]\n",
    "i = 0\n",
    "\n",
    "for cooling_one in cooling_techs:\n",
    "    for cooling_two in cooling_techs:\n",
    "        if cooling_one == cooling_two:\n",
    "            continue\n",
    "        else:\n",
    "            # Run the sensitivity analysis\n",
    "            SA_results_cooling_technology_mix = run_SA_for_cooling_technology_mix(\n",
    "                cooling_tech_one=cooling_one,\n",
    "                cooling_tech_two=cooling_two,\n",
    "                building_type_parameters=PARAMETERS_BUILDING_TYPE,\n",
    "                static_parameters={\n",
    "                    \"buildings\": buildings,\n",
    "                    \"raw_weather_data\": raw_weather_data,\n",
    "                    \"global_parameters\": PARAMETERS_GLOBAL,\n",
    "                    \"energy_class_parameters\": PARAMETERS_ENERGY_CLASS,\n",
    "                    \"cooling_technology_parameters\": PARAMETERS_COOLING_TECHNOLOGY,\n",
    "                    \"multi_directional_solar_radiation_fractions_path\": MULTIDIRECTIONAL_SOLAR_RADIATION_FRACTIONS_PATH,\n",
    "                    \"presence_load_factors_path\": PRESENCE_LOAD_FACTORS_PATH,\n",
    "                },\n",
    "                calculation_steps=20,\n",
    "            )\n",
    "\n",
    "            # Post-process the sensitivity analysis results\n",
    "            elasticities = post_process_SA_cooling_tech_mix(\n",
    "                SA_results=SA_results_cooling_technology_mix,\n",
    "                cooling_tech_one=cooling_one,\n",
    "                cooling_tech_two=cooling_two,\n",
    "                show_plots=False,\n",
    "            )\n",
    "\n",
    "            # print(\"Results for the cooling technology mix of:\")\n",
    "            # print(f\"{cooling_one} vs. {cooling_two}\")\n",
    "            # print(\"Mean elasticities:\")\n",
    "            # for index, row in elasticities.iterrows():\n",
    "            #     print(f\"{index}: {round(row[0], 2)}\")\n",
    "\n",
    "            cooling_mix_elasticities_table.at[i, \"cooling_tech_one\"] = cooling_one\n",
    "            cooling_mix_elasticities_table.at[i, \"cooling_tech_two\"] = cooling_two\n",
    "            cooling_mix_elasticities_table.at[i, \"elasticity_electricity_demand\"] = elasticities.iloc[0, 0]\n",
    "            cooling_mix_elasticities_table.at[i, \"elasticity_carbon_emissions\"] = elasticities.iloc[1, 0]\n",
    "            cooling_mix_elasticities_table.at[i, \"elasticity_material_demand\"] = elasticities.iloc[2, 0]\n",
    "\n",
    "            i += 1"
   ]
  },
  {
   "cell_type": "code",
   "execution_count": null,
   "metadata": {},
   "outputs": [],
   "source": [
    "# Save the table\n",
    "cooling_mix_elasticities_table.to_csv(\"data/output/cooling_mix_elasticities_table.csv\", index=False)"
   ]
  },
  {
   "cell_type": "markdown",
   "metadata": {},
   "source": [
    "## Energy label  dependent variables\n",
    "Potential sensitivity analyses:\n",
    "- Heat transmittance of walls, roof, floor and windows\n",
    "- Solar radiation transmittance of windows, analyze effect of external shades"
   ]
  },
  {
   "cell_type": "markdown",
   "metadata": {},
   "source": [
    "## Building geometry dependent variables\n",
    "Potential sensitivity analyses:\n",
    "- Building orientation: redirect all building azimuths in one direction and then vary between 0 - 180 degrees\n",
    "- Building size (surface to volume ratio): create an artificial building and vary its volume"
   ]
  },
  {
   "cell_type": "markdown",
   "metadata": {},
   "source": [
    "# Figures"
   ]
  },
  {
   "cell_type": "markdown",
   "metadata": {},
   "source": [
    "## Thermal flows"
   ]
  },
  {
   "cell_type": "code",
   "execution_count": null,
   "metadata": {},
   "outputs": [],
   "source": [
    "# Create a custom color map for the thermal flows\n",
    "tab10 = plt.cm.get_cmap(\"tab10\", 10)\n",
    "first_5_colors = [tab10(i) for i in range(5)]\n",
    "colors_thermal_flows = [*first_5_colors, \"blue\"]"
   ]
  },
  {
   "cell_type": "markdown",
   "metadata": {},
   "source": [
    "### Thermal flows: total\n",
    "Note that these graphics are based on a 5,000-building representative sample and then scaled up to represent the total cooling load of The Hague. Generating time series and graphics directly for the full 59,381 building dataset requires more than 8 GB of RAM, which is the maximum available memory in this research."
   ]
  },
  {
   "cell_type": "code",
   "execution_count": null,
   "metadata": {},
   "outputs": [],
   "source": [
    "# Fetch the aggregated results for the total building stock (which all have the same status), including time series.\n",
    "total_buildings_with_time_series = aggregate_results(\n",
    "    buildings=buildings,\n",
    "    global_parameters=PARAMETERS_GLOBAL,\n",
    "    groupby_columns=([\"status\"]),\n",
    "    scale_with_building_stock=False,\n",
    "    include_time_series=True,\n",
    ")\n",
    "\n",
    "building = total_buildings_with_time_series.iloc[0]"
   ]
  },
  {
   "cell_type": "markdown",
   "metadata": {},
   "source": [
    "#### Hot summer day"
   ]
  },
  {
   "cell_type": "code",
   "execution_count": null,
   "metadata": {},
   "outputs": [],
   "source": [
    "# Set the start and end date\n",
    "start_date = \"2019-07-25\"\n",
    "end_date = \"2019-07-27\"\n",
    "\n",
    "# Scaling factor to estimate the total thermal flows for the full 59,381 buildings\n",
    "scaling_factor = 59_381 / 5_003\n",
    "\n",
    "# Fetch the start and end index from the time series\n",
    "start_index, end_index = get_indices_from_dates(pd.DataFrame(time_series), start_date, end_date)\n",
    "\n",
    "# Construct a heat flow to label dictionary\n",
    "heat_flow_to_label = {\n",
    "    \"Q_transmission_Wh\": \"Transmission\",\n",
    "    \"Q_infiltration_Wh\": \"Infiltration\",\n",
    "    \"Q_ventilation_Wh\": \"Ventilation\",\n",
    "    \"Q_solar_radiation_Wh\": \"Solar radiation\",\n",
    "    \"Q_internal_heat_Wh\": \"Internal heat\",\n",
    "    \"Q_cooling_demand_Wh\": \"Cooling demand\",\n",
    "}\n",
    "\n",
    "# Plot the thermal flows\n",
    "for (heat_flow, label), color in zip(heat_flow_to_label.items(), colors_thermal_flows, strict=True):\n",
    "    alpha = 0.7 if heat_flow == \"Q_cooling_demand_Wh\" else 0.5\n",
    "    plt.plot(\n",
    "        building[heat_flow][start_index:end_index] * scaling_factor / 1_000_000,  # Convert from W to MW\n",
    "        label=label,\n",
    "        color=color,\n",
    "        alpha=alpha,\n",
    "    )\n",
    "\n",
    "plt.title(\"Cooling demand components for all residential and office buildings \\n between July 25th and July 27th, 2019\")\n",
    "plt.xlabel(\"Hour\")\n",
    "plt.ylabel(\"Thermal flow (MW)\")\n",
    "plt.legend()\n",
    "plt.tight_layout()\n",
    "plt.savefig(f\"data/output/images/thermal_flows/thermal_components_total_{start_date}_to_{end_date}_{SCENARIO}_{BUILDING_SUBSET_NAME}.png\", dpi=300)\n",
    "plt.show()"
   ]
  },
  {
   "cell_type": "markdown",
   "metadata": {},
   "source": [
    "#### Spring"
   ]
  },
  {
   "cell_type": "code",
   "execution_count": null,
   "metadata": {},
   "outputs": [],
   "source": [
    "# Set the start and end date\n",
    "start_date = \"2019-05-01\"\n",
    "end_date = \"2019-06-30\"\n",
    "\n",
    "# Scaling factor to estimate the total thermal flows for the full 59,381 buildings\n",
    "scaling_factor = 59_381 / 5_003\n",
    "\n",
    "# Fetch the start and end index from the time series\n",
    "start_index, end_index = get_indices_from_dates(pd.DataFrame(time_series), start_date, end_date)\n",
    "\n",
    "# Construct a heat flow to label dictionary\n",
    "heat_flow_to_label = {\n",
    "    \"Q_transmission_Wh\": \"Transmission\",\n",
    "    \"Q_infiltration_Wh\": \"Infiltration\",\n",
    "    \"Q_ventilation_Wh\": \"Ventilation\",\n",
    "    \"Q_solar_radiation_Wh\": \"Solar radiation\",\n",
    "    \"Q_internal_heat_Wh\": \"Internal heat\",\n",
    "    \"Q_cooling_demand_Wh\": \"Cooling demand\",\n",
    "}\n",
    "\n",
    "# Plot the thermal flows\n",
    "for (heat_flow, label), color in zip(heat_flow_to_label.items(), colors_thermal_flows, strict=True):\n",
    "    alpha = 0.7 if heat_flow == \"Q_cooling_demand_Wh\" else 0.5\n",
    "    plt.plot(\n",
    "        building[heat_flow][start_index:end_index] * scaling_factor / 1_000_000,  # Convert from W to MW\n",
    "        label=label,\n",
    "        alpha=alpha,\n",
    "        color=color,\n",
    "    )\n",
    "\n",
    "plt.title(\"Cooling demand components for all residential\\nand office buildings in May and June 2019\")\n",
    "plt.xlabel(\"Hour\")\n",
    "plt.ylabel(\"Thermal flow (MW)\")\n",
    "plt.legend()\n",
    "plt.tight_layout()\n",
    "plt.savefig(f\"data/output/images/thermal_flows/thermal_components_total_{start_date}_to_{end_date}_{SCENARIO}_{BUILDING_SUBSET_NAME}.png\", dpi=300)\n",
    "plt.show()"
   ]
  },
  {
   "cell_type": "markdown",
   "metadata": {},
   "source": [
    "#### 5 years, sorted"
   ]
  },
  {
   "cell_type": "code",
   "execution_count": null,
   "metadata": {},
   "outputs": [],
   "source": [
    "# Set the start and end date\n",
    "start_date = \"2018-01-01\"\n",
    "end_date = \"2022-12-31\"\n",
    "\n",
    "# Scaling factor to estimate the total thermal flows for the full 59,381 buildings\n",
    "scaling_factor = 59_381 / 5_003\n",
    "\n",
    "# Fetch the start and end index from the time series\n",
    "start_index, end_index = get_indices_from_dates(pd.DataFrame(time_series), start_date, end_date)\n",
    "\n",
    "# Construct a heat flow to label dictionary\n",
    "heat_flow_to_label = {\n",
    "    \"Q_transmission_Wh\": \"Transmission\",\n",
    "    \"Q_infiltration_Wh\": \"Infiltration\",\n",
    "    \"Q_ventilation_Wh\": \"Ventilation\",\n",
    "    \"Q_solar_radiation_Wh\": \"Solar radiation\",\n",
    "    \"Q_internal_heat_Wh\": \"Internal heat\",\n",
    "    \"Q_cooling_demand_Wh\": \"Cooling demand\",\n",
    "}\n",
    "\n",
    "# Plot the thermal flows\n",
    "for (heat_flow, label), color in zip(heat_flow_to_label.items(), colors_thermal_flows, strict=True):\n",
    "    alpha = 0.7 if heat_flow == \"Q_cooling_demand_Wh\" else 0.5\n",
    "    plt.plot(\n",
    "        np.sort(building[heat_flow][start_index:end_index])[::-1] * scaling_factor / 1_000_000,  # Convert from W to MW\n",
    "        label=label,\n",
    "        alpha=alpha,\n",
    "        color=color,\n",
    "    )\n",
    "\n",
    "plt.title(\"Cooling demand components for all residential and office buildings,\\nsorted over the 2018 - 2022 period\")\n",
    "plt.xlabel(\"Hour\")\n",
    "plt.ylabel(\"Thermal flow (MW)\")\n",
    "plt.legend()\n",
    "plt.tight_layout()\n",
    "plt.savefig(f\"data/output/images/thermal_flows/thermal_components_total_sorted_{start_date}_to_{end_date}_{SCENARIO}_{BUILDING_SUBSET_NAME}.png\", dpi=300)\n",
    "plt.show()"
   ]
  },
  {
   "cell_type": "markdown",
   "metadata": {},
   "source": [
    "### Thermal flows per building type\n"
   ]
  },
  {
   "cell_type": "code",
   "execution_count": null,
   "metadata": {},
   "outputs": [],
   "source": [
    "# Fetch the aggregated results for just building types, but including time series.\n",
    "\n",
    "building_types_with_time_series = aggregate_results(\n",
    "    buildings=buildings,\n",
    "    global_parameters=PARAMETERS_GLOBAL,\n",
    "    groupby_columns=(\"building_type_int\", \"building_type\"),\n",
    "    include_time_series=True,\n",
    ")"
   ]
  },
  {
   "cell_type": "markdown",
   "metadata": {},
   "source": [
    "#### Plot individual figures per building type"
   ]
  },
  {
   "cell_type": "code",
   "execution_count": null,
   "metadata": {},
   "outputs": [],
   "source": [
    "# Set the start and end date\n",
    "start_date = \"2019-07-01\"\n",
    "end_date = \"2019-07-31\"\n",
    "\n",
    "# Iterate over the building types\n",
    "for _, building in building_types_with_time_series.iterrows():\n",
    "    plot_thermal_flows_for_building_types(\n",
    "        building=building,\n",
    "        time_series=pd.DataFrame(time_series),\n",
    "        start_date=start_date,\n",
    "        end_date=end_date,\n",
    "        save_figure=True,\n",
    "        sort_hours=False,\n",
    "    )"
   ]
  },
  {
   "cell_type": "markdown",
   "metadata": {},
   "source": [
    "#### Plot all building types in one figure"
   ]
  },
  {
   "cell_type": "code",
   "execution_count": null,
   "metadata": {},
   "outputs": [],
   "source": [
    "# Set the start and end date\n",
    "start_date = \"2019-05-01\"\n",
    "end_date = \"2019-06-30\"\n",
    "\n",
    "# Convert the dates to strings\n",
    "start_date_str = pd.to_datetime(start_date).strftime(\"%B %-d, %Y\")\n",
    "end_date_str = pd.to_datetime(end_date).strftime(\"%B %-d, %Y\")\n",
    "\n",
    "# Initialize the figure\n",
    "fig, axes = plt.subplots(\n",
    "    nrows=2,\n",
    "    ncols=4,\n",
    "    sharex=True,\n",
    "    sharey=True,\n",
    "    figsize=(24, 10),\n",
    ")\n",
    "\n",
    "# Flatten the 2x4 axes array for easy iteration\n",
    "flat_axes = axes.flatten()\n",
    "\n",
    "# Iterate over the building types and the axes\n",
    "for (_idx, building), ax in zip(building_types_with_time_series.iterrows(), flat_axes, strict=True):\n",
    "    plot_thermal_flows_for_building_types(\n",
    "        building=building,\n",
    "        time_series=pd.DataFrame(time_series),\n",
    "        start_date=start_date,\n",
    "        end_date=end_date,\n",
    "        subplot_ax=ax,\n",
    "        sort_hours=False,\n",
    "    )\n",
    "\n",
    "for ax in axes[:, 0]:  # Set the y axis labels\n",
    "    ax.set_ylabel(\"Thermal flow (W/m2)\")\n",
    "\n",
    "for ax in axes[-1, :]:  # Set the x axis labels\n",
    "    ax.set_xlabel(\"Hour\")\n",
    "\n",
    "flat_axes[0].legend(loc=\"best\")  # Add the legend only for the top left subplot\n",
    "plt.suptitle(f\"Cooling demand components for varying building types between {start_date_str} and {end_date_str}\")\n",
    "plt.savefig(f\"data/output/images/thermal_flows/thermal_components_building_type_all_{start_date}_to_{end_date}_{SCENARIO}_{BUILDING_SUBSET_NAME}.png\", dpi=300)\n",
    "plt.show()"
   ]
  },
  {
   "cell_type": "markdown",
   "metadata": {},
   "source": [
    "### Thermal flows per energy class"
   ]
  },
  {
   "cell_type": "code",
   "execution_count": null,
   "metadata": {},
   "outputs": [],
   "source": [
    "# Fetch the aggregated results for just energy classes, but including time series.\n",
    "energy_classes_with_time_series = aggregate_results(\n",
    "    buildings=buildings,\n",
    "    global_parameters=PARAMETERS_GLOBAL,\n",
    "    groupby_columns=(\"energy_class_int\", \"energy_class\"),\n",
    "    scale_with_building_stock=False,\n",
    "    include_time_series=True,\n",
    ")"
   ]
  },
  {
   "cell_type": "markdown",
   "metadata": {},
   "source": [
    "#### Plot individual figures per energy class"
   ]
  },
  {
   "cell_type": "code",
   "execution_count": null,
   "metadata": {},
   "outputs": [],
   "source": [
    "# Set the start and end date\n",
    "start_date = \"2019-07-25\"\n",
    "end_date = \"2019-07-27\"\n",
    "\n",
    "# Iterate over the energy classes\n",
    "for _, building in energy_classes_with_time_series.iterrows():\n",
    "    plot_thermal_flows_for_energy_classes(\n",
    "        building=building,\n",
    "        time_series=pd.DataFrame(time_series),\n",
    "        start_date=start_date,\n",
    "        end_date=end_date,\n",
    "        sort_hours=False,\n",
    "        save_figure=True,\n",
    "    )"
   ]
  },
  {
   "cell_type": "markdown",
   "metadata": {},
   "source": [
    "#### Plot all energy labels in one figure"
   ]
  },
  {
   "cell_type": "code",
   "execution_count": null,
   "metadata": {},
   "outputs": [],
   "source": [
    "# Set the start and end date\n",
    "start_date = \"2019-05-01\"\n",
    "end_date = \"2019-06-30\"\n",
    "\n",
    "# Convert the dates to strings\n",
    "start_date_str = pd.to_datetime(start_date).strftime(\"%B %-d, %Y\")\n",
    "end_date_str = pd.to_datetime(end_date).strftime(\"%B %-d, %Y\")\n",
    "\n",
    "# Initialize the figure\n",
    "fig, axes = plt.subplots(\n",
    "    nrows=2,\n",
    "    ncols=2,\n",
    "    sharex=True,\n",
    "    sharey=True,\n",
    "    figsize=(12, 10),\n",
    ")\n",
    "\n",
    "# Flatten the 2x2 axes array for easy iteration\n",
    "flat_axes = axes.flatten()\n",
    "\n",
    "# Iterate over the energy classes and the axes\n",
    "for (_idx, building), ax in zip(energy_classes_with_time_series.iterrows(), flat_axes, strict=True):\n",
    "    plot_thermal_flows_for_energy_classes(\n",
    "        building=building,\n",
    "        time_series=pd.DataFrame(time_series),\n",
    "        start_date=start_date,\n",
    "        end_date=end_date,\n",
    "        subplot_ax=ax,\n",
    "        sort_hours=False,\n",
    "    )\n",
    "\n",
    "for ax in axes[:, 0]:  # Set the y axis labels\n",
    "    ax.set_ylabel(\"Thermal flow (W/m2)\")\n",
    "\n",
    "for ax in axes[-1, :]:  # Set the x axis labels\n",
    "    ax.set_xlabel(\"Hour\")\n",
    "\n",
    "flat_axes[0].legend(loc=\"best\")  # Add the legend only for the top left subplot\n",
    "plt.suptitle(f\"Cooling demand components for varying energy labels between {start_date_str} and {end_date_str}\")\n",
    "plt.savefig(f\"data/output/images/thermal_flows/thermal_components_sorted_energy_class_all_{start_date}_to_{end_date}_{SCENARIO}_{BUILDING_SUBSET_NAME}.png\", dpi=300)\n",
    "plt.show()"
   ]
  },
  {
   "cell_type": "markdown",
   "metadata": {},
   "source": [
    "## Cooling loads"
   ]
  },
  {
   "cell_type": "markdown",
   "metadata": {},
   "source": [
    "### Cooling loads: total\n",
    "Note that these graphics are based on a 5,000-building representative sample and then scaled up to represent the total cooling load of The Hague. Generating time series and graphics directly for the full 59,381 building dataset requires more than 8 GB of RAM, which is the maximum available memory in this research."
   ]
  },
  {
   "cell_type": "code",
   "execution_count": null,
   "metadata": {},
   "outputs": [],
   "source": [
    "# Fetch the aggregated results for the total building stock (which all have the same status), including time series.\n",
    "total_buildings_with_time_series = aggregate_results(\n",
    "    buildings=buildings,\n",
    "    global_parameters=PARAMETERS_GLOBAL,\n",
    "    groupby_columns=([\"status\"]),\n",
    "    scale_with_building_stock=False,\n",
    "    include_time_series=True,\n",
    ")\n",
    "\n",
    "building = total_buildings_with_time_series.iloc[0]"
   ]
  },
  {
   "cell_type": "code",
   "execution_count": null,
   "metadata": {},
   "outputs": [],
   "source": [
    "# Scaling factor to estimate the total thermal flows for the full 59,381 buildings\n",
    "scaling_factor = 59_381 / 5_003\n",
    "\n",
    "# Fetch the average cooling demand in a year across the 2018 - 2022 period\n",
    "Q_cooling_demand_average = building[\"Q_cooling_demand_Wh\"].reshape(5, 8760).mean(axis=0)\n",
    "\n",
    "# Scale to the total building stock and convert from Wh to MWh\n",
    "Q_cooling_demand_average = Q_cooling_demand_average * scaling_factor / 1_000_000\n",
    "\n",
    "# Sort the average cooling demand in descending order\n",
    "Q_cooling_demand_sorted = np.sort(Q_cooling_demand_average)[::-1]\n",
    "\n",
    "# Figure out the 98th percentile of the average cooling power demand\n",
    "peak_power_percentile = np.percentile(Q_cooling_demand_sorted, 98)\n",
    "\n",
    "# Cap the sorted energy array at the power percentile cap\n",
    "Q_cooling_demand_capped = np.where(Q_cooling_demand_sorted > peak_power_percentile, peak_power_percentile, Q_cooling_demand_sorted)\n",
    "\n",
    "# Sort the capped cooling demand in descending order\n",
    "Q_cooling_demand_capped_sorted = np.sort(Q_cooling_demand_capped)[::-1]\n",
    "\n",
    "plt.plot(Q_cooling_demand_average, label=\"Cooling energy demand (MWh)\", alpha=0.5)\n",
    "plt.plot(Q_cooling_demand_sorted, label=\"Cooling energy demand, sorted (MWh)\", color=\"blue\", linestyle=\"--\", alpha=0.5)\n",
    "plt.hlines(\n",
    "    peak_power_percentile,\n",
    "    0,\n",
    "    8760,\n",
    "    label=\"98th percentile of peak cooling power demand (MW)\",\n",
    "    color=\"red\",\n",
    "    linestyle=\"--\",\n",
    ")\n",
    "plt.plot(\n",
    "    Q_cooling_demand_capped_sorted,\n",
    "    label=\"Cooling energy demand, capped at peak power percentile (MWh)\",\n",
    "    color=\"blue\",\n",
    ")\n",
    "plt.fill_between(range(8760), Q_cooling_demand_sorted, color=\"blue\", alpha=0.2)\n",
    "plt.fill_between(range(8760), Q_cooling_demand_capped_sorted, color=\"blue\", alpha=0.2)\n",
    "plt.title(\"Annual cooling demand load for all residential and office buildings, average between 2018 and 2022\")\n",
    "plt.legend()\n",
    "plt.tight_layout()\n",
    "plt.savefig(f\"data/output/images/thermal_flows/cooling_load_total_{SCENARIO}_{BUILDING_SUBSET_NAME}.png\", dpi=300)\n",
    "plt.show()"
   ]
  },
  {
   "cell_type": "markdown",
   "metadata": {},
   "source": [
    "### Cooling loads per building type"
   ]
  },
  {
   "cell_type": "code",
   "execution_count": null,
   "metadata": {},
   "outputs": [],
   "source": [
    "# Fetch the aggregated results for just building types, but including time series.\n",
    "building_types_with_time_series = aggregate_results(\n",
    "    buildings=buildings,\n",
    "    global_parameters=PARAMETERS_GLOBAL,\n",
    "    groupby_columns=(\"building_type_int\", \"building_type\"),\n",
    "    include_time_series=True,\n",
    ")"
   ]
  },
  {
   "cell_type": "markdown",
   "metadata": {},
   "source": [
    "#### Plot individual figures per building type"
   ]
  },
  {
   "cell_type": "code",
   "execution_count": null,
   "metadata": {},
   "outputs": [],
   "source": [
    "# Iterate over the building types\n",
    "for _, building in building_types_with_time_series.iterrows():\n",
    "    plot_cooling_loads_for_building_types(\n",
    "        building=building,\n",
    "        save_figure=True,\n",
    "    )"
   ]
  },
  {
   "cell_type": "markdown",
   "metadata": {},
   "source": [
    "#### Plot all building types in one figure "
   ]
  },
  {
   "cell_type": "code",
   "execution_count": null,
   "metadata": {},
   "outputs": [],
   "source": [
    "# Initialize the figure\n",
    "fig, axes = plt.subplots(\n",
    "    nrows=2,\n",
    "    ncols=4,\n",
    "    sharex=True,\n",
    "    sharey=True,\n",
    "    figsize=(24, 10),\n",
    ")\n",
    "\n",
    "# Flatten the 2x4 axes array for easy iteration\n",
    "flat_axes = axes.flatten()\n",
    "\n",
    "# Iterate over the building types and the axes\n",
    "for (_idx, building), ax in zip(building_types_with_time_series.iterrows(), flat_axes, strict=True):\n",
    "    plot_cooling_loads_for_building_types(\n",
    "        building=building,\n",
    "        subplot_ax=ax,\n",
    "    )\n",
    "\n",
    "for ax in axes[:, 0]:  # Set the y axis labels\n",
    "    ax.set_ylabel(\"Cooling demand (Wh/m2)\")\n",
    "\n",
    "for ax in axes[-1, :]:  # Set the x axis labels\n",
    "    ax.set_xlabel(\"Hours\")\n",
    "\n",
    "flat_axes[0].legend(loc=\"best\")  # Add the legend only for the top left subplot\n",
    "plt.suptitle(\"Annual cooling loads for varying building types, average between 2018 and 2022\")\n",
    "plt.savefig(f\"data/output/images/thermal_flows/cooling_load_building_type_all_{SCENARIO}_{BUILDING_SUBSET_NAME}.png\", dpi=300)\n",
    "plt.show()"
   ]
  },
  {
   "cell_type": "markdown",
   "metadata": {},
   "source": [
    "### Cooling loads per energy label"
   ]
  },
  {
   "cell_type": "code",
   "execution_count": null,
   "metadata": {},
   "outputs": [],
   "source": [
    "# Fetch the aggregated results for just energy classes, but including time series.\n",
    "energy_classes_with_time_series = aggregate_results(\n",
    "    buildings=buildings,\n",
    "    global_parameters=PARAMETERS_GLOBAL,\n",
    "    groupby_columns=(\"energy_class_int\", \"energy_class\"),\n",
    "    scale_with_building_stock=False,\n",
    "    include_time_series=True,\n",
    ")"
   ]
  },
  {
   "cell_type": "markdown",
   "metadata": {},
   "source": [
    "#### Plot individual figures for each energy class"
   ]
  },
  {
   "cell_type": "code",
   "execution_count": null,
   "metadata": {},
   "outputs": [],
   "source": [
    "# Iterate over the building types\n",
    "for _, building in energy_classes_with_time_series.iterrows():\n",
    "    plot_cooling_loads_for_energy_classes(\n",
    "        building=building,\n",
    "        save_figure=True,\n",
    "    )"
   ]
  },
  {
   "cell_type": "markdown",
   "metadata": {},
   "source": [
    "#### Plot all energy classes in one figure"
   ]
  },
  {
   "cell_type": "code",
   "execution_count": null,
   "metadata": {},
   "outputs": [],
   "source": [
    "# Initialize the figure\n",
    "fig, axes = plt.subplots(\n",
    "    nrows=2,\n",
    "    ncols=2,\n",
    "    sharex=True,\n",
    "    sharey=True,\n",
    "    figsize=(12, 10),\n",
    ")\n",
    "\n",
    "# Flatten the 2x4 axes array for easy iteration\n",
    "flat_axes = axes.flatten()\n",
    "\n",
    "# Iterate over the building types and the axes\n",
    "for (_idx, building), ax in zip(energy_classes_with_time_series.iterrows(), flat_axes, strict=True):\n",
    "    plot_cooling_loads_for_energy_classes(\n",
    "        building=building,\n",
    "        subplot_ax=ax,\n",
    "    )\n",
    "\n",
    "for ax in axes[:, 0]:  # Set the y axis labels\n",
    "    ax.set_ylabel(\"Cooling demand (Wh/m2)\")\n",
    "\n",
    "for ax in axes[-1, :]:  # Set the x axis labels\n",
    "    ax.set_xlabel(\"Hours\")\n",
    "\n",
    "flat_axes[0].legend(loc=\"best\")  # Add the legend only for the top left subplot\n",
    "plt.suptitle(\"Annual cooling loads for varying energy labels, average between 2018 and 2022\")\n",
    "plt.savefig(f\"data/output/images/thermal_flows/cooling_load_energy_class_all_{SCENARIO}_{BUILDING_SUBSET_NAME}.png\", dpi=300)\n",
    "plt.show()"
   ]
  },
  {
   "cell_type": "markdown",
   "metadata": {},
   "source": [
    "## Contribution analysis "
   ]
  },
  {
   "cell_type": "markdown",
   "metadata": {},
   "source": [
    "### By building type"
   ]
  },
  {
   "cell_type": "code",
   "execution_count": null,
   "metadata": {},
   "outputs": [],
   "source": [
    "# Fetch the aggregated results for just building types\n",
    "building_types_grouped = aggregate_results(\n",
    "    buildings=buildings,\n",
    "    global_parameters=PARAMETERS_GLOBAL,\n",
    "    groupby_columns=(\"building_type_int\", \"building_type\"),\n",
    "    include_time_series=False,\n",
    ")"
   ]
  },
  {
   "cell_type": "code",
   "execution_count": null,
   "metadata": {},
   "outputs": [],
   "source": [
    "# Create a new column building type print, which is the string join of building type int and building type\n",
    "building_types_grouped[\"building_type_print\"] = building_types_grouped[\"building_type_int\"].astype(\"str\") + \": \" + building_types_grouped[\"building_type\"]\n",
    "\n",
    "# Normalize the values so that they sum up to 100% for each impact category\n",
    "building_types_impacts_norm = (\n",
    "    building_types_grouped[\n",
    "        [\n",
    "            \"E_cooling_kWh\",\n",
    "            \"E_cooling_capped_at_98th_percentile_kWh\",\n",
    "            \"P_cooling_peak_98th_percentile_kW\",\n",
    "            \"electricity_use_kWh\",\n",
    "            \"GHG_emissions_total_kgCO2eq\",\n",
    "            \"mass_cooling_equipment_kg\",\n",
    "        ]\n",
    "    ].divide(building_types_grouped.sum(axis=0), axis=1)\n",
    "    * 100\n",
    ")\n",
    "\n",
    "# Reset the index and rename the columns\n",
    "building_types_impacts_norm.index = building_types_grouped[\"building_type_print\"]\n",
    "building_types_impacts_norm = building_types_impacts_norm.rename(\n",
    "    columns={\n",
    "        \"E_cooling_kWh\": \"Cooling energy demand\",\n",
    "        \"E_cooling_capped_at_98th_percentile_kWh\": \"Cooling energy demand, capped at 98th percentile\",\n",
    "        \"P_cooling_peak_98th_percentile_kW\": \"Peak cooling power demand\",\n",
    "        \"electricity_use_kWh\": \"Electricity use\",\n",
    "        \"GHG_emissions_total_kgCO2eq\": \"GHG emissions\",\n",
    "        \"mass_cooling_equipment_kg\": \"Material intensity\",\n",
    "    },\n",
    ")"
   ]
  },
  {
   "cell_type": "markdown",
   "metadata": {},
   "source": [
    "#### Cooling energy demand vs. electricity use"
   ]
  },
  {
   "cell_type": "code",
   "execution_count": null,
   "metadata": {},
   "outputs": [],
   "source": [
    "# Transpose the DataFrame for plotting\n",
    "building_types_energy_demand_norm_T = building_types_impacts_norm[[\"Cooling energy demand\", \"Electricity use\"]].T\n",
    "\n",
    "# Plot using Pandas' built-in plot method\n",
    "ax = building_types_energy_demand_norm_T.plot(kind=\"bar\", cmap=\"tab10\", stacked=True, figsize=(6, 8))\n",
    "ax.set_ylabel(\"Percentage\")\n",
    "ax.set_title(\"Cooling energy demand and electricity use, breakdown by building type\")\n",
    "ax.legend(loc=\"upper left\", bbox_to_anchor=(1, 1))\n",
    "plt.xticks(rotation=45, fontsize=8, ha=\"right\")\n",
    "plt.tight_layout()\n",
    "plt.savefig(f\"data/output/images/stacked_bar_chart_cooling_energy_demand_per_building_type_{SCENARIO}_{BUILDING_SUBSET_NAME}.png\", dpi=300)\n",
    "plt.show()"
   ]
  },
  {
   "cell_type": "markdown",
   "metadata": {},
   "source": [
    "#### Environmental impacts"
   ]
  },
  {
   "cell_type": "code",
   "execution_count": null,
   "metadata": {},
   "outputs": [],
   "source": [
    "# Transpose the DataFrame for plotting\n",
    "building_types_energy_demand_norm_T = building_types_impacts_norm[[\"Electricity use\", \"GHG emissions\", \"Material intensity\"]].T\n",
    "\n",
    "# Plot using Pandas' built-in plot method\n",
    "ax = building_types_energy_demand_norm_T.plot(kind=\"bar\", cmap=\"tab10\", stacked=True, figsize=(6, 8))\n",
    "ax.set_ylabel(\"Percentage\")\n",
    "ax.set_title(\"Environmental impacts of space cooling, breakdown by building type\")\n",
    "ax.legend(loc=\"upper left\", bbox_to_anchor=(1, 1))\n",
    "plt.xticks(rotation=45, fontsize=8, ha=\"right\")\n",
    "plt.tight_layout()\n",
    "plt.savefig(f\"data/output/images/stacked_bar_chart_cooling_impacts_per_building_type_{SCENARIO}_{BUILDING_SUBSET_NAME}.png\", dpi=300)\n",
    "plt.show()"
   ]
  },
  {
   "cell_type": "markdown",
   "metadata": {},
   "source": [
    "### By energy label"
   ]
  },
  {
   "cell_type": "code",
   "execution_count": null,
   "metadata": {},
   "outputs": [],
   "source": [
    "# Reorder the energy label column to be in the correct order\n",
    "energy_label_order = [\n",
    "    \"A+++++\",\n",
    "    \"A++++\",\n",
    "    \"A+++\",\n",
    "    \"A++\",\n",
    "    \"A+\",\n",
    "    \"A\",\n",
    "    \"B\",\n",
    "    \"C\",\n",
    "    \"D\",\n",
    "    \"E\",\n",
    "    \"F\",\n",
    "    \"G\",\n",
    "]\n",
    "\n",
    "buildings[\"energy_label\"] = pd.Categorical(buildings[\"energy_label\"], categories=energy_label_order, ordered=True)\n",
    "\n",
    "# Fetch the aggregated results for just energy labels\n",
    "energy_labels_grouped = aggregate_results(\n",
    "    buildings=buildings,\n",
    "    global_parameters=PARAMETERS_GLOBAL,\n",
    "    groupby_columns=([\"energy_label\"]),\n",
    "    include_time_series=False,\n",
    "    scale_with_building_stock=False,\n",
    ")"
   ]
  },
  {
   "cell_type": "code",
   "execution_count": null,
   "metadata": {},
   "outputs": [],
   "source": [
    "# Drop the categorical column before normalization\n",
    "energy_labels_grouped_numeric_columns = energy_labels_grouped.drop(columns=[\"energy_label\"])\n",
    "\n",
    "# Normalize the values so that they sum up to 100% for each impact category\n",
    "energy_labels_impacts_norm = energy_labels_grouped_numeric_columns.divide(energy_labels_grouped_numeric_columns.sum(axis=0), axis=1) * 100\n",
    "\n",
    "# Create a color map from green to red based on the number of unique energy labels\n",
    "colors = plt.cm.RdYlGn_r(np.linspace(0, 1, len(energy_labels_grouped[\"energy_label\"].unique())))\n",
    "\n",
    "# Reset the index and rename the columns\n",
    "energy_labels_impacts_norm.index = energy_labels_grouped[\"energy_label\"]\n",
    "energy_labels_impacts_norm = energy_labels_impacts_norm.rename(\n",
    "    columns={\n",
    "        \"E_cooling_kWh\": \"Cooling energy demand\",\n",
    "        \"E_cooling_capped_at_98th_percentile_kWh\": \"Cooling energy demand, capped at 98th percentile\",\n",
    "        \"P_cooling_peak_98th_percentile_kW\": \"Peak cooling power demand\",\n",
    "        \"electricity_use_kWh\": \"Electricity use\",\n",
    "        \"GHG_emissions_total_kgCO2eq\": \"GHG emissions\",\n",
    "        \"mass_cooling_equipment_kg\": \"Material intensity\",\n",
    "    },\n",
    ")"
   ]
  },
  {
   "cell_type": "markdown",
   "metadata": {},
   "source": [
    "#### Cooling energy demand vs. electricity use"
   ]
  },
  {
   "cell_type": "code",
   "execution_count": null,
   "metadata": {},
   "outputs": [],
   "source": [
    "# Transpose the DataFrame for plotting\n",
    "energy_labels_energy_demand_norm_T = energy_labels_impacts_norm[[\"Cooling energy demand\", \"Electricity use\"]].T\n",
    "\n",
    "# Plot using Pandas' built-in plot method\n",
    "ax = energy_labels_energy_demand_norm_T.plot(kind=\"bar\", color=colors, stacked=True, figsize=(6, 8))\n",
    "ax.set_ylabel(\"Percentage\")\n",
    "ax.set_title(\"Cooling energy demand and electricity use, breakdown by energy label\")\n",
    "ax.legend(loc=\"upper left\", bbox_to_anchor=(1, 1))\n",
    "plt.xticks(rotation=45, fontsize=8, ha=\"right\")\n",
    "plt.tight_layout()\n",
    "plt.savefig(f\"data/output/images/stacked_bar_chart_cooling_energy_demand_per_energy_label_{SCENARIO}_{BUILDING_SUBSET_NAME}.png\", dpi=300)\n",
    "plt.show()"
   ]
  },
  {
   "cell_type": "markdown",
   "metadata": {},
   "source": [
    "#### Environmental impacts"
   ]
  },
  {
   "cell_type": "code",
   "execution_count": null,
   "metadata": {},
   "outputs": [],
   "source": [
    "# Transpose the DataFrame for plotting\n",
    "energy_labels_energy_demand_norm_T = energy_labels_impacts_norm[[\"Electricity use\", \"GHG emissions\", \"Material intensity\"]].T\n",
    "\n",
    "# Plot using Pandas' built-in plot method\n",
    "ax = energy_labels_energy_demand_norm_T.plot(kind=\"bar\", color=colors, stacked=True, figsize=(6, 8))\n",
    "ax.set_ylabel(\"Percentage\")\n",
    "ax.set_title(\"Environmental impacts of space cooling, breakdown by energy label\")\n",
    "ax.legend(loc=\"upper left\", bbox_to_anchor=(1, 1))\n",
    "plt.xticks(rotation=45, fontsize=8, ha=\"right\")\n",
    "plt.tight_layout()\n",
    "plt.savefig(f\"data/output/images/stacked_bar_chart_cooling_impacts_per_energy_label_{SCENARIO}_{BUILDING_SUBSET_NAME}.png\", dpi=300)\n",
    "plt.show()"
   ]
  },
  {
   "cell_type": "markdown",
   "metadata": {},
   "source": [
    "## Scenarios"
   ]
  },
  {
   "cell_type": "code",
   "execution_count": null,
   "metadata": {},
   "outputs": [],
   "source": [
    "# Constant parameters\n",
    "MULTIDIRECTIONAL_SOLAR_RADIATION_FRACTIONS_PATH = Path(\n",
    "    \"data/input/parameters/multidirectional_solar_radiation_fractions.csv\",\n",
    ")  # The file containing the multidirectional solar radiation fractions\n",
    "PRESENCE_LOAD_FACTORS_PATH = Path(\"data/input/parameters/presence_load_factors.csv\")  # The file containing the presence load factors\n",
    "building_subset_name = \"sample_2000\"\n",
    "BAG_data_input_path = Path(f\"data/output/geodata/BAG_buildings_with_residence_data_{building_subset_name}_SQ.gpkg\")  # The path to the GeoPackage containing the BAG building data\n",
    "BAG_data_layer_name = f\"BAG_buildings_{building_subset_name}_SQ\"  # The name of the layer containing the BAG building data\n",
    "include_time_series_in_dataframe = True\n",
    "\n",
    "# Create a dictionary to store the CDM results for all scenarios\n",
    "buildings_samples = {}\n",
    "global_parameters_dict = {}\n",
    "\n",
    "for scenario in [\"SQ\", \"2030\", \"2050_L\", \"2050_M\", \"2050_H\"]:\n",
    "    # Scenario-dependent parameters\n",
    "    scenario_folder = Path(f\"data/input/parameters/parameters_{scenario}\")  # The folder containing the scenario specific parameters\n",
    "    global_parameters_path = scenario_folder / Path(\"parameters_global.csv\")  # The file containing the global parameters\n",
    "    building_type_parameters_path = scenario_folder / Path(\"parameters_building_type.csv\")  # The file containing the building type dependent parameters\n",
    "    energy_class_parameters_path = scenario_folder / Path(\"parameters_energy_class.csv\")  # The file containing the energy class dependent parameters\n",
    "    cooling_technology_parameters_path = scenario_folder / Path(\"parameters_cooling_technology.csv\")  # The file containing the cooling technology dependent parameters\n",
    "\n",
    "    # Load global parameters and add them to the dictionary\n",
    "    global_parameters = read_global_parameters(global_parameters_path)\n",
    "    global_parameters_dict[scenario] = global_parameters\n",
    "\n",
    "    # Load static parameters such as physical constants, building type- and energy label-dependant parameters\n",
    "    building_type_parameters = read_parameter_specific_data(building_type_parameters_path)\n",
    "    energy_class_parameters = read_parameter_specific_data(energy_class_parameters_path)\n",
    "    cooling_technology_parameters = read_parameter_specific_data(cooling_technology_parameters_path)\n",
    "\n",
    "    # Load the building data containing the building geometries and simple building parameters\n",
    "    buildings = read_buildings(BAG_data_input_path, BAG_data_layer_name)\n",
    "\n",
    "    # Load the raw weather data\n",
    "    raw_weather_data = get_raw_weather_data(global_parameters)\n",
    "\n",
    "    # Assign the building parameters\n",
    "    buildings = add_parameters_to_buildings(buildings, global_parameters, building_type_parameters, energy_class_parameters)\n",
    "\n",
    "    # Build the cooling technologies DataFrame\n",
    "    cooling_technologies = calculate_environmental_parameters_for_cooling_technologies(cooling_technology_parameters, global_parameters)\n",
    "\n",
    "    # Assign the cooling technology parameters to the buildings\n",
    "    buildings = add_cooling_technology_data_to_buildings(buildings, cooling_technologies)\n",
    "\n",
    "    # Create time series for weather series and other hourly data\n",
    "    time_series = create_time_series(global_parameters, raw_weather_data, MULTIDIRECTIONAL_SOLAR_RADIATION_FRACTIONS_PATH, PRESENCE_LOAD_FACTORS_PATH)\n",
    "\n",
    "    # Calculate the cooling demand in one go, including the cooling demand time series if INCLUDE_TIME_SERIES_IN_DATAFRAME is set to True\n",
    "    buildings = calc_cooling_demand_metrics_for_df(buildings, time_series, global_parameters, include_time_series_in_dataframe)\n",
    "\n",
    "    # Calculate the environmental impacts\n",
    "    buildings, impact_summary = calculate_environmental_impacts_from_cooling_demand(buildings, global_parameters)\n",
    "    buildings_samples[scenario] = buildings"
   ]
  },
  {
   "cell_type": "code",
   "execution_count": null,
   "metadata": {},
   "outputs": [],
   "source": [
    "# Set scenario variable, we can only run the figures for one scenario at a time due to memory constraints\n",
    "scenario = \"2050_H\""
   ]
  },
  {
   "cell_type": "markdown",
   "metadata": {},
   "source": [
    "### Thermal flows"
   ]
  },
  {
   "cell_type": "code",
   "execution_count": null,
   "metadata": {},
   "outputs": [],
   "source": [
    "# Create a custom color map for the thermal flows\n",
    "tab10 = plt.cm.get_cmap(\"tab10\", 10)\n",
    "first_5_colors = [tab10(i) for i in range(5)]\n",
    "colors_thermal_flows = [*first_5_colors, \"blue\"]"
   ]
  },
  {
   "cell_type": "markdown",
   "metadata": {},
   "source": [
    "#### Per building type"
   ]
  },
  {
   "cell_type": "code",
   "execution_count": null,
   "metadata": {},
   "outputs": [],
   "source": [
    "# Fetch the aggregated results for just building types, but including time series.\n",
    "building_types_with_time_series = aggregate_results(\n",
    "    buildings=buildings_samples[scenario],\n",
    "    global_parameters=global_parameters_dict[scenario],\n",
    "    groupby_columns=(\"building_type_int\", \"building_type\"),\n",
    "    include_time_series=True,\n",
    "    scale_with_building_stock=True,\n",
    ")"
   ]
  },
  {
   "cell_type": "code",
   "execution_count": null,
   "metadata": {},
   "outputs": [],
   "source": [
    "# Set the start and end date\n",
    "start_date = \"2019-07-25\"\n",
    "end_date = \"2019-07-27\"\n",
    "\n",
    "# Convert the dates to strings\n",
    "start_date_str = pd.to_datetime(start_date).strftime(\"%B %-d, %Y\")\n",
    "end_date_str = pd.to_datetime(end_date).strftime(\"%B %-d, %Y\")\n",
    "\n",
    "# Initialize the figure\n",
    "fig, axes = plt.subplots(\n",
    "    nrows=2,\n",
    "    ncols=4,\n",
    "    sharex=True,\n",
    "    sharey=True,\n",
    "    figsize=(24, 10),\n",
    ")\n",
    "\n",
    "# Flatten the 2x4 axes array for easy iteration\n",
    "flat_axes = axes.flatten()\n",
    "\n",
    "# Iterate over the building types and the axes\n",
    "for (_idx, building), ax in zip(building_types_with_time_series.iterrows(), flat_axes, strict=True):\n",
    "    plot_thermal_flows_for_building_types(\n",
    "        building=building,\n",
    "        time_series=pd.DataFrame(time_series),\n",
    "        start_date=start_date,\n",
    "        end_date=end_date,\n",
    "        subplot_ax=ax,\n",
    "        sort_hours=False,\n",
    "    )\n",
    "for ax in flat_axes:\n",
    "    ax.set_ylim(-19, 110)\n",
    "\n",
    "for ax in axes[:, 0]:  # Set the y axis labels\n",
    "    ax.set_ylabel(\"Thermal flow (W/m2)\")\n",
    "\n",
    "for ax in axes[-1, :]:  # Set the x axis labels\n",
    "    ax.set_xlabel(\"Hour\")\n",
    "\n",
    "flat_axes[0].legend(loc=\"best\")  # Add the legend only for the top left subplot\n",
    "plt.suptitle(f\"Thermal flows for varying building types during a heatwave ({scenario.replace('_', ' ')} scenario)\")\n",
    "plt.savefig(f\"data/output/images/thermal_flows/thermal_components_building_type_all_heatwave_{scenario}_{building_subset_name}.png\", dpi=300)\n",
    "plt.show()"
   ]
  },
  {
   "cell_type": "markdown",
   "metadata": {},
   "source": [
    "#### Total building stock"
   ]
  },
  {
   "cell_type": "code",
   "execution_count": null,
   "metadata": {},
   "outputs": [],
   "source": [
    "# HACK to easily aggregate the building types into one row representing the total building stock, we add a column that is equal to 1 for all rows\n",
    "building_types_with_time_series[\"hack\"] = 1\n",
    "\n",
    "# Aggregate the results to one row\n",
    "total_buildings_with_time_series = aggregate_results(\n",
    "    buildings=building_types_with_time_series,\n",
    "    global_parameters=global_parameters_dict[scenario],\n",
    "    groupby_columns=([\"hack\"]),\n",
    "    include_time_series=True,\n",
    "    scale_with_building_stock=False,\n",
    ")\n",
    "\n",
    "building_total = total_buildings_with_time_series.iloc[0]"
   ]
  },
  {
   "cell_type": "code",
   "execution_count": null,
   "metadata": {},
   "outputs": [],
   "source": [
    "# Set the start and end date\n",
    "start_date = \"2019-07-25\"\n",
    "end_date = \"2019-07-27\"\n",
    "\n",
    "# Scaling factor to estimate the total thermal flows for the full 59,381 buildings\n",
    "scaling_factor = 59_381 / 2_008\n",
    "\n",
    "# Fetch the start and end index from the time series\n",
    "start_index, end_index = get_indices_from_dates(pd.DataFrame(time_series), start_date, end_date)\n",
    "\n",
    "# Construct a heat flow to label dictionary\n",
    "heat_flow_to_label = {\n",
    "    \"Q_transmission_Wh\": \"Transmission\",\n",
    "    \"Q_infiltration_Wh\": \"Infiltration\",\n",
    "    \"Q_ventilation_Wh\": \"Ventilation\",\n",
    "    \"Q_solar_radiation_Wh\": \"Solar radiation\",\n",
    "    \"Q_internal_heat_Wh\": \"Internal heat\",\n",
    "    \"Q_cooling_demand_Wh\": \"Cooling demand\",\n",
    "}\n",
    "\n",
    "# Plot the thermal flows\n",
    "for (heat_flow, label), color in zip(heat_flow_to_label.items(), colors_thermal_flows, strict=True):\n",
    "    alpha = 0.7 if heat_flow == \"Q_cooling_demand_Wh\" else 0.5\n",
    "    plt.plot(\n",
    "        building_total[heat_flow][start_index:end_index] * scaling_factor / 1_000_000,  # Convert from W to MW\n",
    "        label=label,\n",
    "        color=color,\n",
    "        alpha=alpha,\n",
    "    )\n",
    "\n",
    "plt.title(f\"Thermal flows for all residential and office buildings \\n during a heatwave ({scenario.replace('_', ' ')} scenario)\")\n",
    "plt.xlabel(\"Hour\")\n",
    "plt.ylabel(\"Thermal flow (MW)\")\n",
    "plt.ylim(-300, 1700)\n",
    "plt.legend(loc=\"upper right\")\n",
    "plt.tight_layout()\n",
    "plt.savefig(f\"data/output/images/thermal_flows/thermal_components_total_heatwave_{scenario}_{building_subset_name}.png\", dpi=300)\n",
    "plt.show()"
   ]
  },
  {
   "cell_type": "markdown",
   "metadata": {},
   "source": [
    "### Cooling load"
   ]
  },
  {
   "cell_type": "markdown",
   "metadata": {},
   "source": [
    "#### Per building type"
   ]
  },
  {
   "cell_type": "code",
   "execution_count": null,
   "metadata": {},
   "outputs": [],
   "source": [
    "# Fetch the aggregated results for just building types, but including time series.\n",
    "building_types_with_time_series = aggregate_results(\n",
    "    buildings=buildings_samples[scenario],\n",
    "    global_parameters=global_parameters_dict[scenario],\n",
    "    groupby_columns=(\"building_type_int\", \"building_type\"),\n",
    "    include_time_series=True,\n",
    "    scale_with_building_stock=True,\n",
    ")"
   ]
  },
  {
   "cell_type": "code",
   "execution_count": null,
   "metadata": {},
   "outputs": [],
   "source": [
    "# Initialize the figure\n",
    "fig, axes = plt.subplots(\n",
    "    nrows=2,\n",
    "    ncols=4,\n",
    "    sharex=True,\n",
    "    sharey=True,\n",
    "    figsize=(24, 10),\n",
    ")\n",
    "\n",
    "# Flatten the 2x4 axes array for easy iteration\n",
    "flat_axes = axes.flatten()\n",
    "\n",
    "# Iterate over the building types and the axes\n",
    "for (_idx, building), ax in zip(building_types_with_time_series.iterrows(), flat_axes, strict=True):\n",
    "    plot_cooling_loads_for_building_types(\n",
    "        building=building,\n",
    "        subplot_ax=ax,\n",
    "    )\n",
    "\n",
    "for ax in flat_axes:\n",
    "    ax.set_ylim(0, 80)\n",
    "\n",
    "for ax in axes[:, 0]:  # Set the y axis labels\n",
    "    ax.set_ylabel(\"Cooling demand (Wh/m2)\")\n",
    "\n",
    "for ax in axes[-1, :]:  # Set the x axis labels\n",
    "    ax.set_xlabel(\"Hour\")\n",
    "\n",
    "flat_axes[0].legend(loc=\"best\")  # Add the legend only for the top left subplot\n",
    "plt.suptitle(f\"Annual cooling loads for varying building types ({scenario.replace('_', ' ')} scenario)\")\n",
    "plt.savefig(f\"data/output/images/thermal_flows/cooling_load_building_type_all_{scenario}_{building_subset_name}.png\", dpi=300)\n",
    "plt.show()"
   ]
  },
  {
   "cell_type": "markdown",
   "metadata": {},
   "source": [
    "#### Total building stock"
   ]
  },
  {
   "cell_type": "code",
   "execution_count": null,
   "metadata": {},
   "outputs": [],
   "source": [
    "# HACK to easily aggregate the building types into one row representing the total building stock, we add a column that is equal to 1 for all rows\n",
    "building_types_with_time_series[\"hack\"] = 1\n",
    "\n",
    "# Aggregate the results to one row\n",
    "total_buildings_with_time_series = aggregate_results(\n",
    "    buildings=building_types_with_time_series,\n",
    "    global_parameters=global_parameters_dict[scenario],\n",
    "    groupby_columns=([\"hack\"]),\n",
    "    include_time_series=True,\n",
    "    scale_with_building_stock=False,\n",
    ")\n",
    "\n",
    "building_total = total_buildings_with_time_series.iloc[0]"
   ]
  },
  {
   "cell_type": "code",
   "execution_count": null,
   "metadata": {},
   "outputs": [],
   "source": [
    "# Scaling factor to estimate the total thermal flows for the full 59,381 buildings\n",
    "scaling_factor = 59_381 / 2_008\n",
    "\n",
    "# Fetch the average cooling demand in a year across the 2018 - 2022 period\n",
    "Q_cooling_demand_average = building_total[\"Q_cooling_demand_Wh\"].reshape(5, 8760).mean(axis=0)\n",
    "\n",
    "# Scale to the total building stock and convert from Wh to MWh\n",
    "Q_cooling_demand_average = Q_cooling_demand_average * scaling_factor / 1_000_000\n",
    "\n",
    "# Sort the average cooling demand in descending order\n",
    "Q_cooling_demand_sorted = np.sort(Q_cooling_demand_average)[::-1]\n",
    "\n",
    "# Figure out the 98th percentile of the average cooling power demand\n",
    "peak_power_percentile = np.percentile(Q_cooling_demand_sorted, 98)\n",
    "\n",
    "# Cap the sorted energy array at the power percentile cap\n",
    "Q_cooling_demand_capped = np.where(Q_cooling_demand_sorted > peak_power_percentile, peak_power_percentile, Q_cooling_demand_sorted)\n",
    "\n",
    "# Sort the capped cooling demand in descending order\n",
    "Q_cooling_demand_capped_sorted = np.sort(Q_cooling_demand_capped)[::-1]\n",
    "\n",
    "plt.plot(Q_cooling_demand_average, label=\"Cooling energy demand\", alpha=0.5)\n",
    "plt.plot(Q_cooling_demand_sorted, label=\"Cooling energy demand, sorted\", color=\"blue\", linestyle=\"--\", alpha=0.5)\n",
    "plt.hlines(\n",
    "    peak_power_percentile,\n",
    "    0,\n",
    "    8760,\n",
    "    label=\"98th percentile of cooling demand\",\n",
    "    color=\"red\",\n",
    "    linestyle=\"--\",\n",
    ")\n",
    "plt.plot(\n",
    "    Q_cooling_demand_capped_sorted,\n",
    "    label=\"Cooling energy demand, capped at 98th percentile\",\n",
    "    color=\"blue\",\n",
    ")\n",
    "plt.fill_between(range(8760), Q_cooling_demand_sorted, color=\"blue\", alpha=0.2)\n",
    "plt.fill_between(range(8760), Q_cooling_demand_capped_sorted, color=\"blue\", alpha=0.2)\n",
    "plt.title(f\"Annual cooling demand load for all residential and office buildings ({scenario.replace('_', ' ')} scenario)\")\n",
    "plt.ylim(0, 1500)\n",
    "plt.ylabel(\"Cooling demand (MWh)\")\n",
    "plt.xlabel(\"Hour\")\n",
    "plt.legend()\n",
    "plt.tight_layout()\n",
    "plt.savefig(f\"data/output/images/thermal_flows/cooling_load_total_{scenario}_{building_subset_name}.png\", dpi=300)\n",
    "plt.show()"
   ]
  }
 ],
 "metadata": {
  "kernelspec": {
   "display_name": "env",
   "language": "python",
   "name": "python3"
  },
  "language_info": {
   "codemirror_mode": {
    "name": "ipython",
    "version": 3
   },
   "file_extension": ".py",
   "mimetype": "text/x-python",
   "name": "python",
   "nbconvert_exporter": "python",
   "pygments_lexer": "ipython3",
   "version": "3.11.6"
  },
  "orig_nbformat": 4
 },
 "nbformat": 4,
 "nbformat_minor": 2
}
