{
 "cells": [
  {
   "cell_type": "markdown",
   "metadata": {},
   "source": [
    "# 1. Introduction\n",
    "This notebook contains the code for the GIS section of the project. It extracts the necessary building data from the shapefiles and creates the necessary parameter DataFrames for the cooling demand model (CDM).\n"
   ]
  },
  {
   "cell_type": "markdown",
   "metadata": {},
   "source": [
    "## 1.1 Prepare environment"
   ]
  },
  {
   "cell_type": "markdown",
   "metadata": {},
   "source": [
    "### Import libraries"
   ]
  },
  {
   "cell_type": "code",
   "execution_count": null,
   "metadata": {},
   "outputs": [],
   "source": [
    "import re\n",
    "from pathlib import Path\n",
    "\n",
    "import geopandas as gpd\n",
    "import matplotlib.colors as plt_colors\n",
    "import matplotlib.pyplot as plt\n",
    "import numpy as np\n",
    "import pandas as pd\n",
    "import rasterio\n",
    "import seaborn as sns\n",
    "from itables import init_notebook_mode\n",
    "from rasterstats import zonal_stats\n",
    "from scipy.stats import spearmanr\n",
    "\n",
    "from functions.geometric import azimuth_rectangle\n",
    "\n",
    "# To improve interaction with DataFrames\n",
    "init_notebook_mode(all_interactive=True)"
   ]
  },
  {
   "cell_type": "markdown",
   "metadata": {},
   "source": [
    "### Define global parameters\n"
   ]
  },
  {
   "cell_type": "code",
   "execution_count": null,
   "metadata": {},
   "outputs": [],
   "source": [
    "ENERGY_LABEL_TO_INT = {  # Dictionary to translate the energy labels to a integer value\n",
    "    \"A+++++\": 1,\n",
    "    \"A++++\": 2,\n",
    "    \"A+++\": 3,\n",
    "    \"A++\": 4,\n",
    "    \"A+\": 5,\n",
    "    \"A\": 6,\n",
    "    \"B\": 7,\n",
    "    \"C\": 8,\n",
    "    \"D\": 9,\n",
    "    \"E\": 10,\n",
    "    \"F\": 11,\n",
    "    \"G\": 12,\n",
    "}\n",
    "\n",
    "ENERGY_CLASS_TO_INT = {\n",
    "    \"A-A+++++\": 1,\n",
    "    \"B-C\": 2,\n",
    "    \"D-E\": 3,\n",
    "    \"F-G\": 4,\n",
    "}"
   ]
  },
  {
   "cell_type": "markdown",
   "metadata": {},
   "source": [
    "# 2. Pre-processing GIS data"
   ]
  },
  {
   "cell_type": "markdown",
   "metadata": {},
   "source": [
    "## 2.1 Residence level data"
   ]
  },
  {
   "cell_type": "markdown",
   "metadata": {},
   "source": [
    "### Load data"
   ]
  },
  {
   "cell_type": "markdown",
   "metadata": {},
   "source": [
    "#### Define path and layers names"
   ]
  },
  {
   "cell_type": "code",
   "execution_count": null,
   "metadata": {},
   "outputs": [],
   "source": [
    "ENERGY_LABELS_PATH = Path(\"data/input/geodata/energy_labels_TheHague.csv\")\n",
    "POSTCODES_PATH = Path(\"data/input/geodata/postcodes_TheHague.csv\")\n",
    "BAG_RESIDENCES_INPUT_PATH = Path(\"data/input/geodata/BAG_residences_TheHague.gpkg\")\n",
    "BAG_RESIDENCES_LAYER_NAME = \"BAG_residences\"\n",
    "BAG_RESIDENCES_OUTPUT_PATH = Path(\"data/output/geodata/BAG_residences_with_e_labels.gpkg\")"
   ]
  },
  {
   "cell_type": "markdown",
   "metadata": {},
   "source": [
    "#### Read in data"
   ]
  },
  {
   "cell_type": "code",
   "execution_count": null,
   "metadata": {},
   "outputs": [],
   "source": [
    "# Read the energy labels csv file\n",
    "e_labels = pd.read_csv(ENERGY_LABELS_PATH, sep=\";\", dtype=\"str\", low_memory=False)\n",
    "\n",
    "# Extract the list of postcodes in The Hague\n",
    "postcodes_TheHague = pd.read_csv(POSTCODES_PATH, sep=\",\", dtype=\"str\")\n",
    "\n",
    "# Open GeoPackage with BAG residences using geopandas\n",
    "bag_residences = gpd.read_file(BAG_RESIDENCES_INPUT_PATH, layer=BAG_RESIDENCES_LAYER_NAME)"
   ]
  },
  {
   "cell_type": "markdown",
   "metadata": {},
   "source": [
    "#### Pre-process BAG residence data"
   ]
  },
  {
   "cell_type": "code",
   "execution_count": null,
   "metadata": {},
   "outputs": [],
   "source": [
    "# Rename columns of BAG residences DataFrame\n",
    "column_translation_BAG_residences = {  # Dictionary to translate column names from BAG (Dutch) to Python model (English)\n",
    "    \"feature_id\": \"feature_id\",  # ID of feature in the GIS model\n",
    "    \"identificatie\": \"id_BAG\",  # ID of residence in BAG database\n",
    "    \"oppervlakte\": \"floor_area_m2\",  # Floor area of residence in square meters\n",
    "    \"status\": \"status\",  # Status of residence (in use, demolished, not built yet)\n",
    "    \"gebruiksdoel\": \"end_use\",  # End use of residence (residential, office, etc.)\n",
    "    \"geometry\": \"geometry\",  # Geometry data of residence (used in GIS)\n",
    "}\n",
    "\n",
    "# Translate columns from BAG (Dutch) to Python model (English)\n",
    "bag_residences = bag_residences.rename(columns=column_translation_BAG_residences)\n",
    "\n",
    "# Keep only columns with data used in the model\n",
    "bag_residences = bag_residences[list(column_translation_BAG_residences.values())]"
   ]
  },
  {
   "cell_type": "markdown",
   "metadata": {},
   "source": [
    "### Join data"
   ]
  },
  {
   "cell_type": "markdown",
   "metadata": {},
   "source": [
    "#### Extract the The Hague energy labels from the National dataset"
   ]
  },
  {
   "cell_type": "code",
   "execution_count": null,
   "metadata": {},
   "outputs": [],
   "source": [
    "# Extract the first 4 digits of the postcode in the energy labels dataset\n",
    "e_labels[\"postcode_numerical\"] = e_labels[\"Postcode\"].str[:4]\n",
    "\n",
    "# Filter the energy labels dataset to only include postcodes in The Hague\n",
    "e_labels_TheHague = e_labels[e_labels[\"postcode_numerical\"].isin(postcodes_TheHague[\"postcode\"].tolist())]\n",
    "\n",
    "# Add a column to the energy labels dataset translating the energy labels to an integer value\n",
    "e_labels_TheHague[\"energy_label_int\"] = e_labels_TheHague[\"Energieklasse\"].replace(ENERGY_LABEL_TO_INT)\n",
    "\n",
    "# Drop the rows with NaN values in the BAGverblijfsobjectid column\n",
    "e_labels_TheHague = e_labels_TheHague.dropna(subset=[\"BAGverblijfsobjectid\"])"
   ]
  },
  {
   "cell_type": "markdown",
   "metadata": {},
   "source": [
    "#### Join energy labels to BAG residences"
   ]
  },
  {
   "cell_type": "code",
   "execution_count": null,
   "metadata": {},
   "outputs": [],
   "source": [
    "# Join the energy_label_numerical column of the e_labels_TheHague dataset to the bag_residences dataset\n",
    "bag_residences = bag_residences.merge(\n",
    "    e_labels_TheHague[[\"BAGverblijfsobjectid\", \"energy_label_int\"]],\n",
    "    left_on=\"id_BAG\",\n",
    "    right_on=\"BAGverblijfsobjectid\",\n",
    "    how=\"left\",\n",
    ")\n",
    "\n",
    "# Drop BAGverblijfsobjectid column\n",
    "bag_residences = bag_residences.drop(columns=[\"BAGverblijfsobjectid\"])"
   ]
  },
  {
   "cell_type": "markdown",
   "metadata": {},
   "source": [
    "### Save data"
   ]
  },
  {
   "cell_type": "code",
   "execution_count": null,
   "metadata": {},
   "outputs": [],
   "source": [
    "# Save the bag_residences DataFrame to a GeoPackage file\n",
    "bag_residences.to_file(BAG_RESIDENCES_OUTPUT_PATH, layer=BAG_RESIDENCES_LAYER_NAME, driver=\"GPKG\")"
   ]
  },
  {
   "cell_type": "markdown",
   "metadata": {},
   "source": [
    "## 2.2 Building level data"
   ]
  },
  {
   "cell_type": "markdown",
   "metadata": {},
   "source": [
    "### Load data"
   ]
  },
  {
   "cell_type": "markdown",
   "metadata": {},
   "source": [
    "#### Define path and layers names"
   ]
  },
  {
   "cell_type": "code",
   "execution_count": null,
   "metadata": {},
   "outputs": [],
   "source": [
    "BAG_BUILDINGS_INPUT_PATH = Path(\"data/input/geodata/BAG_buildings_TheHague.gpkg\")\n",
    "BAG_BUILDINGS_MAIN_LAYER_NAME = \"BAG_buildings\"\n",
    "BAG_3D_ROOF_ELEVATIONS_LAYER_NAME = \"BAG_3D_roof_elevations\"\n",
    "BAG_3D_GROUND_ELEVATIONS_LAYER_NAME = \"BAG_3D_ground_elevations\"\n",
    "BAG_BUILDINGS_OUTPUT_PATH = Path(\"data/output/geodata/BAG_buildings_with_height_data.gpkg\")\n",
    "BAG_MPRS_LAYER_NAME = \"BAG_building_MPRs\""
   ]
  },
  {
   "cell_type": "markdown",
   "metadata": {},
   "source": [
    "#### Read in data"
   ]
  },
  {
   "cell_type": "code",
   "execution_count": null,
   "metadata": {},
   "outputs": [],
   "source": [
    "# Open GeoPackages with BAG building-level layers using geopandas\n",
    "bag_buildings = gpd.read_file(\n",
    "    BAG_BUILDINGS_INPUT_PATH,\n",
    "    layer=BAG_BUILDINGS_MAIN_LAYER_NAME,\n",
    ")  # Main layer with building data\n",
    "bag_3d_roof_elevations = gpd.read_file(\n",
    "    BAG_BUILDINGS_INPUT_PATH,\n",
    "    layer=BAG_3D_ROOF_ELEVATIONS_LAYER_NAME,\n",
    ")  # Layer with roof heights in meters\n",
    "bag_3d_ground_elevations = gpd.read_file(\n",
    "    BAG_BUILDINGS_INPUT_PATH,\n",
    "    layer=BAG_3D_GROUND_ELEVATIONS_LAYER_NAME,\n",
    ")  # Layer with ground elevations in meters"
   ]
  },
  {
   "cell_type": "markdown",
   "metadata": {},
   "source": [
    "#### Pre-process the main BAG Buildings layer"
   ]
  },
  {
   "cell_type": "code",
   "execution_count": null,
   "metadata": {},
   "outputs": [],
   "source": [
    "# Rename columns of BAG buildings DataFrame\n",
    "column_translation_BAG_buildings = {  # Dictionary to translate column names from BAG (Dutch) to Python model (English)\n",
    "    \"feature_id\": \"feature_id\",  # ID of feature in the GIS model\n",
    "    \"identificatie\": \"id_BAG\",  # ID of residence in BAG database\n",
    "    \"bouwjaar\": \"construction_year\",  # Year of building construction\n",
    "    \"status\": \"status\",  # Status of building (in use, demolished, not built yet)\n",
    "    \"geometry\": \"geometry\",  # Geometry data of building (used in GIS)\n",
    "}\n",
    "\n",
    "# Translate column names from BAG (Dutch) to Python model (English)\n",
    "bag_buildings = bag_buildings.rename(columns=column_translation_BAG_buildings)\n",
    "\n",
    "# Keep only columns with data used in the model\n",
    "bag_buildings = bag_buildings[list(column_translation_BAG_buildings.values())]\n",
    "\n",
    "# Calculate surface of the ground floor, which is assumed to follow the shape of the building,  in square meters\n",
    "bag_buildings[\"floor_area_ground_m2\"] = bag_buildings[\"geometry\"].area"
   ]
  },
  {
   "cell_type": "markdown",
   "metadata": {},
   "source": [
    "### Join data"
   ]
  },
  {
   "cell_type": "markdown",
   "metadata": {},
   "source": [
    "#### Join height data to main buildings layer\n"
   ]
  },
  {
   "cell_type": "code",
   "execution_count": null,
   "metadata": {},
   "outputs": [],
   "source": [
    "# Extract BAG ID for both bag_3d_roof_elevations and bag_3d_ground_elevations using str.split(\".\").str[-1]\n",
    "bag_3d_roof_elevations[\"BAG_building_ID\"] = bag_3d_roof_elevations[\"identificatie\"].str.split(\".\").str[-1]\n",
    "bag_3d_ground_elevations[\"BAG_building_ID\"] = bag_3d_ground_elevations[\"identificatie\"].str.split(\".\").str[-1]\n",
    "\n",
    "# Join the 70th percentile of roof elevation from bag_3d_roof_elevations to bag_buildings\n",
    "bag_buildings = bag_buildings.merge(\n",
    "    bag_3d_roof_elevations[[\"BAG_building_ID\", \"b3_h_70p\"]],\n",
    "    left_on=\"id_BAG\",\n",
    "    right_on=\"BAG_building_ID\",\n",
    "    how=\"left\",\n",
    ")\n",
    "\n",
    "# Drop BAG_building_ID column from joined DataFrame\n",
    "bag_buildings = bag_buildings.drop(columns=[\"BAG_building_ID\"])\n",
    "\n",
    "# Join ground elevation from bag_3d_ground_elevations to bag_buildings\n",
    "bag_buildings = bag_buildings.merge(\n",
    "    bag_3d_ground_elevations[[\"BAG_building_ID\", \"b3_h_maaiveld\"]],\n",
    "    left_on=\"id_BAG\",\n",
    "    right_on=\"BAG_building_ID\",\n",
    "    how=\"left\",\n",
    ")\n",
    "\n",
    "# Drop BAG_building_ID column from joined DataFrame\n",
    "bag_buildings = bag_buildings.drop(columns=[\"BAG_building_ID\"])\n",
    "\n",
    "# Rename height columns from 3D BAG\n",
    "bag_buildings = bag_buildings.rename(columns={\"b3_h_70p\": \"roof_elevation_m\", \"b3_h_maaiveld\": \"ground_elevation_m\"})\n",
    "\n",
    "# Calculate height of building in meters from BAG 3D data\n",
    "bag_buildings[\"height_m\"] = bag_buildings[\"roof_elevation_m\"] - bag_buildings[\"ground_elevation_m\"]\n",
    "\n",
    "# Drop duplicate rows\n",
    "bag_buildings = bag_buildings.drop_duplicates()\n",
    "\n",
    "# Drop buildings with no height data (<1% of the total floor area)\n",
    "bag_buildings = bag_buildings.dropna(subset=[\"height_m\"])"
   ]
  },
  {
   "cell_type": "markdown",
   "metadata": {},
   "source": [
    "#### Calculate building volumes"
   ]
  },
  {
   "cell_type": "code",
   "execution_count": null,
   "metadata": {},
   "outputs": [],
   "source": [
    "# Calculate the volume of the building in m3 by multiplying the ground floor area with the height of the building\n",
    "bag_buildings[\"volume_m3\"] = bag_buildings[\"height_m\"] * bag_buildings[\"floor_area_ground_m2\"]"
   ]
  },
  {
   "cell_type": "markdown",
   "metadata": {},
   "source": [
    "#### Determine minimum bounding rectangles (MBRs)"
   ]
  },
  {
   "cell_type": "code",
   "execution_count": null,
   "metadata": {},
   "outputs": [],
   "source": [
    "# Determine the minimum bounding rectangle (MBR) of the buildings\n",
    "bag_buildings[\"MBR_geometry\"] = bag_buildings.geometry.apply(lambda geom: geom.minimum_rotated_rectangle)\n",
    "\n",
    "# Calculate azimuth, i.e. orientation angle of the MBRs, and the width and length of the MBRs in meters\n",
    "(\n",
    "    bag_buildings[\"MBR_azimuth\"],\n",
    "    bag_buildings[\"MBR_width_m\"],\n",
    "    bag_buildings[\"MBR_length_m\"],\n",
    ") = zip(*bag_buildings[\"MBR_geometry\"].map(azimuth_rectangle), strict=True)"
   ]
  },
  {
   "cell_type": "markdown",
   "metadata": {},
   "source": [
    "#### Create a new layer to save the MBR geometries for visualisation purposes"
   ]
  },
  {
   "cell_type": "code",
   "execution_count": null,
   "metadata": {},
   "outputs": [],
   "source": [
    "# Create a new DataFrame with only the MBR data\n",
    "bag_buildings_MBR = bag_buildings[[\"id_BAG\", \"MBR_geometry\", \"MBR_azimuth\", \"MBR_width_m\", \"MBR_length_m\"]]\n",
    "\n",
    "# Rename MBR_geometry to geometry\n",
    "bag_buildings_MBR = bag_buildings_MBR.rename(columns={\"MBR_geometry\": \"geometry\"})\n",
    "\n",
    "# Drop MBR_geometry in main DataFrame as a layer can only have one geometry column\n",
    "bag_buildings = bag_buildings.drop(columns=[\"MBR_geometry\"])"
   ]
  },
  {
   "cell_type": "markdown",
   "metadata": {},
   "source": [
    "### Save data"
   ]
  },
  {
   "cell_type": "code",
   "execution_count": null,
   "metadata": {},
   "outputs": [],
   "source": [
    "# Write GeoDataFrames to GeoPackage\n",
    "bag_buildings.to_file(BAG_BUILDINGS_OUTPUT_PATH, layer=BAG_BUILDINGS_MAIN_LAYER_NAME, driver=\"GPKG\")\n",
    "bag_buildings_MBR.to_file(BAG_BUILDINGS_OUTPUT_PATH, layer=BAG_MPRS_LAYER_NAME, driver=\"GPKG\")"
   ]
  },
  {
   "cell_type": "markdown",
   "metadata": {},
   "source": [
    "## 2.3 Joining residence-level data to building-level data"
   ]
  },
  {
   "cell_type": "markdown",
   "metadata": {},
   "source": [
    "#### Define constants for the section\n"
   ]
  },
  {
   "cell_type": "code",
   "execution_count": null,
   "metadata": {},
   "outputs": [],
   "source": [
    "# Define path and layer names\n",
    "BAG_BUILDINGS_WITH_HEIGHT_DATA_INPUT_PATH = Path(\"data/output/geodata/BAG_buildings_with_height_data.gpkg\")\n",
    "BAG_BUILDINGS_WITH_HEIGHT_DATA_LAYER_NAME = \"BAG_buildings\"\n",
    "BAG_RESIDENCES_WITH_E_LABELS_INPUT_PATH = Path(\"data/output/geodata/BAG_residences_with_e_labels.gpkg\")\n",
    "BAG_RESIDENCES_WITH_E_LABELS_LAYER_NAME = \"BAG_residences\"\n",
    "BAG_BUILDINGS_WITH_RESIDENCE_DATA_OUTPUT_PATH = Path(\"data/output/geodata/BAG_buildings_with_residence_data.gpkg\")\n",
    "BAG_BUILDINGS_WITH_RESIDENCE_DATA_LAYER_NAME = \"BAG_buildings\"\n",
    "\n",
    "# Set to True to work with a subset of the data, False to work with all data\n",
    "WORK_WITH_SUBSET = True\n",
    "\n",
    "# Rename path and layers names accordingly\n",
    "if WORK_WITH_SUBSET:\n",
    "    BAG_BUILDINGS_WITH_RESIDENCE_DATA_LAYER_NAME = BAG_BUILDINGS_WITH_RESIDENCE_DATA_LAYER_NAME + \"_subset\"\n",
    "    BAG_BUILDINGS_WITH_RESIDENCE_DATA_OUTPUT_PATH = re.sub(r\"(\\.gpkg)$\", r\"_subset\\1\", str(BAG_BUILDINGS_WITH_RESIDENCE_DATA_OUTPUT_PATH))"
   ]
  },
  {
   "cell_type": "markdown",
   "metadata": {},
   "source": [
    "#### Read in data\n",
    "If needed, read the residence and building data from the GeoPackages"
   ]
  },
  {
   "cell_type": "code",
   "execution_count": null,
   "metadata": {},
   "outputs": [],
   "source": [
    "# Read the BAG buildings and residences layers\n",
    "bag_buildings = gpd.read_file(filename=BAG_BUILDINGS_WITH_HEIGHT_DATA_INPUT_PATH, layer=BAG_BUILDINGS_WITH_HEIGHT_DATA_LAYER_NAME)\n",
    "bag_residences = gpd.read_file(filename=BAG_RESIDENCES_WITH_E_LABELS_INPUT_PATH, layer=BAG_RESIDENCES_WITH_E_LABELS_LAYER_NAME)"
   ]
  },
  {
   "cell_type": "markdown",
   "metadata": {},
   "source": [
    "### Create a subset of the BAG for easier plotting and troubleshooting"
   ]
  },
  {
   "cell_type": "code",
   "execution_count": null,
   "metadata": {},
   "outputs": [],
   "source": [
    "bbox = bag_buildings.total_bounds  # Find bounding box of the buildings DataFrame\n",
    "\n",
    "bbox_width = bbox[2] - bbox[0]  # Calculate width of bounding box\n",
    "bbox_length = bbox[3] - bbox[1]  # Calculate length of bounding box\n",
    "\n",
    "# Create a new bounding box that is a fraction of the size of the original bounding box\n",
    "size_down_ratio = 0.1\n",
    "x_shift = 0.5\n",
    "y_shift = 0.65\n",
    "\n",
    "bbox_small = [\n",
    "    bbox[0] + bbox_width * x_shift,\n",
    "    bbox[1] + bbox_length * y_shift,\n",
    "    bbox[2] - bbox_width * (1 - x_shift + size_down_ratio),\n",
    "    bbox[3] - bbox_length * (1 - y_shift + size_down_ratio),\n",
    "]\n",
    "\n",
    "# Take selection of buildings and residences in a bounding box around the city center and plot it\n",
    "bag_buildings_subset = bag_buildings.cx[bbox_small[0] : bbox_small[2], bbox_small[1] : bbox_small[3]]\n",
    "bag_residences_subset = bag_residences.cx[bbox_small[0] : bbox_small[2], bbox_small[1] : bbox_small[3]]\n",
    "# Plot the selections\n",
    "ax = bag_buildings_subset.plot(color=\"lightgreen\")\n",
    "bag_residences_subset.plot(ax=ax, color=\"grey\", markersize=0.5)\n",
    "print(f\"Size of selection: {len(bag_buildings_subset)} buildings and {len(bag_residences_subset)} residences\")"
   ]
  },
  {
   "cell_type": "markdown",
   "metadata": {},
   "source": [
    "### Perform joins\n"
   ]
  },
  {
   "cell_type": "code",
   "execution_count": null,
   "metadata": {},
   "outputs": [],
   "source": [
    "if WORK_WITH_SUBSET:\n",
    "    bag_residences = bag_residences_subset\n",
    "    bag_buildings = bag_buildings_subset\n",
    "\n",
    "else:\n",
    "    bag_residences_subset = None\n",
    "    bag_buildings_subset = None"
   ]
  },
  {
   "cell_type": "markdown",
   "metadata": {},
   "source": [
    "#### Generate joined GeoDataFrame to perform aggregations with"
   ]
  },
  {
   "cell_type": "code",
   "execution_count": null,
   "metadata": {},
   "outputs": [],
   "source": [
    "# Join the buildings and residences GeoDataFrames\n",
    "joined_gdf = gpd.sjoin(bag_residences, bag_buildings, predicate=\"within\")\n",
    "\n",
    "# Convert the energy labels to floats for calculations\n",
    "joined_gdf[\"energy_label_int\"] = joined_gdf[\"energy_label_int\"].astype(\"float\")"
   ]
  },
  {
   "cell_type": "markdown",
   "metadata": {},
   "source": [
    "#### Determine the mean energy label per building, weighed by the floor area"
   ]
  },
  {
   "cell_type": "code",
   "execution_count": null,
   "metadata": {},
   "outputs": [],
   "source": [
    "# Calculate the mean energy label per building, weighted by floor area of the residences, but not including nan energy labels in the averaging\n",
    "mean_energy_label_per_building = (\n",
    "    joined_gdf.dropna(subset=\"energy_label_int\").groupby(\"index_right\").apply(lambda x: round(np.average(x[\"energy_label_int\"], weights=x[\"floor_area_m2\"]))).reset_index()\n",
    ")\n",
    "\n",
    "# Rename columns and reset index for merging back to buildings DataFrame\n",
    "mean_energy_label_per_building = mean_energy_label_per_building.rename(columns={0: \"energy_label_int\"})\n",
    "mean_energy_label_per_building = mean_energy_label_per_building.set_index(\"index_right\")\n",
    "\n",
    "# Join the mean energy label per building to the buildings DataFrame\n",
    "bag_buildings = bag_buildings.merge(mean_energy_label_per_building, left_index=True, right_index=True, how=\"left\")\n",
    "\n",
    "# Convert the energy labels back to text: 1: A+++++, 2: A++++, etc.\n",
    "int_to_energy_label = {v: k for k, v in ENERGY_LABEL_TO_INT.items()}\n",
    "bag_buildings[\"energy_label\"] = bag_buildings[\"energy_label_int\"].replace(int_to_energy_label)"
   ]
  },
  {
   "cell_type": "markdown",
   "metadata": {},
   "source": [
    "#### Determine the main end use per building by the floor area"
   ]
  },
  {
   "cell_type": "code",
   "execution_count": null,
   "metadata": {},
   "outputs": [],
   "source": [
    "# Calculate the floor area per end use per building\n",
    "floor_area_per_end_use_per_building = joined_gdf.groupby([\"index_right\", \"end_use\"])[\"floor_area_m2\"].sum().reset_index()\n",
    "\n",
    "# Select the end use with the largest floor area per building\n",
    "end_use_per_building = floor_area_per_end_use_per_building.loc[floor_area_per_end_use_per_building.groupby(\"index_right\")[\"floor_area_m2\"].idxmax()]\n",
    "\n",
    "# Reset index for merging back to buildings DataFrame\n",
    "end_use_per_building = end_use_per_building.set_index(\"index_right\")\n",
    "\n",
    "# Join the main end use per building to the buildings DataFrame\n",
    "bag_buildings = bag_buildings.merge(end_use_per_building[\"end_use\"], left_index=True, right_index=True, how=\"left\")"
   ]
  },
  {
   "cell_type": "markdown",
   "metadata": {},
   "source": [
    "#### Determine total floor area and amount of residences per building"
   ]
  },
  {
   "cell_type": "code",
   "execution_count": null,
   "metadata": {},
   "outputs": [],
   "source": [
    "aggregations = {\n",
    "    \"floor_area_m2\": sum,  # Sum floor area of residences\n",
    "    \"id_BAG_left\": pd.Series.nunique,  # Count number of unique residences\n",
    "}\n",
    "\n",
    "# Perform aggregation using the groupby and agg functions and ignore nan values, but keep all columns of the buildings DataFrame\n",
    "floor_area_and_residence_count_per_building = joined_gdf.groupby(\"index_right\").agg(aggregations).reset_index()\n",
    "\n",
    "# Rename columns adn reset index for merging back to buildings DataFrame\n",
    "floor_area_and_residence_count_per_building = floor_area_and_residence_count_per_building.rename(\n",
    "    columns={\"floor_area_m2\": \"floor_area_total_m2\", \"id_BAG_left\": \"number_of_residences\"},\n",
    ")\n",
    "floor_area_and_residence_count_per_building = floor_area_and_residence_count_per_building.set_index(\"index_right\")\n",
    "\n",
    "# Join the total floor area and residence count per building to the buildings DataFrame\n",
    "bag_buildings = bag_buildings.merge(floor_area_and_residence_count_per_building, left_index=True, right_index=True, how=\"left\")"
   ]
  },
  {
   "cell_type": "markdown",
   "metadata": {},
   "source": [
    "### Save data"
   ]
  },
  {
   "cell_type": "code",
   "execution_count": null,
   "metadata": {},
   "outputs": [],
   "source": [
    "# Write building GeoDataFrame with residence data to GeoPackage\n",
    "bag_buildings.to_file(BAG_BUILDINGS_WITH_RESIDENCE_DATA_OUTPUT_PATH, layer=BAG_BUILDINGS_WITH_RESIDENCE_DATA_LAYER_NAME, driver=\"GPKG\")"
   ]
  },
  {
   "cell_type": "markdown",
   "metadata": {},
   "source": [
    "## 2.4 Bonus: Analyzing relationship between economic status and UHI effect"
   ]
  },
  {
   "cell_type": "markdown",
   "metadata": {},
   "source": [
    "### Load data"
   ]
  },
  {
   "cell_type": "markdown",
   "metadata": {},
   "source": [
    "#### Define path and layers names"
   ]
  },
  {
   "cell_type": "code",
   "execution_count": null,
   "metadata": {},
   "outputs": [],
   "source": [
    "UHI_raster_image_path = Path(\"data/input/geodata/UHI_effect_TheHague.tif\")\n",
    "geographic_divisions_path = Path(\"data/input/geodata/GeographicDivisions_TheHague.gpkg\")\n",
    "census_blocks_layer = \"Census_blocks_100m_TheHague_2019\"  # Income data is only available up to 2019\n",
    "outline_layer = \"Outline_TheHague\""
   ]
  },
  {
   "cell_type": "markdown",
   "metadata": {},
   "source": [
    "#### Read in data"
   ]
  },
  {
   "cell_type": "code",
   "execution_count": null,
   "metadata": {},
   "outputs": [],
   "source": [
    "uhi_raster = rasterio.open(UHI_raster_image_path)  # UHI raster image\n",
    "census_blocks = gpd.read_file(geographic_divisions_path, layer=census_blocks_layer)  # Census blocks\n",
    "outline_TH = gpd.read_file(filename=geographic_divisions_path, layer=outline_layer)  # The outline of The Hague"
   ]
  },
  {
   "cell_type": "markdown",
   "metadata": {},
   "source": [
    "#### Pre-process data"
   ]
  },
  {
   "cell_type": "code",
   "execution_count": null,
   "metadata": {},
   "outputs": [],
   "source": [
    "uhi_data = uhi_raster.read(1)  # Read the first band of the raster image\n",
    "uhi_data[uhi_data == -9999] = np.nan  # Replace -9999 values with NaN for easier plotting and calculations\n",
    "plt.imshow(uhi_data, cmap=\"RdYlBu_r\")  # Plot the raster image"
   ]
  },
  {
   "cell_type": "code",
   "execution_count": null,
   "metadata": {},
   "outputs": [],
   "source": [
    "# CBS denotes missing values as -99997, these are replaced with NaN for easier plotting and calculations\n",
    "census_blocks = census_blocks.replace(-99997, np.nan)\n",
    "\n",
    "# The column containing the mean house value is translated\n",
    "census_blocks.rename(columns={\"gemiddeldeWozWaardeWoning\": \"house_value_mean_1000_eur\"}, inplace=True)\n",
    "\n",
    "# Create a mapping dictionary for the conversion of the median income column to a numerical value\n",
    "income_text_to_number = {\n",
    "    \"00-20 laag\": 10,\n",
    "    \"00-40 laag tot onder midden\": 20,\n",
    "    \"20-40 onder midden\": 30,\n",
    "    \"20-60 onder midden tot midden\": 40,\n",
    "    \"40-60 midden\": 50,\n",
    "    \"40-80 midden tot boven midden\": 60,\n",
    "    \"60-80 boven midden\": 70,\n",
    "    \"60-100 boven midden tot hoog\": 80,\n",
    "    \"80-100 hoog\": 90,\n",
    "    \"onclassificeerbaar\": None,\n",
    "}\n",
    "\n",
    "# Use the map function to convert the values in the column\n",
    "census_blocks[\"household_income_median_1000_eur\"] = census_blocks[\"mediaanInkomenHuishouden\"].map(income_text_to_number)"
   ]
  },
  {
   "cell_type": "markdown",
   "metadata": {},
   "source": [
    "#### Join UHI effect to census blocks"
   ]
  },
  {
   "cell_type": "code",
   "execution_count": null,
   "metadata": {},
   "outputs": [],
   "source": [
    "# Calculate mean UHI effect within each census block, in degrees Celsius\n",
    "stats = zonal_stats(census_blocks, uhi_data, affine=uhi_raster.transform, nodata=np.nan, stats=\"mean\")\n",
    "\n",
    "# Add mean UHI effect to census blocks GeoDataFrame\n",
    "census_blocks[\"UHI_effect_mean_C\"] = [stat[\"mean\"] if stat is not None else None for stat in stats]"
   ]
  },
  {
   "cell_type": "markdown",
   "metadata": {},
   "source": [
    "#### Plot the maps"
   ]
  },
  {
   "cell_type": "code",
   "execution_count": null,
   "metadata": {},
   "outputs": [],
   "source": [
    "# Create a figure with three subplots side by side\n",
    "fig, axes = plt.subplots(1, 3, figsize=(10, 5))\n",
    "\n",
    "# Define parameters for the colorbar appearance\n",
    "legend_kwds = [\n",
    "    {\n",
    "        \"label\": \"House value (€×1,000)\",\n",
    "        \"pad\": 0.01,\n",
    "        \"shrink\": 0.5,\n",
    "    },\n",
    "    {\n",
    "        \"label\": \"Household income (€×1,000)\",\n",
    "        \"pad\": 0.01,\n",
    "        \"shrink\": 0.5,\n",
    "    },\n",
    "    {\n",
    "        \"label\": \"UHI effect (°C)\",\n",
    "        \"pad\": 0.01,\n",
    "        \"shrink\": 0.5,\n",
    "    },\n",
    "]\n",
    "\n",
    "# Plot the mean house value (cutoff at 800,000 euros to prevent outliers from dominating the color scale)\n",
    "census_blocks[census_blocks[\"house_value_mean_1000_eur\"] < 800].plot(column=\"house_value_mean_1000_eur\", cmap=\"RdYlBu\", legend=True, ax=axes[0], legend_kwds=legend_kwds[0])\n",
    "axes[0].set_title(\"a)\")\n",
    "\n",
    "# Plot the median household income\n",
    "census_blocks.plot(column=\"household_income_median_1000_eur\", cmap=\"RdYlBu\", legend=True, ax=axes[1], legend_kwds=legend_kwds[1])\n",
    "axes[1].set_title(\"b)\")\n",
    "\n",
    "# Plot the mean UHI effect\n",
    "census_blocks.plot(column=\"UHI_effect_mean_C\", cmap=\"RdYlBu_r\", legend=True, ax=axes[2], legend_kwds=legend_kwds[2])\n",
    "axes[2].set_title(\"c)\")\n",
    "\n",
    "for ax in axes:\n",
    "    ax = outline_TH.plot(ax=ax, color=\"none\", edgecolor=\"black\", linewidth=0.5)  # Add the outline of The Hague\n",
    "    ax.set_axis_off()  # Remove the axis labels\n",
    "\n",
    "plt.tight_layout()\n",
    "plt.savefig(f\"data/output/images/GIS/economic_status_vs_UHI_census_blocks_100m.png\", dpi=300, bbox_inches=\"tight\")\n",
    "plt.show()"
   ]
  },
  {
   "cell_type": "markdown",
   "metadata": {},
   "source": [
    "#### Determine correlation between economic status and UHI effect"
   ]
  },
  {
   "cell_type": "code",
   "execution_count": null,
   "metadata": {},
   "outputs": [],
   "source": [
    "# Create subset of census blocks with UHI effect, household income and house value data that is not NaN\n",
    "census_blocks_subset = census_blocks.dropna(subset=[\"UHI_effect_mean_C\", \"household_income_median_1000_eur\", \"house_value_mean_1000_eur\"])"
   ]
  },
  {
   "cell_type": "code",
   "execution_count": null,
   "metadata": {},
   "outputs": [],
   "source": [
    "# Determine spearman correlation coefficients between the mean UHI effect and the mean house value\n",
    "corr_house_value, p_value_house_value = spearmanr(census_blocks_subset[\"UHI_effect_mean_C\"], census_blocks_subset[\"house_value_mean_1000_eur\"])\n",
    "print(f\"Correlation coefficient for mean UHI effect vs. mean house value: {corr_house_value:.2f}\")\n",
    "print(f\"p value for mean UHI effect vs. mean house value: {p_value_house_value:.2e}\")\n",
    "\n",
    "# Determine spearman correlation coefficients between the mean UHI effect and the median household income\n",
    "corr_income, p_value_income = spearmanr(census_blocks_subset[\"UHI_effect_mean_C\"], census_blocks_subset[\"household_income_median_1000_eur\"])\n",
    "print(f\"Correlation coefficient for mean UHI effect vs. median household income: {corr_income:.2f}\")\n",
    "print(f\"p value for mean UHI effect vs. median household income: {p_value_income:.2e}\")"
   ]
  },
  {
   "cell_type": "markdown",
   "metadata": {},
   "source": [
    "#### Scatterplots (using seaborn)"
   ]
  },
  {
   "cell_type": "code",
   "execution_count": null,
   "metadata": {},
   "outputs": [],
   "source": [
    "fig, axes = plt.subplots(1, 2, figsize=(10, 5))\n",
    "\n",
    "# Plot the mean house value vs. the mean UHI effect\n",
    "sns.regplot(\n",
    "    x=\"house_value_mean_1000_eur\",\n",
    "    y=\"UHI_effect_mean_C\",\n",
    "    data=census_blocks_subset,\n",
    "    ax=axes[0],\n",
    "    line_kws={\"label\": f\"Spearman correlation coefficient: {corr_house_value:.2f}\", \"color\": \"darkorange\"},\n",
    "    marker=\"x\",\n",
    "    scatter_kws={\"s\": 2},\n",
    ")\n",
    "axes[0].set_title(\"a)\")\n",
    "axes[0].set_xlabel(\"House value (€×1,000)\")\n",
    "axes[0].set_ylabel(\"UHI effect (°C)\")\n",
    "axes[0].legend()\n",
    "\n",
    "# Plot the median household income vs. the mean UHI effect\n",
    "sns.regplot(\n",
    "    x=\"household_income_median_1000_eur\",\n",
    "    y=\"UHI_effect_mean_C\",\n",
    "    data=census_blocks_subset,\n",
    "    ax=axes[1],\n",
    "    line_kws={\"label\": f\"Spearman correlation coefficient: {corr_income:.2f}\", \"color\": \"darkorange\"},\n",
    "    marker=\"x\",\n",
    "    scatter_kws={\"s\": 2},\n",
    ")\n",
    "axes[1].set_title(\"b)\")\n",
    "axes[1].set_xlabel(\"Household income (€×1,000)\")\n",
    "axes[1].set_ylabel(\"UHI effect (°C)\")\n",
    "axes[1].legend(loc=\"upper right\")\n",
    "\n",
    "plt.tight_layout()\n",
    "plt.savefig(f\"data/output/images/GIS/economic_status_vs_UHI_scatter_census_blocks_100m.png\", dpi=300, bbox_inches=\"tight\")\n",
    "plt.show()"
   ]
  },
  {
   "cell_type": "markdown",
   "metadata": {},
   "source": [
    "#### Scatterplots (using matplotlib)"
   ]
  },
  {
   "cell_type": "code",
   "execution_count": null,
   "metadata": {},
   "outputs": [],
   "source": [
    "# Create a figure with two subplots\n",
    "fig, axes = plt.subplots(1, 2, figsize=(10, 5))\n",
    "\n",
    "# Plot the mean house value vs. the mean UHI effect\n",
    "x1 = census_blocks_subset[\"house_value_mean_1000_eur\"]\n",
    "y1 = census_blocks_subset[\"UHI_effect_mean_C\"]\n",
    "axes[0].scatter(x1, y1, marker=\"x\", s=2, c=y1, cmap=\"RdYlBu_r\")\n",
    "\n",
    "# Fit and plot a linear regression line\n",
    "coeff1 = np.polyfit(x1, y1, 1)\n",
    "line1 = coeff1[0] * x1 + coeff1[1]\n",
    "axes[0].plot(x1, line1, color=\"darkorange\", label=f\"Spearman correlation coefficient: {corr_house_value:.2f}\")\n",
    "\n",
    "# Customize subplot 0\n",
    "axes[0].set_title(\"a)\")\n",
    "axes[0].set_xlabel(\"House value (€×1,000)\")\n",
    "axes[0].set_ylabel(\"UHI effect (°C)\")\n",
    "axes[0].legend()\n",
    "\n",
    "# Plot the median household income vs. the mean UHI effect\n",
    "x2 = census_blocks_subset[\"household_income_median_1000_eur\"]\n",
    "y2 = census_blocks_subset[\"UHI_effect_mean_C\"]\n",
    "axes[1].scatter(x2, y2, marker=\"x\", s=2, c=y2, cmap=\"RdYlBu_r\")\n",
    "\n",
    "# Fit and plot a linear regression line\n",
    "coeff2 = np.polyfit(x2, y2, 1)\n",
    "line2 = coeff2[0] * x2 + coeff2[1]\n",
    "axes[1].plot(x2, line2, color=\"darkorange\", label=f\"Spearman correlation coefficient: {corr_income:.2f}\")\n",
    "\n",
    "# Customize subplot 1\n",
    "axes[1].set_title(\"b)\")\n",
    "axes[1].set_xlabel(\"Household income (€×1,000)\")\n",
    "axes[1].set_ylabel(\"UHI effect (°C)\")\n",
    "axes[1].legend(loc=\"upper right\")\n",
    "\n",
    "# Adjust layout\n",
    "plt.tight_layout()\n",
    "\n",
    "# Save the plot as an image\n",
    "plt.savefig(f\"data/output/images/GIS/economic_status_vs_UHI_scatter_census_blocks_100m.png\", dpi=300, bbox_inches=\"tight\")\n",
    "\n",
    "# Show the plot\n",
    "plt.show()"
   ]
  },
  {
   "cell_type": "markdown",
   "metadata": {},
   "source": [
    "#### Boxplots of household income vs UHI effect"
   ]
  },
  {
   "cell_type": "code",
   "execution_count": null,
   "metadata": {},
   "outputs": [],
   "source": [
    "# Create a boxplot of UHI values for each value of the median household income\n",
    "fig, ax = plt.subplots(figsize=(5, 5))\n",
    "sns.boxplot(x=\"household_income_median_1000_eur\", y=\"UHI_effect_mean_C\", data=census_blocks, fliersize=0, palette=\"RdYlBu\")\n",
    "plt.xlabel(\"Household income (€×1,000)\")\n",
    "plt.ylabel(\"UHI effect (°C)\")\n",
    "plt.tight_layout()\n",
    "plt.savefig(f\"data/output/images/GIS/household_income_vs_UHI_boxplot_census_blocks_100m.png\", dpi=300, bbox_inches=\"tight\")\n",
    "plt.show()"
   ]
  },
  {
   "cell_type": "markdown",
   "metadata": {},
   "source": [
    "# 3 Analyzing CDM results"
   ]
  },
  {
   "cell_type": "markdown",
   "metadata": {},
   "source": [
    "#### Define path and layer names"
   ]
  },
  {
   "cell_type": "code",
   "execution_count": null,
   "metadata": {},
   "outputs": [],
   "source": [
    "BUILDING_SUBSET_NAME = \"full\"  # The name of the subset of buildings to be used ('sample': 314 buildings, 'subset': 5000 buildings, or 'full': all buildings)')\n",
    "SCENARIO = \"SQ\"  # The scenario to be used ('SQ' (Status Quo), '2030', 2050_L, '2050_M', 2050_H)\n",
    "\n",
    "buildings_CDM_path = Path(f\"data/output/geodata/buildings_with_CDM_results_{SCENARIO}_{BUILDING_SUBSET_NAME}.gpkg\")  # The path to the GeoPackage containing CDM results\n",
    "buildings_CDM_layer = f\"buildings_with_CDM_results_{SCENARIO}_{BUILDING_SUBSET_NAME}\"  # The name of the layer within the GeoPackage\n",
    "\n",
    "# Define path names for geographic divisions\n",
    "geographic_divisions_path = Path(\"data/input/geodata/GeographicDivisions_TheHague.gpkg\")\n",
    "census_blocks_layer = \"Census_blocks_100m_TheHague\"\n",
    "postcode_layer = \"PostCodes_TheHague\"\n",
    "districts_layer = \"Districts_TheHague\"\n",
    "neighborhoods_layer = \"Neighbourhoods_TheHague\"\n",
    "outline_layer = \"Outline_TheHague\""
   ]
  },
  {
   "cell_type": "markdown",
   "metadata": {},
   "source": [
    "#### Read in geodata"
   ]
  },
  {
   "cell_type": "code",
   "execution_count": null,
   "metadata": {},
   "outputs": [],
   "source": [
    "# Load the buildings with CDM results\n",
    "buildings_CDM = gpd.read_file(filename=buildings_CDM_path, layer=buildings_CDM_layer)"
   ]
  },
  {
   "cell_type": "code",
   "execution_count": null,
   "metadata": {},
   "outputs": [],
   "source": [
    "# Load the GeoPackage with the geographic divisions\n",
    "census_blocks = gpd.read_file(filename=geographic_divisions_path, layer=census_blocks_layer)  # The 100 x 100m Dutch census blocks\n",
    "postcodes = gpd.read_file(filename=geographic_divisions_path, layer=postcode_layer)  # The 4-digit postcode districts\n",
    "districts = gpd.read_file(filename=geographic_divisions_path, layer=districts_layer)  # The districts (wijken)\n",
    "neighborhoods = gpd.read_file(filename=geographic_divisions_path, layer=neighborhoods_layer)  # The neighborhoods (buurten)\n",
    "outline_TH = gpd.read_file(filename=geographic_divisions_path, layer=outline_layer)  # The outline of The Hague"
   ]
  },
  {
   "cell_type": "markdown",
   "metadata": {},
   "source": [
    "#### Alternative: read scaled results DataFrame"
   ]
  },
  {
   "cell_type": "code",
   "execution_count": null,
   "metadata": {},
   "outputs": [],
   "source": [
    "# Load the buildings with CDM results, scaled with building stock growth\n",
    "buildings_CDM = pd.read_csv(f\"data/output/CDM_results_{SCENARIO}_{BUILDING_SUBSET_NAME}.csv\")"
   ]
  },
  {
   "cell_type": "markdown",
   "metadata": {},
   "source": [
    "## 3.1 Building type and energy labels"
   ]
  },
  {
   "cell_type": "code",
   "execution_count": null,
   "metadata": {},
   "outputs": [],
   "source": [
    "# Create a new column with the floor area in hectares\n",
    "buildings_CDM[\"floor_area_total_ha\"] = buildings_CDM[\"floor_area_total_m2\"] / 10_000"
   ]
  },
  {
   "cell_type": "markdown",
   "metadata": {},
   "source": [
    "### Building types"
   ]
  },
  {
   "cell_type": "code",
   "execution_count": null,
   "metadata": {},
   "outputs": [],
   "source": [
    "# Create a new column building type print, which is the string join of building type int and building type\n",
    "buildings_CDM[\"building_type_print\"] = buildings_CDM[\"building_type_int\"].astype(\"str\") + \": \" + buildings_CDM[\"building_type\"]"
   ]
  },
  {
   "cell_type": "markdown",
   "metadata": {},
   "source": [
    "#### Histograms"
   ]
  },
  {
   "cell_type": "code",
   "execution_count": null,
   "metadata": {},
   "outputs": [],
   "source": [
    "floor_space_per_building_type = buildings_CDM.groupby(\"building_type_print\")[\"floor_area_total_ha\"].sum().sort_index()  # Calculate total floor space per energy label in ha\n",
    "\n",
    "colors = plt.cm.tab10(np.linspace(0, 1, len(floor_space_per_building_type)))  # Give every building type a different color\n",
    "\n",
    "plt.figure(figsize=(10, 6))\n",
    "plt.bar(floor_space_per_building_type.index, floor_space_per_building_type.values, color=colors)\n",
    "plt.title(\"Distribution of building types\")\n",
    "plt.xlabel(\"Building type\")\n",
    "plt.xticks(rotation=60, fontsize=9, ha=\"right\")\n",
    "plt.ylabel(\"Floor space (ha)\")\n",
    "plt.savefig(f\"data/output/images/histogram_building_types_floor_space_{SCENARIO}_{BUILDING_SUBSET_NAME}.png\", dpi=300, bbox_inches=\"tight\")\n",
    "plt.show()"
   ]
  },
  {
   "cell_type": "markdown",
   "metadata": {},
   "source": [
    "#### Maps - Census blocks 100 x 100m"
   ]
  },
  {
   "cell_type": "code",
   "execution_count": null,
   "metadata": {},
   "outputs": [],
   "source": [
    "# Join the buildings and census blocks GeoDataFrames\n",
    "joined_buildings_census_blocks = gpd.sjoin(buildings_CDM, census_blocks)\n",
    "\n",
    "# Group by census block and building type and sum the floor area\n",
    "census_blocks_building_types = joined_buildings_census_blocks.groupby([\"index_right\", \"building_type_print\"])[\"floor_area_total_m2\"].sum().reset_index()\n",
    "\n",
    "# Determine the dominant building type per census block\n",
    "idx = census_blocks_building_types.groupby(\"index_right\")[\"floor_area_total_m2\"].idxmax()\n",
    "prevalent_building_types_per_census_block = census_blocks_building_types.loc[idx].set_index(\"index_right\")[\"building_type_print\"]\n",
    "\n",
    "# Join the dominant building types back to the census block DataFrame\n",
    "census_blocks = census_blocks.merge(prevalent_building_types_per_census_block, left_index=True, right_index=True, how=\"left\")"
   ]
  },
  {
   "cell_type": "code",
   "execution_count": null,
   "metadata": {},
   "outputs": [],
   "source": [
    "# Now we can plot the census blocks with the building types\n",
    "ax = census_blocks.plot(column=\"building_type_print\", cmap=\"tab10\", legend=True, figsize=(10, 10))\n",
    "ax = outline_TH.plot(ax=ax, color=\"none\", edgecolor=\"black\", linewidth=0.5)  # Add the outline of The Hague\n",
    "ax.set_title(\"Most prevalent building type per grid cell\")\n",
    "ax.set_axis_off()\n",
    "plt.savefig(f\"data/output/images/GIS/GIS_building_types_100_100_m_grid_{SCENARIO}_{BUILDING_SUBSET_NAME}.png\", dpi=300, bbox_inches=\"tight\")\n",
    "plt.show()"
   ]
  },
  {
   "cell_type": "markdown",
   "metadata": {},
   "source": [
    "#### Maps - neighborhoods"
   ]
  },
  {
   "cell_type": "code",
   "execution_count": null,
   "metadata": {},
   "outputs": [],
   "source": [
    "# Join the buildings and neighborhoods GeoDataFrames\n",
    "joined_buildings_neighborhoods = gpd.sjoin(buildings_CDM, neighborhoods)\n",
    "\n",
    "# Group by neighborhood and building type and sum the floor area\n",
    "neighborhoods_building_types = joined_buildings_neighborhoods.groupby([\"index_right\", \"building_type_print\"])[\"floor_area_total_m2\"].sum().reset_index()\n",
    "\n",
    "# Determine the dominant building type per neighborhood\n",
    "idx = neighborhoods_building_types.groupby(\"index_right\")[\"floor_area_total_m2\"].idxmax()\n",
    "prevalent_building_types_per_neighborhood = neighborhoods_building_types.loc[idx].set_index(\"index_right\")[\"building_type_print\"]\n",
    "\n",
    "# Join the dominant building types back to the neighborhood DataFrame\n",
    "neighborhoods = neighborhoods.merge(prevalent_building_types_per_neighborhood, left_index=True, right_index=True, how=\"left\")"
   ]
  },
  {
   "cell_type": "code",
   "execution_count": null,
   "metadata": {},
   "outputs": [],
   "source": [
    "# HACK Add dummy rows to the neighborhoods GeoDataFrame for color consistency across plots\n",
    "for building_type in buildings_CDM[\"building_type_print\"].unique():\n",
    "    if building_type not in neighborhoods[\"building_type_print\"].values:\n",
    "        dummy_data = {col: None for col in neighborhoods.columns}\n",
    "        dummy_data[\"building_type_print\"] = building_type\n",
    "        neighborhoods.loc[len(neighborhoods)] = dummy_data"
   ]
  },
  {
   "cell_type": "code",
   "execution_count": null,
   "metadata": {},
   "outputs": [],
   "source": [
    "# Now we can plot the neighborhoods with the building types\n",
    "ax = neighborhoods.plot(column=\"building_type_print\", cmap=\"tab10\", legend=True, figsize=(10, 10))\n",
    "ax = outline_TH.plot(ax=ax, color=\"none\", edgecolor=\"black\", linewidth=0.5)  # Add the outline of The Hague\n",
    "ax.set_title(\"Most prevalent building type per neighborhood\")\n",
    "ax.set_axis_off()\n",
    "plt.savefig(f\"data/output/images/GIS/GIS_building_types_neighborhoods_{SCENARIO}_{BUILDING_SUBSET_NAME}.png\", dpi=300, bbox_inches=\"tight\")\n",
    "plt.show()"
   ]
  },
  {
   "cell_type": "markdown",
   "metadata": {},
   "source": [
    "### Energy labels"
   ]
  },
  {
   "cell_type": "code",
   "execution_count": null,
   "metadata": {},
   "outputs": [],
   "source": [
    "# Create a new column energy_class_int by mapping the energy_class column to the ENERGY_CLASS_TO_INT dictionary\n",
    "buildings_CDM[\"energy_class_int\"] = buildings_CDM[\"energy_class\"].map(ENERGY_CLASS_TO_INT)\n",
    "\n",
    "# Reorder the energy label column to be in the correct order\n",
    "energy_label_order = list(ENERGY_LABEL_TO_INT.keys())\n",
    "buildings_CDM[\"energy_label\"] = pd.Categorical(buildings_CDM[\"energy_label\"], categories=energy_label_order, ordered=True)"
   ]
  },
  {
   "cell_type": "markdown",
   "metadata": {},
   "source": [
    "#### Histograms"
   ]
  },
  {
   "cell_type": "code",
   "execution_count": null,
   "metadata": {},
   "outputs": [],
   "source": [
    "# Plot a histogram of the energy labels\n",
    "labels = buildings_CDM[\"energy_label\"].cat.categories  # Get ordered energy labels\n",
    "values = buildings_CDM[\"energy_label\"].value_counts(sort=False)[labels].fillna(0)  # Get count of energy labels and fill missing values with 0\n",
    "\n",
    "# Create a color map from green to red based on the number of unique labels\n",
    "colors = plt.cm.RdYlGn_r(np.linspace(0, 1, len(labels)))\n",
    "\n",
    "plt.figure(figsize=(10, 6))\n",
    "bars = plt.bar(labels, values, color=colors)\n",
    "plt.title(\"Distribution of energy labels\")\n",
    "plt.xlabel(\"Energy label\")\n",
    "plt.ylabel(\"Building count\")\n",
    "plt.savefig(f\"data/output/images/histogram_energy_labels_{SCENARIO}_{BUILDING_SUBSET_NAME}.png\", dpi=300, bbox_inches=\"tight\")\n",
    "plt.show()"
   ]
  },
  {
   "cell_type": "code",
   "execution_count": null,
   "metadata": {},
   "outputs": [],
   "source": [
    "floor_space_per_energy_label = buildings_CDM.groupby(\"energy_label\")[\"floor_area_total_m2\"].sum() / 10_000  # Calculate total floor space per energy label in ha\n",
    "\n",
    "# Plot a histogram of the energy labels by floor space\n",
    "labels = buildings_CDM[\"energy_label\"].cat.categories  # Get ordered energy labels\n",
    "values = floor_space_per_energy_label[labels].fillna(0)  # Get count of energy labels and fill missing values with 0\n",
    "\n",
    "# Create a color map from green to red based on the number of unique labels\n",
    "colors = plt.cm.RdYlGn_r(np.linspace(0, 1, len(labels)))\n",
    "\n",
    "plt.figure(figsize=(10, 6))\n",
    "bars = plt.bar(labels, values, color=colors)\n",
    "plt.title(\"Distribution of energy labels\")\n",
    "plt.xlabel(\"Energy label\")\n",
    "plt.ylabel(\"Floor space (ha)\")\n",
    "plt.savefig(f\"data/output/images/histogram_energy_labels_floor_space_{SCENARIO}_{BUILDING_SUBSET_NAME}.png\", dpi=300, bbox_inches=\"tight\")\n",
    "plt.show()"
   ]
  },
  {
   "cell_type": "code",
   "execution_count": null,
   "metadata": {},
   "outputs": [],
   "source": [
    "# Determine the floor space per energy label per building type\n",
    "energy_labels_per_building_type = buildings_CDM.groupby([\"building_type_print\", \"energy_label\"])[\"floor_area_total_m2\"].sum().unstack().fillna(0)\n",
    "\n",
    "# Normalize the floor spaces per building type\n",
    "energy_labels_per_building_type_norm = energy_labels_per_building_type.div(energy_labels_per_building_type.sum(axis=1), axis=0)\n",
    "\n",
    "# Create a color map from green to red based on the number of unique labels\n",
    "colors = plt.cm.RdYlGn_r(np.linspace(0, 1, len(buildings_CDM[\"energy_label\"].cat.categories)))\n",
    "\n",
    "energy_labels_per_building_type_norm.plot.bar(stacked=True, figsize=(10, 6), color=colors, legend=True)\n",
    "\n",
    "plt.title(\"Distribution of energy labels per building type\")\n",
    "plt.xlabel(\"Building type\")\n",
    "plt.xticks(rotation=60, fontsize=9, ha=\"right\")\n",
    "plt.ylabel(\"Floor space (ha)\")\n",
    "plt.legend(bbox_to_anchor=(1.02, 1), loc=\"upper left\", borderaxespad=0.0)\n",
    "plt.savefig(f\"data/output/images/histogram_energy_labels_per_building_type_{SCENARIO}_{BUILDING_SUBSET_NAME}.png\", dpi=300, bbox_inches=\"tight\")\n",
    "plt.show()"
   ]
  },
  {
   "cell_type": "code",
   "execution_count": null,
   "metadata": {},
   "outputs": [],
   "source": [
    "# Determine the floor space per energy class per building type\n",
    "energy_classes_per_building_type = buildings_CDM.groupby([\"building_type_print\", \"energy_class\"])[\"floor_area_total_m2\"].sum().unstack().fillna(0)\n",
    "\n",
    "# Normalize the floor spaces per building type\n",
    "energy_classes_per_building_type_norm = energy_classes_per_building_type.div(energy_classes_per_building_type.sum(axis=1), axis=0)\n",
    "\n",
    "# Create a color map from green to red based on the number of unique classes\n",
    "colors = plt.cm.RdYlGn_r(np.linspace(0, 1, len(buildings_CDM[\"energy_class\"].unique())))\n",
    "\n",
    "energy_classes_per_building_type_norm.plot.bar(stacked=True, figsize=(10, 6), color=colors, legend=True)\n",
    "\n",
    "plt.title(\"Distribution of energy classes per building type\")\n",
    "plt.xlabel(\"Building type\")\n",
    "plt.xticks(rotation=60, fontsize=9, ha=\"right\")\n",
    "plt.ylabel(\"Floor space (ha)\")\n",
    "plt.legend()\n",
    "plt.savefig(f\"data/output/images/histogram_energy_classes_per_building_type_{SCENARIO}_{BUILDING_SUBSET_NAME}.png\", dpi=300, bbox_inches=\"tight\")\n",
    "plt.show()"
   ]
  },
  {
   "cell_type": "markdown",
   "metadata": {},
   "source": [
    "#### Maps - Census blocks 100 x 100m"
   ]
  },
  {
   "cell_type": "code",
   "execution_count": null,
   "metadata": {},
   "outputs": [],
   "source": [
    "# Join the buildings and census blocks GeoDataFrames\n",
    "joined_buildings_census_blocks = gpd.sjoin(buildings_CDM, census_blocks)\n",
    "\n",
    "# Calculate the mean energy label per census block, weighted by floor area of the buildings.\n",
    "mean_energy_label_per_census_block = (\n",
    "    joined_buildings_census_blocks.groupby(\"index_right\").apply(lambda x: round(np.average(x[\"energy_label_int\"], weights=x[\"floor_area_total_m2\"]))).reset_index()\n",
    ")\n",
    "\n",
    "# Rename columns and reset index for merging back to the census block DataFrame\n",
    "mean_energy_label_per_census_block = mean_energy_label_per_census_block.rename(columns={0: \"energy_label_int\"})\n",
    "mean_energy_label_per_census_block = mean_energy_label_per_census_block.set_index(\"index_right\")\n",
    "\n",
    "# Join the mean energy labels to the census block  DataFrame\n",
    "census_blocks = census_blocks.merge(mean_energy_label_per_census_block, left_index=True, right_index=True, how=\"left\")\n",
    "\n",
    "# Convert the energy labels back to text: 1: A+++++, 2: A++++, etc.\n",
    "int_to_energy_label = {v: k for k, v in ENERGY_LABEL_TO_INT.items()}\n",
    "census_blocks[\"energy_label\"] = census_blocks[\"energy_label_int\"].replace(int_to_energy_label)\n",
    "\n",
    "# Explicitly order the new energy label column\n",
    "energy_label_order = [label for label in energy_label_order if label in census_blocks[\"energy_label\"].unique()]\n",
    "census_blocks[\"energy_label\"] = pd.Categorical(census_blocks[\"energy_label\"], categories=energy_label_order, ordered=True)"
   ]
  },
  {
   "cell_type": "code",
   "execution_count": null,
   "metadata": {},
   "outputs": [],
   "source": [
    "# Now we can plot the census blocks with the energy labels\n",
    "ax = census_blocks.plot(column=\"energy_label\", cmap=\"RdYlGn_r\", legend=True, figsize=(10, 10))\n",
    "ax = outline_TH.plot(ax=ax, color=\"none\", edgecolor=\"black\", linewidth=0.5)  # Add the outline of The Hague\n",
    "ax.set_title(\"Average energy label per grid cell\")\n",
    "ax.set_axis_off()\n",
    "plt.savefig(f\"data/output/images/GIS_energy_labels_100_100_m_grid_{SCENARIO}_{BUILDING_SUBSET_NAME}.png\", dpi=300, bbox_inches=\"tight\")\n",
    "plt.show()"
   ]
  },
  {
   "cell_type": "code",
   "execution_count": null,
   "metadata": {},
   "outputs": [],
   "source": [
    "# Map the energy labels to energy classes\n",
    "energy_label_to_energy_class = {\n",
    "    \"A+++++\": \"A - A+++++\",\n",
    "    \"A++++\": \"A - A+++++\",\n",
    "    \"A+++\": \"A - A+++++\",\n",
    "    \"A++\": \"A - A+++++\",\n",
    "    \"A+\": \"A - A+++++\",\n",
    "    \"A\": \"A - A+++++\",\n",
    "    \"B\": \"B - C\",\n",
    "    \"C\": \"B - C\",\n",
    "    \"D\": \"D - E\",\n",
    "    \"E\": \"D - E\",\n",
    "    \"F\": \"F - G\",\n",
    "    \"G\": \"F - G\",\n",
    "}\n",
    "\n",
    "census_blocks[\"energy_class\"] = census_blocks[\"energy_label\"].map(energy_label_to_energy_class)\n",
    "\n",
    "# Plot the census blocks with the energy classes\n",
    "ax = census_blocks.plot(column=\"energy_class\", cmap=\"RdYlGn_r\", legend=True, figsize=(10, 10))\n",
    "ax = outline_TH.plot(ax=ax, color=\"none\", edgecolor=\"black\", linewidth=0.5)  # Add the outline of The Hague\n",
    "ax.set_title(\"Average energy class per grid cell\")\n",
    "ax.set_axis_off()\n",
    "plt.savefig(f\"data/output/images/GIS/GIS_energy_classes_100_100_m_grid_{SCENARIO}_{BUILDING_SUBSET_NAME}.png\", dpi=300, bbox_inches=\"tight\")\n",
    "plt.show()"
   ]
  },
  {
   "cell_type": "markdown",
   "metadata": {},
   "source": [
    "#### Maps - neighborhoods"
   ]
  },
  {
   "cell_type": "code",
   "execution_count": null,
   "metadata": {},
   "outputs": [],
   "source": [
    "# Join the buildings and neighborhoods GeoDataFrames\n",
    "joined_buildings_neighborhoods = gpd.sjoin(buildings_CDM, neighborhoods)\n",
    "\n",
    "# Calculate the mean energy label per neighborhood, weighted by floor area of the buildings.\n",
    "mean_energy_label_per_neighborhood = (\n",
    "    joined_buildings_neighborhoods.groupby(\"index_right\").apply(lambda x: round(np.average(x[\"energy_label_int\"], weights=x[\"floor_area_total_m2\"]))).reset_index()\n",
    ")\n",
    "\n",
    "# Rename columns and reset index for merging back to the neighborhood DataFrame\n",
    "mean_energy_label_per_neighborhood = mean_energy_label_per_neighborhood.rename(columns={0: \"energy_label_int\"})\n",
    "mean_energy_label_per_neighborhood = mean_energy_label_per_neighborhood.set_index(\"index_right\")\n",
    "\n",
    "# Join the mean energy labels to the neighborhood  DataFrame\n",
    "neighborhoods = neighborhoods.merge(mean_energy_label_per_neighborhood, left_index=True, right_index=True, how=\"left\")\n",
    "\n",
    "# Convert the energy labels back to text: 1: A+++++, 2: A++++, etc.\n",
    "int_to_energy_label = {v: k for k, v in ENERGY_LABEL_TO_INT.items()}\n",
    "neighborhoods[\"energy_label\"] = neighborhoods[\"energy_label_int\"].replace(int_to_energy_label)\n",
    "\n",
    "# Explicitly order the new energy label column\n",
    "energy_label_order = list(ENERGY_LABEL_TO_INT.keys())\n",
    "energy_label_order = [label for label in energy_label_order if label in neighborhoods[\"energy_label\"].unique()]\n",
    "neighborhoods[\"energy_label\"] = pd.Categorical(neighborhoods[\"energy_label\"], categories=energy_label_order, ordered=True)\n",
    "\n",
    "# Don't show entries that dont appear on the map\n",
    "neighborhoods = neighborhoods.dropna(subset=[\"energy_label\"])"
   ]
  },
  {
   "cell_type": "code",
   "execution_count": null,
   "metadata": {},
   "outputs": [],
   "source": [
    "# Create a color map from green to red based on the number of unique labels\n",
    "cmap = plt_colors.ListedColormap(plt.cm.RdYlGn_r(np.linspace(0.3, 0.85, len(neighborhoods[\"energy_label\"].cat.categories))))"
   ]
  },
  {
   "cell_type": "code",
   "execution_count": null,
   "metadata": {},
   "outputs": [],
   "source": [
    "# Now we can plot the neighborhoods with the energy labels\n",
    "ax = neighborhoods.plot(column=\"energy_label\", cmap=cmap, legend=True, figsize=(10, 10))\n",
    "ax = outline_TH.plot(ax=ax, color=\"none\", edgecolor=\"black\", linewidth=0.5)  # Add the outline of The Hague\n",
    "ax.set_title(\"Average energy label per neighborhood\")\n",
    "ax.set_axis_off()\n",
    "plt.savefig(f\"data/output/images/GIS/GIS_energy_labels_neighborhoods_{SCENARIO}_{BUILDING_SUBSET_NAME}.png\", dpi=300, bbox_inches=\"tight\")\n",
    "plt.show()"
   ]
  },
  {
   "cell_type": "code",
   "execution_count": null,
   "metadata": {},
   "outputs": [],
   "source": [
    "neighborhoods[\"energy_class\"] = neighborhoods[\"energy_label\"].map(energy_label_to_energy_class)\n",
    "\n",
    "# Plot the census blocks with the energy classes\n",
    "ax = neighborhoods.plot(column=\"energy_class\", cmap=\"RdYlGn_r\", legend=True, figsize=(10, 10))\n",
    "ax = outline_TH.plot(ax=ax, color=\"none\", edgecolor=\"black\", linewidth=0.5)  # Add the outline of The Hague\n",
    "ax.set_title(\"Average energy class per neighborhood\")\n",
    "ax.set_axis_off()\n",
    "plt.savefig(f\"data/output/images/GIS/GIS_energy_classes_neighborhoods_{SCENARIO}_{BUILDING_SUBSET_NAME}.png\", dpi=300, bbox_inches=\"tight\")\n",
    "plt.show()"
   ]
  },
  {
   "cell_type": "markdown",
   "metadata": {},
   "source": [
    "#### Heatmap of offices not fulfilling energy label requirements"
   ]
  },
  {
   "cell_type": "code",
   "execution_count": null,
   "metadata": {},
   "outputs": [],
   "source": [
    "# Find office buildings with energy label below C (8 in integer value) larger than 100 m2\n",
    "office_buildings = buildings_CDM[buildings_CDM[\"end_use\"] == \"office\"]\n",
    "office_buildings_larger_than_100_m2 = office_buildings[office_buildings[\"floor_area_total_m2\"] > 100]\n",
    "office_buildings_below_C = office_buildings_larger_than_100_m2[office_buildings_larger_than_100_m2[\"energy_label_int\"] > 8]"
   ]
  },
  {
   "cell_type": "code",
   "execution_count": null,
   "metadata": {},
   "outputs": [],
   "source": [
    "# Print results\n",
    "print(f\"Number of office buildings with energy label below C larger than 100 m2: {len(office_buildings_below_C)}\")\n",
    "print(f\"Share of total office buildings: {round(len(office_buildings_below_C)/len(office_buildings) * 100)}%\")\n",
    "print(f\"Floor area of office buildings with energy label below C larger than 100 m2: {office_buildings_below_C['floor_area_total_m2'].sum()} m2\")\n",
    "print(f\"Share of total floor area of office buildings: {round(office_buildings_below_C['floor_area_total_m2'].sum()/office_buildings['floor_area_total_m2'].sum() * 100)}%\")"
   ]
  },
  {
   "cell_type": "code",
   "execution_count": null,
   "metadata": {},
   "outputs": [],
   "source": [
    "# Join the offices and neighborhoods GeoDataFrames\n",
    "joined_offices_neighborhoods = gpd.sjoin(office_buildings, neighborhoods)\n",
    "\n",
    "# Calculate the total floor area of offices per neighborhood\n",
    "floor_area_offices_per_neighborhood = joined_offices_neighborhoods.groupby(\"index_right\")[\"floor_area_total_m2\"].sum().reset_index()\n",
    "\n",
    "# Join the offices not adhering to the energy label C and neighborhoods GeoDataFrames\n",
    "joined_offices_below_C_neighborhoods = gpd.sjoin(office_buildings_below_C, neighborhoods)\n",
    "\n",
    "# Calculate the total floor area of office buildings with energy label below C per neighborhood\n",
    "floor_area_offices_below_C_per_neighborhood = joined_offices_below_C_neighborhoods.groupby(\"index_right\")[\"floor_area_total_m2\"].sum().reset_index()"
   ]
  },
  {
   "cell_type": "code",
   "execution_count": null,
   "metadata": {},
   "outputs": [],
   "source": [
    "# Rename columns\n",
    "floor_area_offices_per_neighborhood = floor_area_offices_per_neighborhood.rename(columns={\"floor_area_total_m2\": \"floor_area_offices_m2\"})\n",
    "floor_area_offices_below_C_per_neighborhood = floor_area_offices_below_C_per_neighborhood.rename(columns={\"floor_area_total_m2\": \"floor_area_offices_below_C_m2\"})\n",
    "\n",
    "# Reset index for merging back to the neighborhood DataFrame\n",
    "floor_area_offices_per_neighborhood = floor_area_offices_per_neighborhood.set_index(\"index_right\")\n",
    "floor_area_offices_below_C_per_neighborhood = floor_area_offices_below_C_per_neighborhood.set_index(\"index_right\")\n",
    "\n",
    "# Join the floor areas back to the neighborhood DataFrame\n",
    "neighborhoods = neighborhoods.merge(floor_area_offices_per_neighborhood, left_index=True, right_index=True, how=\"left\")\n",
    "neighborhoods = neighborhoods.merge(floor_area_offices_below_C_per_neighborhood, left_index=True, right_index=True, how=\"left\")"
   ]
  },
  {
   "cell_type": "code",
   "execution_count": null,
   "metadata": {},
   "outputs": [],
   "source": [
    "# Fill floor_area_offices_below_C_m2 with 0 where there are no office buildings with energy label below C\n",
    "neighborhoods[\"floor_area_offices_below_C_m2\"] = neighborhoods[\"floor_area_offices_below_C_m2\"].fillna(0)\n",
    "\n",
    "# Create a new column with the percentage of office buildings that adhere to the minimum energy label rules (by floor area)\n",
    "neighborhoods[\"share_offices_adhering_to_rules\"] = (1 - neighborhoods[\"floor_area_offices_below_C_m2\"] / neighborhoods[\"floor_area_offices_m2\"]) * 100"
   ]
  },
  {
   "cell_type": "code",
   "execution_count": null,
   "metadata": {},
   "outputs": [],
   "source": [
    "# Define parameters for the colorbar's appearance\n",
    "legend_kwds = {\n",
    "    \"label\": \"Share of total office building floor space (%)\",\n",
    "    \"shrink\": 0.5,\n",
    "}\n",
    "\n",
    "# Now plot the share of office buildings with energy label below C per neighborhood\n",
    "ax = neighborhoods.plot(column=\"share_offices_adhering_to_rules\", legend=True, cmap=\"RdYlGn\", figsize=(8, 8), legend_kwds=legend_kwds)\n",
    "ax = outline_TH.plot(ax=ax, color=\"none\", edgecolor=\"black\", linewidth=0.5)  # Add the outline of The Hague\n",
    "ax.set_title(\"Share of office buildings adhering to minimum energy label\\nrequirements per neighborhood\")\n",
    "ax.set_axis_off()\n",
    "\n",
    "plt.savefig(f\"data/output/images/GIS_share_offices_below_C_{SCENARIO}_{BUILDING_SUBSET_NAME}.png\", dpi=300, bbox_inches=\"tight\")\n",
    "plt.show()"
   ]
  },
  {
   "cell_type": "markdown",
   "metadata": {},
   "source": [
    "### Height and age"
   ]
  },
  {
   "cell_type": "code",
   "execution_count": null,
   "metadata": {},
   "outputs": [],
   "source": [
    "# Plot a histogram of the height of the buildings, with the height class cutoff at 17.5 m\n",
    "plt.figure(figsize=(6, 4))\n",
    "plt.hist(buildings_CDM[\"height_m\"], range=(0, 100), bins=100)\n",
    "plt.axvline(x=17.5, color=\"red\", linestyle=\"--\", label=\"Height class cutoff (17.5 m)\")\n",
    "plt.title(\"Distribution of building heights\")\n",
    "plt.xlabel(\"Building height (m)\")\n",
    "plt.ylabel(\"Building count\")\n",
    "plt.legend()\n",
    "plt.tight_layout()\n",
    "plt.savefig(f\"data/output/images/histogram_building_heights_{SCENARIO}_{BUILDING_SUBSET_NAME}.png\", dpi=300, bbox_inches=\"tight\")\n",
    "plt.show()"
   ]
  },
  {
   "cell_type": "code",
   "execution_count": null,
   "metadata": {},
   "outputs": [],
   "source": [
    "# Plot the distribution of building height, weighted by floor area\n",
    "plt.figure(figsize=(6, 4))\n",
    "plt.hist(buildings_CDM[\"height_m\"], bins=100, range=(0, 100), weights=buildings_CDM[\"floor_area_total_m2\"] / 10_000)\n",
    "plt.axvline(x=17.5, color=\"red\", linestyle=\"--\", label=\"Height class cutoff (17.5 m)\")\n",
    "plt.title(\"Distribution of building heights\")\n",
    "plt.xlabel(\"Building height (m)\")\n",
    "plt.ylabel(\"Floor space (ha)\")\n",
    "plt.legend()\n",
    "plt.tight_layout()\n",
    "plt.savefig(f\"data/output/images/histogram_building_heights_floor_space_{SCENARIO}_{BUILDING_SUBSET_NAME}.png\", dpi=300, bbox_inches=\"tight\")\n",
    "plt.show()"
   ]
  },
  {
   "cell_type": "code",
   "execution_count": null,
   "metadata": {},
   "outputs": [],
   "source": [
    "plt.figure(figsize=(6, 4))\n",
    "sns.kdeplot(data=buildings_CDM, x=\"height_m\", weights=buildings_CDM[\"floor_area_total_m2\"], fill=True)\n",
    "plt.axvline(x=17.5, color=\"red\", linestyle=\"--\", label=\"Height class cutoff (17.5 m)\")\n",
    "plt.title(\"Distribution of building heights\")\n",
    "plt.xlabel(\"Building height (m)\")\n",
    "plt.ylabel(\"Fraction of floor space\")\n",
    "plt.xlim(0, 100)\n",
    "plt.legend()\n",
    "plt.tight_layout()\n",
    "plt.savefig(f\"data/output/images/kdeplot_building_heights_floor_space_{SCENARIO}_{BUILDING_SUBSET_NAME}.png\", dpi=300, bbox_inches=\"tight\")\n",
    "plt.show()"
   ]
  },
  {
   "cell_type": "code",
   "execution_count": null,
   "metadata": {},
   "outputs": [],
   "source": [
    "# Plot a histogram of the construction year of the buildings, with the age class cutoff at 2003\n",
    "plt.figure(figsize=(6, 4))\n",
    "plt.hist(buildings_CDM[\"construction_year\"], bins=100)\n",
    "plt.axvline(x=2003, color=\"red\", linestyle=\"--\", label=\"Age class cutoff (2003)\")\n",
    "plt.title(\"Distribution of building ages\")\n",
    "plt.xlabel(\"Construction year\")\n",
    "plt.ylabel(\"Building count\")\n",
    "plt.legend()\n",
    "plt.tight_layout()\n",
    "plt.savefig(f\"data/output/images/histogram_building_ages_{SCENARIO}_{BUILDING_SUBSET_NAME}.png\", dpi=300, bbox_inches=\"tight\")\n",
    "plt.show()"
   ]
  },
  {
   "cell_type": "code",
   "execution_count": null,
   "metadata": {},
   "outputs": [],
   "source": [
    "# Plot the distribution of construction year, weighted by floor area\n",
    "plt.figure(figsize=(6, 4))\n",
    "plt.hist(buildings_CDM[\"construction_year\"], bins=80, range=(1800, 2023), weights=buildings_CDM[\"floor_area_total_m2\"] / 10_000)\n",
    "plt.axvline(x=2003, color=\"red\", linestyle=\"--\", label=\"Age class cutoff (2003)\")\n",
    "plt.title(\"Distribution of building ages\")\n",
    "plt.xlabel(\"Construction year\")\n",
    "plt.ylabel(\"Floor space (ha)\")\n",
    "plt.legend()\n",
    "plt.tight_layout()\n",
    "plt.savefig(f\"data/output/images/histogram_building_ages_floor_space_{SCENARIO}_{BUILDING_SUBSET_NAME}.png\", dpi=300, bbox_inches=\"tight\")\n",
    "plt.show()"
   ]
  },
  {
   "cell_type": "code",
   "execution_count": null,
   "metadata": {},
   "outputs": [],
   "source": [
    "plt.figure(figsize=(6, 4))\n",
    "sns.kdeplot(data=buildings_CDM, x=\"construction_year\", weights=buildings_CDM[\"floor_area_total_m2\"], fill=True)\n",
    "plt.axvline(x=2003, color=\"red\", linestyle=\"--\", label=\"Age class cutoff (2003)\")\n",
    "plt.title(\"Distribution of building ages\")\n",
    "plt.xlabel(\"Construction year\")\n",
    "plt.ylabel(\"Fraction of floor space\")\n",
    "plt.xlim(1800, 2035)\n",
    "plt.legend()\n",
    "plt.tight_layout()\n",
    "plt.savefig(f\"data/output/images/kdeplot_building_ages_floor_space_{SCENARIO}_{BUILDING_SUBSET_NAME}.png\", dpi=300, bbox_inches=\"tight\")\n",
    "plt.show()"
   ]
  },
  {
   "cell_type": "markdown",
   "metadata": {},
   "source": [
    "#### Age vs. energy label"
   ]
  },
  {
   "cell_type": "code",
   "execution_count": null,
   "metadata": {},
   "outputs": [],
   "source": [
    "plt.figure(figsize=(6, 4))\n",
    "\n",
    "colors = plt.cm.RdYlGn(np.linspace(0, 1, len(buildings_CDM[\"energy_class\"].unique())))\n",
    "\n",
    "# Plot KDE for each energy class\n",
    "for energy_class, color in zip(buildings_CDM[\"energy_class\"].unique(), colors, strict=True):\n",
    "    subset = buildings_CDM[buildings_CDM[\"energy_class\"] == energy_class]\n",
    "    sns.kdeplot(data=subset, x=\"construction_year\", weights=subset[\"floor_area_total_m2\"], label=energy_class, fill=True, color=color, alpha=0.5)\n",
    "\n",
    "plt.axvline(x=2003, color=\"red\", linestyle=\"--\", label=\"Age class cutoff (2003)\")\n",
    "plt.title(\"Distribution of building ages per energy class\")\n",
    "plt.xlabel(\"Construction year\")\n",
    "plt.ylabel(\"Floor space density\")\n",
    "plt.xlim(1800, 2035)\n",
    "plt.legend()\n",
    "plt.tight_layout()\n",
    "plt.savefig(f\"data/output/images/kdeplot_building_age_per_energy_label_{SCENARIO}_{BUILDING_SUBSET_NAME}.png\", dpi=300, bbox_inches=\"tight\")\n",
    "plt.show()"
   ]
  },
  {
   "cell_type": "markdown",
   "metadata": {},
   "source": [
    "#### Maps - Census blocks 100 x 100m"
   ]
  },
  {
   "cell_type": "code",
   "execution_count": null,
   "metadata": {},
   "outputs": [],
   "source": [
    "# Join the buildings and census blocks GeoDataFrames\n",
    "joined_buildings_census_blocks = gpd.sjoin(buildings_CDM, census_blocks)\n",
    "\n",
    "# Calculate the mean construction year per census block, weighted by floor area of the buildings.\n",
    "mean_construction_year_per_census_block = (\n",
    "    joined_buildings_census_blocks.groupby(\"index_right\").apply(lambda x: round(np.average(x[\"construction_year\"], weights=x[\"floor_area_total_m2\"]))).reset_index()\n",
    ")\n",
    "\n",
    "# Rename columns and reset index for merging back to the census block DataFrame\n",
    "mean_construction_year_per_census_block = mean_construction_year_per_census_block.rename(columns={0: \"construction_year\"})\n",
    "mean_construction_year_per_census_block = mean_construction_year_per_census_block.set_index(\"index_right\")\n",
    "\n",
    "# Join the mean construction years to the census block  DataFrame\n",
    "census_blocks = census_blocks.merge(mean_construction_year_per_census_block, left_index=True, right_index=True, how=\"left\")\n",
    "\n",
    "# Now we can plot the census blocks with the construction years\n",
    "ax = census_blocks.plot(column=\"construction_year\", legend=True, figsize=(8, 8))\n",
    "ax = outline_TH.plot(ax=ax, color=\"none\", edgecolor=\"black\", linewidth=0.5)  # Add the outline of The Hague\n",
    "ax.set_title(\"Average construction year per grid cell\")\n",
    "ax.set_axis_off()\n",
    "plt.savefig(f\"data/output/images/GIS_construction_years_100_100_m_grid_{SCENARIO}_{BUILDING_SUBSET_NAME}.png\", dpi=300, bbox_inches=\"tight\")\n",
    "plt.show()"
   ]
  },
  {
   "cell_type": "markdown",
   "metadata": {},
   "source": [
    "#### Maps - Neighborhoods"
   ]
  },
  {
   "cell_type": "code",
   "execution_count": null,
   "metadata": {},
   "outputs": [],
   "source": [
    "# Join the buildings and neighborhoods GeoDataFrames\n",
    "joined_buildings_neighborhoods = gpd.sjoin(buildings_CDM, neighborhoods)\n",
    "\n",
    "# Calculate the mean construction year per neighborhood, weighted by floor area of the buildings.\n",
    "mean_construction_year_per_neighborhood = (\n",
    "    joined_buildings_neighborhoods.groupby(\"index_right\").apply(lambda x: round(np.average(x[\"construction_year\"], weights=x[\"floor_area_total_m2\"]))).reset_index()\n",
    ")\n",
    "\n",
    "# Rename columns and reset index for merging back to the neighborhood DataFrame\n",
    "mean_construction_year_per_neighborhood = mean_construction_year_per_neighborhood.rename(columns={0: \"construction_year\"})\n",
    "mean_construction_year_per_neighborhood = mean_construction_year_per_neighborhood.set_index(\"index_right\")\n",
    "\n",
    "# Join the mean construction years to the neighborhood  DataFrame\n",
    "neighborhoods = neighborhoods.merge(mean_construction_year_per_neighborhood, left_index=True, right_index=True, how=\"left\")"
   ]
  },
  {
   "cell_type": "code",
   "execution_count": null,
   "metadata": {},
   "outputs": [],
   "source": [
    "# Define parameters for the colorbar's appearance\n",
    "legend_kwds = {\n",
    "    \"label\": \"Construction Year\",\n",
    "    \"shrink\": 0.5,\n",
    "}\n",
    "\n",
    "# Now we can plot the neighborhoods with the construction years\n",
    "ax = neighborhoods.plot(column=\"construction_year\", legend=True, figsize=(8, 8), legend_kwds=legend_kwds)\n",
    "ax = outline_TH.plot(ax=ax, color=\"none\", edgecolor=\"black\", linewidth=0.5)  # Add the outline of The Hague\n",
    "ax.set_title(\"Average construction year per neighborhood\")\n",
    "ax.set_axis_off()\n",
    "plt.savefig(f\"data/output/images/GIS_construction_years_neighborhoods_{SCENARIO}_{BUILDING_SUBSET_NAME}.png\", dpi=300, bbox_inches=\"tight\")\n",
    "plt.show()"
   ]
  },
  {
   "cell_type": "markdown",
   "metadata": {},
   "source": [
    "## 3.2 Cooling energy and power demand"
   ]
  },
  {
   "cell_type": "markdown",
   "metadata": {},
   "source": [
    "### By building type"
   ]
  },
  {
   "cell_type": "code",
   "execution_count": null,
   "metadata": {},
   "outputs": [],
   "source": [
    "# Create a new column with the floor area in hectares\n",
    "buildings_CDM[\"floor_area_total_ha\"] = buildings_CDM[\"floor_area_total_m2\"] / 10_000"
   ]
  },
  {
   "cell_type": "code",
   "execution_count": null,
   "metadata": {},
   "outputs": [],
   "source": [
    "# Create a new column building type print, which is the string join of building type int and building type\n",
    "buildings_CDM[\"building_type_print\"] = buildings_CDM[\"building_type_int\"].astype(\"str\") + \": \" + buildings_CDM[\"building_type\"]\n",
    "\n",
    "# For some reason, matplotlib handles colormaps differently than seaborn. I manually change the seaborn colormap to match the matplotlib one\n",
    "tab10_colors = sns.color_palette(\"tab10\", 10)\n",
    "\n",
    "# Remove the 4th and 7th colors (remember, Python uses 0-based indexing)\n",
    "adapted_tab10_colors = [color for i, color in enumerate(tab10_colors) if i not in [3, 6]]"
   ]
  },
  {
   "cell_type": "markdown",
   "metadata": {},
   "source": [
    "#### Cooling energy demand"
   ]
  },
  {
   "cell_type": "code",
   "execution_count": null,
   "metadata": {},
   "outputs": [],
   "source": [
    "buildings_CDM[\"E_cooling_capped_at_98th_percentile_kWh_m2\"] = buildings_CDM[\"E_cooling_capped_at_98th_percentile_Wh_m2\"] / 1000\n",
    "\n",
    "# HACK Rename \"building_type_print\" column for printing purposes\n",
    "buildings_CDM = buildings_CDM.rename(columns={\"building_type_print\": \"Building type:\"})\n",
    "\n",
    "# Plot the histogram using Seaborn's histplot\n",
    "sns.histplot(\n",
    "    data=buildings_CDM,\n",
    "    x=\"E_cooling_capped_at_98th_percentile_kWh_m2\",\n",
    "    hue=\"Building type:\",\n",
    "    hue_order=sorted(buildings_CDM[\"Building type:\"].unique()),\n",
    "    palette=adapted_tab10_colors,\n",
    "    weights=\"floor_area_total_ha\",\n",
    "    bins=75,\n",
    "    multiple=\"stack\",\n",
    ")\n",
    "\n",
    "# Set the title and labels\n",
    "plt.title(f\"Distribution of cooling energy demand intensity per building type ({SCENARIO.replace ('_', '')} scenario)\")\n",
    "plt.xlabel(\"Cooling energy demand intensity (kWh/m2)\")\n",
    "plt.ylabel(\"Floor space (ha)\")\n",
    "plt.xlim(0, 200)\n",
    "plt.savefig(f\"data/output/images/histogram_cooling_energy_demand_intensity_per_building_type_{SCENARIO}_{BUILDING_SUBSET_NAME}.png\", dpi=300, bbox_inches=\"tight\")\n",
    "plt.show()\n",
    "\n",
    "# HACK Revert renaming of \"building_type_print\" column\n",
    "buildings_CDM = buildings_CDM.rename(columns={\"Building type:\": \"building_type_print\"})"
   ]
  },
  {
   "cell_type": "markdown",
   "metadata": {},
   "source": [
    "#### Peak cooling power demand"
   ]
  },
  {
   "cell_type": "code",
   "execution_count": null,
   "metadata": {},
   "outputs": [],
   "source": [
    "# HACK Rename \"building_type_print\" column for printing purposes\n",
    "buildings_CDM = buildings_CDM.rename(columns={\"building_type_print\": \"Building type:\"})\n",
    "\n",
    "# Plot the histogram using Seaborn's histplot\n",
    "sns.histplot(\n",
    "    data=buildings_CDM,\n",
    "    x=\"P_cooling_peak_98th_percentile_W_m2\",\n",
    "    hue=\"Building type:\",\n",
    "    hue_order=sorted(buildings_CDM[\"Building type:\"].unique()),\n",
    "    palette=adapted_tab10_colors,\n",
    "    weights=\"floor_area_total_ha\",\n",
    "    bins=75,\n",
    "    multiple=\"stack\",\n",
    ")\n",
    "\n",
    "# Set the title and labels\n",
    "plt.title(\"Peak cooling power demand intensity (98th percentile) per building type\")\n",
    "plt.xlabel(\"Peak cooling power demand intensity (W/m2)\")\n",
    "plt.ylabel(\"Floor space (ha)\")\n",
    "plt.xlim(0, 200)\n",
    "plt.savefig(f\"data/output/images/histogram_cooling_power_demand_intensity_per_building_type_{SCENARIO}_{BUILDING_SUBSET_NAME}.png\", dpi=300, bbox_inches=\"tight\")\n",
    "plt.show()\n",
    "\n",
    "# HACK Revert renaming of \"building_type_print\" column\n",
    "buildings_CDM = buildings_CDM.rename(columns={\"Building type:\": \"building_type_print\"})"
   ]
  },
  {
   "cell_type": "markdown",
   "metadata": {},
   "source": [
    "#### Correlation between population and energy demand"
   ]
  },
  {
   "cell_type": "code",
   "execution_count": null,
   "metadata": {},
   "outputs": [],
   "source": [
    "# Plot the correlation between the population in a building and the energy demand\n",
    "plt.figure(figsize=(6, 4))\n",
    "plt.scatter(buildings_CDM[\"population\"], buildings_CDM[\"floor_area_total_m2\"], alpha=0.1)\n",
    "plt.title(\"Correlation between population and energy demand\")"
   ]
  },
  {
   "cell_type": "code",
   "execution_count": null,
   "metadata": {},
   "outputs": [],
   "source": [
    "# Plot the correlation between the population in a building and the energy demand\n",
    "plt.figure(figsize=(6, 4))\n",
    "plt.scatter(\n",
    "    buildings_CDM[buildings_CDM[\"building_type_int\"].isin([1, 2, 3, 4])][\"population\"],\n",
    "    buildings_CDM[buildings_CDM[\"building_type_int\"].isin([1, 2, 3, 4])][\"E_cooling_kWh\"],\n",
    "    alpha=0.1,\n",
    ")\n",
    "plt.scatter(\n",
    "    buildings_CDM[buildings_CDM[\"building_type_int\"].isin([5, 6, 7, 8])][\"population\"],\n",
    "    buildings_CDM[buildings_CDM[\"building_type_int\"].isin([5, 6, 7, 8])][\"E_cooling_kWh\"],\n",
    "    alpha=0.1,\n",
    ")\n",
    "\n",
    "# Plot the trend line for both building types\n",
    "plt.plot(\n",
    "    np.unique(buildings_CDM[buildings_CDM[\"building_type_int\"].isin([1, 2, 3, 4])][\"population\"]),\n",
    "    np.poly1d(\n",
    "        np.polyfit(\n",
    "            buildings_CDM[buildings_CDM[\"building_type_int\"].isin([1, 2, 3, 4])][\"population\"],\n",
    "            buildings_CDM[buildings_CDM[\"building_type_int\"].isin([1, 2, 3, 4])][\"E_cooling_kWh\"],\n",
    "            1,\n",
    "        ),\n",
    "    )(np.unique(buildings_CDM[buildings_CDM[\"building_type_int\"].isin([1, 2, 3, 4])][\"population\"])),\n",
    "    color=\"blue\",\n",
    ")\n",
    "plt.plot(\n",
    "    np.unique(buildings_CDM[buildings_CDM[\"building_type_int\"].isin([5, 6, 7, 8])][\"population\"]),\n",
    "    np.poly1d(\n",
    "        np.polyfit(\n",
    "            buildings_CDM[buildings_CDM[\"building_type_int\"].isin([5, 6, 7, 8])][\"population\"],\n",
    "            buildings_CDM[buildings_CDM[\"building_type_int\"].isin([5, 6, 7, 8])][\"E_cooling_kWh\"],\n",
    "            1,\n",
    "        ),\n",
    "    )(np.unique(buildings_CDM[buildings_CDM[\"building_type_int\"].isin([5, 6, 7, 8])][\"population\"])),\n",
    "    color=\"orange\",\n",
    ")\n",
    "\n",
    "# Show the correlation coefficient for both building types\n",
    "plt.text(\n",
    "    0.5,\n",
    "    0.9,\n",
    "    f\"Residential: {round(buildings_CDM[buildings_CDM['building_type_int'].isin([1,2,3,4])]['population'].corr(buildings_CDM[buildings_CDM['building_type_int'].isin([1,2,3,4])]['E_cooling_kWh']), 2)}\",\n",
    "    horizontalalignment=\"center\",\n",
    "    verticalalignment=\"center\",\n",
    "    transform=plt.gca().transAxes,\n",
    "    color=\"blue\",\n",
    ")\n",
    "plt.text(\n",
    "    0.5,\n",
    "    0.85,\n",
    "    f\"Non-residential: {round(buildings_CDM[buildings_CDM['building_type_int'].isin([5,6,7,8])]['population'].corr(buildings_CDM[buildings_CDM['building_type_int'].isin([5,6,7,8])]['E_cooling_kWh']), 2)}\",\n",
    "    horizontalalignment=\"center\",\n",
    "    verticalalignment=\"center\",\n",
    "    transform=plt.gca().transAxes,\n",
    "    color=\"orange\",\n",
    ")\n",
    "\n",
    "# Set the title and labels\n",
    "plt.legend([\"Residential\", \"Non-residential\"])\n",
    "plt.xlabel(\"Population\")\n",
    "plt.ylabel(\"Cooling energy demand (kWh)\")\n",
    "plt.title(\"Correlation between population and energy demand\")"
   ]
  },
  {
   "cell_type": "code",
   "execution_count": null,
   "metadata": {},
   "outputs": [],
   "source": [
    "# Plot the correlation between the floor area in a building and the energy demand\n",
    "plt.figure(figsize=(6, 4))\n",
    "plt.scatter(\n",
    "    buildings_CDM[buildings_CDM[\"building_type_int\"].isin([1, 2, 3, 4])][\"floor_area_total_m2\"],\n",
    "    buildings_CDM[buildings_CDM[\"building_type_int\"].isin([1, 2, 3, 4])][\"E_cooling_kWh\"],\n",
    "    alpha=0.1,\n",
    ")\n",
    "plt.scatter(\n",
    "    buildings_CDM[buildings_CDM[\"building_type_int\"].isin([5, 6, 7, 8])][\"floor_area_total_m2\"],\n",
    "    buildings_CDM[buildings_CDM[\"building_type_int\"].isin([5, 6, 7, 8])][\"E_cooling_kWh\"],\n",
    "    alpha=0.1,\n",
    ")\n",
    "\n",
    "# Plot the trend line for both building types\n",
    "plt.plot(\n",
    "    np.unique(buildings_CDM[buildings_CDM[\"building_type_int\"].isin([1, 2, 3, 4])][\"floor_area_total_m2\"]),\n",
    "    np.poly1d(\n",
    "        np.polyfit(\n",
    "            buildings_CDM[buildings_CDM[\"building_type_int\"].isin([1, 2, 3, 4])][\"floor_area_total_m2\"],\n",
    "            buildings_CDM[buildings_CDM[\"building_type_int\"].isin([1, 2, 3, 4])][\"E_cooling_kWh\"],\n",
    "            1,\n",
    "        ),\n",
    "    )(np.unique(buildings_CDM[buildings_CDM[\"building_type_int\"].isin([1, 2, 3, 4])][\"floor_area_total_m2\"])),\n",
    "    color=\"blue\",\n",
    ")\n",
    "plt.plot(\n",
    "    np.unique(buildings_CDM[buildings_CDM[\"building_type_int\"].isin([5, 6, 7, 8])][\"floor_area_total_m2\"]),\n",
    "    np.poly1d(\n",
    "        np.polyfit(\n",
    "            buildings_CDM[buildings_CDM[\"building_type_int\"].isin([5, 6, 7, 8])][\"floor_area_total_m2\"],\n",
    "            buildings_CDM[buildings_CDM[\"building_type_int\"].isin([5, 6, 7, 8])][\"E_cooling_kWh\"],\n",
    "            1,\n",
    "        ),\n",
    "    )(np.unique(buildings_CDM[buildings_CDM[\"building_type_int\"].isin([5, 6, 7, 8])][\"floor_area_total_m2\"])),\n",
    "    color=\"orange\",\n",
    ")\n",
    "\n",
    "# Show the correlation coefficient for both building types\n",
    "plt.text(\n",
    "    0.5,\n",
    "    0.9,\n",
    "    f\"Residential: {round(buildings_CDM[buildings_CDM['building_type_int'].isin([1,2,3,4])]['floor_area_total_m2'].corr(buildings_CDM[buildings_CDM['building_type_int'].isin([1,2,3,4])]['E_cooling_kWh']), 2)}\",\n",
    "    horizontalalignment=\"center\",\n",
    "    verticalalignment=\"center\",\n",
    "    transform=plt.gca().transAxes,\n",
    "    color=\"blue\",\n",
    ")\n",
    "plt.text(\n",
    "    0.5,\n",
    "    0.85,\n",
    "    f\"Non-residential: {round(buildings_CDM[buildings_CDM['building_type_int'].isin([5,6,7,8])]['floor_area_total_m2'].corr(buildings_CDM[buildings_CDM['building_type_int'].isin([5,6,7,8])]['E_cooling_kWh']), 2)}\",\n",
    "    horizontalalignment=\"center\",\n",
    "    verticalalignment=\"center\",\n",
    "    transform=plt.gca().transAxes,\n",
    "    color=\"orange\",\n",
    ")\n",
    "\n",
    "# Set the title and labels\n",
    "plt.legend([\"Residential\", \"Non-residential\"])\n",
    "plt.xlabel(\"Floor area (m2)\")\n",
    "plt.ylabel(\"Cooling energy demand (kWh)\")\n",
    "plt.title(\"Correlation between floor area and energy demand\")"
   ]
  },
  {
   "cell_type": "markdown",
   "metadata": {},
   "source": [
    "### By energy class"
   ]
  },
  {
   "cell_type": "code",
   "execution_count": null,
   "metadata": {},
   "outputs": [],
   "source": [
    "# Get sorted unique energy classes\n",
    "energy_classes = sorted(buildings_CDM[\"energy_class\"].unique())\n",
    "\n",
    "# Create colormap based on the number of unique energy classes\n",
    "colors = plt.cm.RdYlGn_r(np.linspace(0, 1, len(energy_classes)))\n",
    "\n",
    "# Map energy classes to colors\n",
    "color_map = dict(zip(energy_classes, colors, strict=True))"
   ]
  },
  {
   "cell_type": "markdown",
   "metadata": {},
   "source": [
    "#### Cooling energy demand"
   ]
  },
  {
   "cell_type": "code",
   "execution_count": null,
   "metadata": {},
   "outputs": [],
   "source": [
    "# Plot the histogram using Seaborn's histplot\n",
    "sns.histplot(\n",
    "    data=buildings_CDM,\n",
    "    x=\"E_cooling_capped_at_98th_percentile_kWh_m2\",\n",
    "    hue=\"energy_class\",\n",
    "    hue_order=sorted(buildings_CDM[\"energy_class\"].unique()),\n",
    "    palette=color_map,\n",
    "    weights=\"floor_area_total_ha\",\n",
    "    bins=75,\n",
    "    multiple=\"stack\",\n",
    ")\n",
    "\n",
    "# Set the title and labels\n",
    "plt.title(\"Cooling energy demand intensity (capped at 98th percentile) per energy class\")\n",
    "plt.xlabel(\"Cooling energy demand intensity (kWh/m2)\")\n",
    "plt.ylabel(\"Floor space (ha)\")\n",
    "plt.xlim(0, 200)\n",
    "plt.savefig(f\"data/output/images/histogram_cooling_energy_demand_intensity_per_energy_class_{SCENARIO}_{BUILDING_SUBSET_NAME}.png\", dpi=300, bbox_inches=\"tight\")\n",
    "plt.show()"
   ]
  },
  {
   "cell_type": "markdown",
   "metadata": {},
   "source": [
    "#### Peak cooling power demand"
   ]
  },
  {
   "cell_type": "code",
   "execution_count": null,
   "metadata": {},
   "outputs": [],
   "source": [
    "# Plot the histogram using Seaborn's histplot\n",
    "sns.histplot(\n",
    "    data=buildings_CDM,\n",
    "    x=\"P_cooling_peak_98th_percentile_W_m2\",\n",
    "    hue=\"energy_class\",\n",
    "    hue_order=sorted(buildings_CDM[\"energy_class\"].unique()),\n",
    "    palette=color_map,\n",
    "    weights=\"floor_area_total_ha\",\n",
    "    bins=75,\n",
    "    multiple=\"stack\",\n",
    ")\n",
    "\n",
    "# Set the title and labels\n",
    "plt.title(\"Peak cooling power demand intensity (98th percentile) per energy class\")\n",
    "plt.xlabel(\"Peak cooling power demand intensity (W/m2)\")\n",
    "plt.ylabel(\"Floor space (ha)\")\n",
    "plt.xlim(0, 200)\n",
    "plt.savefig(f\"data/output/images/histogram_cooling_power_demand_intensity_per_energy_class_{SCENARIO}_{BUILDING_SUBSET_NAME}.png\", dpi=300, bbox_inches=\"tight\")\n",
    "plt.show()"
   ]
  },
  {
   "cell_type": "markdown",
   "metadata": {},
   "source": [
    "### Maps - Census blocks 100 x 100m\n"
   ]
  },
  {
   "cell_type": "code",
   "execution_count": null,
   "metadata": {},
   "outputs": [],
   "source": [
    "# Join the buildings and census blocks GeoDataFrames\n",
    "joined_buildings_census_blocks = gpd.sjoin(buildings_CDM, census_blocks)"
   ]
  },
  {
   "cell_type": "markdown",
   "metadata": {},
   "source": [
    "#### Cooling energy demand"
   ]
  },
  {
   "cell_type": "code",
   "execution_count": null,
   "metadata": {},
   "outputs": [],
   "source": [
    "# Calculate the mean cooling energy demand per census block, weighted by floor area of the buildings.\n",
    "mean_cooling_energy_demand_per_census_block = joined_buildings_census_blocks.groupby(\"index_right\")[\"E_cooling_capped_at_98th_percentile_Wh_m2\"].mean().reset_index()\n",
    "\n",
    "# Reset index for merging back to the census block DataFrame\n",
    "mean_cooling_energy_demand_per_census_block = mean_cooling_energy_demand_per_census_block.set_index(\"index_right\")\n",
    "\n",
    "# Join the mean cooling energy demands to the census block DataFrame\n",
    "census_blocks = census_blocks.merge(mean_cooling_energy_demand_per_census_block, left_index=True, right_index=True, how=\"left\")\n",
    "\n",
    "# Create a new column with the energy demand intensity in kWh per m2\n",
    "census_blocks[\"E_cooling_capped_at_98th_percentile_kWh_m2\"] = census_blocks[\"E_cooling_capped_at_98th_percentile_Wh_m2\"] / 1000"
   ]
  },
  {
   "cell_type": "code",
   "execution_count": null,
   "metadata": {},
   "outputs": [],
   "source": [
    "# Define parameters for the colorbar's appearance\n",
    "legend_kwds = {\n",
    "    \"label\": \"Cooling energy demand intensity (kWh/m2 floor space)\",\n",
    "    \"shrink\": 0.5,\n",
    "}\n",
    "\n",
    "# Now we can plot the census blocks with the cooling energy demands\n",
    "ax = census_blocks.plot(column=\"E_cooling_capped_at_98th_percentile_kWh_m2\", legend=True, figsize=(8, 8), legend_kwds=legend_kwds)\n",
    "ax = outline_TH.plot(ax=ax, color=\"none\", edgecolor=\"black\", linewidth=0.5)  # Add the outline of The Hague\n",
    "ax.set_title(\"Cooling energy demand (capped at 98th percentile)\\nper grid cell\")\n",
    "ax.set_axis_off()\n",
    "plt.savefig(f\"data/output/images/GIS/GIS_cooling_energy_demands_100_100_m_grid_{SCENARIO}_{BUILDING_SUBSET_NAME}.png\", dpi=300, bbox_inches=\"tight\")\n",
    "plt.show()"
   ]
  },
  {
   "cell_type": "markdown",
   "metadata": {},
   "source": [
    "#### Peak cooling power demand"
   ]
  },
  {
   "cell_type": "code",
   "execution_count": null,
   "metadata": {},
   "outputs": [],
   "source": [
    "# Calculate the mean cooling power demand per census block, weighted by floor area of the buildings.\n",
    "mean_cooling_power_demand_per_census_block = joined_buildings_census_blocks.groupby(\"index_right\")[\"P_cooling_peak_98th_percentile_W_m2\"].mean().reset_index()\n",
    "\n",
    "# Reset index for merging back to the census block DataFrame\n",
    "mean_cooling_power_demand_per_census_block = mean_cooling_power_demand_per_census_block.set_index(\"index_right\")\n",
    "\n",
    "# Join the mean cooling power demands to the census block DataFrame\n",
    "census_blocks = census_blocks.merge(mean_cooling_power_demand_per_census_block, left_index=True, right_index=True, how=\"left\")"
   ]
  },
  {
   "cell_type": "code",
   "execution_count": null,
   "metadata": {},
   "outputs": [],
   "source": [
    "# Define parameters for the colorbar's appearance\n",
    "legend_kwds = {\n",
    "    \"label\": \"Peak cooling power demand intensity (W/m2 floor space)\",\n",
    "    \"shrink\": 0.5,\n",
    "}\n",
    "\n",
    "# Now we can plot the census blocks with the cooling power demands\n",
    "ax = census_blocks.plot(column=\"P_cooling_peak_98th_percentile_W_m2\", legend=True, figsize=(8, 8), legend_kwds=legend_kwds)\n",
    "ax = outline_TH.plot(ax=ax, color=\"none\", edgecolor=\"black\", linewidth=0.5)  # Add the outline of The Hague\n",
    "ax.set_title(\"Peak cooling power demand (98th percentile)\\nper grid cell\")\n",
    "ax.set_axis_off()\n",
    "\n",
    "plt.savefig(f\"data/output/images/GIS/GIS_cooling_power_demands_100_100_m_grid_{SCENARIO}_{BUILDING_SUBSET_NAME}.png\", dpi=300, bbox_inches=\"tight\")\n",
    "plt.show()"
   ]
  },
  {
   "cell_type": "markdown",
   "metadata": {},
   "source": [
    "### Maps - Neighborhoods"
   ]
  },
  {
   "cell_type": "code",
   "execution_count": null,
   "metadata": {},
   "outputs": [],
   "source": [
    "# Join the buildings and neighborhoods GeoDataFrames\n",
    "joined_buildings_neighborhoods = gpd.sjoin(buildings_CDM, neighborhoods)"
   ]
  },
  {
   "cell_type": "markdown",
   "metadata": {},
   "source": [
    "#### Cooling energy demand"
   ]
  },
  {
   "cell_type": "code",
   "execution_count": null,
   "metadata": {},
   "outputs": [],
   "source": [
    "# Calculate the mean cooling energy demand per neighborhood, weighted by floor area of the buildings.\n",
    "mean_cooling_energy_demand_per_neighborhood = joined_buildings_neighborhoods.groupby(\"index_right\")[\"E_cooling_capped_at_98th_percentile_Wh_m2\"].mean().reset_index()\n",
    "\n",
    "# Reset index for merging back to the neighborhood DataFrame\n",
    "mean_cooling_energy_demand_per_neighborhood = mean_cooling_energy_demand_per_neighborhood.set_index(\"index_right\")\n",
    "\n",
    "# Join the mean cooling energy demands to the neighborhood DataFrame\n",
    "neighborhoods = neighborhoods.merge(mean_cooling_energy_demand_per_neighborhood, left_index=True, right_index=True, how=\"left\")\n",
    "\n",
    "# Create a new column with the energy demand intensity in kWh per m2\n",
    "neighborhoods[\"E_cooling_capped_at_98th_percentile_kWh_m2\"] = neighborhoods[\"E_cooling_capped_at_98th_percentile_Wh_m2\"] / 1000"
   ]
  },
  {
   "cell_type": "code",
   "execution_count": null,
   "metadata": {},
   "outputs": [],
   "source": [
    "# Define parameters for the colorbar's appearance\n",
    "legend_kwds = {\n",
    "    \"label\": \"Cooling energy demand intensity (kWh/m2 floor space)\",\n",
    "    \"shrink\": 0.5,\n",
    "}\n",
    "\n",
    "# Now we can plot the neighborhoods with the cooling energy demands\n",
    "ax = neighborhoods.plot(column=\"E_cooling_capped_at_98th_percentile_kWh_m2\", legend=True, figsize=(8, 8), legend_kwds=legend_kwds)\n",
    "ax = outline_TH.plot(ax=ax, color=\"none\", edgecolor=\"black\", linewidth=0.5)  # Add the outline of The Hague\n",
    "ax.set_title(\"Cooling energy demand (capped at 98th percentile)\\nper neighborhood\")\n",
    "ax.set_axis_off()\n",
    "\n",
    "plt.savefig(f\"data/output/images/GIS/GIS_cooling_energy_demands_neighborhood_{SCENARIO}_{BUILDING_SUBSET_NAME}.png\", dpi=300, bbox_inches=\"tight\")\n",
    "plt.show()"
   ]
  },
  {
   "cell_type": "markdown",
   "metadata": {},
   "source": [
    "#### Peak cooling power demand"
   ]
  },
  {
   "cell_type": "code",
   "execution_count": null,
   "metadata": {},
   "outputs": [],
   "source": [
    "# Calculate the mean cooling power demand per neighborhood, weighted by floor area of the buildings.\n",
    "mean_cooling_power_demand_per_neighborhood = joined_buildings_neighborhoods.groupby(\"index_right\")[\"P_cooling_peak_98th_percentile_W_m2\"].mean().reset_index()\n",
    "\n",
    "# Reset index for merging back to the neighborhood DataFrame\n",
    "mean_cooling_power_demand_per_neighborhood = mean_cooling_power_demand_per_neighborhood.set_index(\"index_right\")\n",
    "\n",
    "# Join the mean cooling power demands to the neighborhood DataFrame\n",
    "neighborhoods = neighborhoods.merge(mean_cooling_power_demand_per_neighborhood, left_index=True, right_index=True, how=\"left\")"
   ]
  },
  {
   "cell_type": "code",
   "execution_count": null,
   "metadata": {},
   "outputs": [],
   "source": [
    "# Define parameters for the colorbar's appearance\n",
    "legend_kwds = {\n",
    "    \"label\": \"Peak cooling power demand intensity (W/m2 floor space)\",\n",
    "    \"shrink\": 0.5,\n",
    "}\n",
    "\n",
    "# Now we can plot the neighborhoods with the cooling power demands\n",
    "ax = neighborhoods.plot(column=\"P_cooling_peak_98th_percentile_W_m2\", legend=True, figsize=(8, 8), legend_kwds=legend_kwds)\n",
    "ax = outline_TH.plot(ax=ax, color=\"none\", edgecolor=\"black\", linewidth=0.5)  # Add the outline of The Hague\n",
    "ax.set_title(\"Peak cooling power demand (98th percentile)\\nper neighborhood\")\n",
    "ax.set_axis_off()\n",
    "\n",
    "# Add y-axis label to the colorbar\n",
    "colorbar = ax.get_figure().get_axes()[1]  # The colorbar is typically the second axes in the figure\n",
    "colorbar.set_ylabel(\"Peak cooling power demand intensity (W/m2 floor space)\", rotation=270, labelpad=15)\n",
    "\n",
    "plt.savefig(f\"data/output/images/GIS/GIS_cooling_power_demands_neighborhood_{SCENARIO}_{BUILDING_SUBSET_NAME}.png\", dpi=300, bbox_inches=\"tight\")\n",
    "plt.show()"
   ]
  },
  {
   "cell_type": "markdown",
   "metadata": {},
   "source": [
    "## 3.3 Environmental impacts"
   ]
  },
  {
   "cell_type": "code",
   "execution_count": null,
   "metadata": {},
   "outputs": [],
   "source": [
    "# Create a new column with the floor area in hectares\n",
    "buildings_CDM[\"floor_area_total_ha\"] = buildings_CDM[\"floor_area_total_m2\"] / 10_000"
   ]
  },
  {
   "cell_type": "markdown",
   "metadata": {},
   "source": [
    "### By energy class"
   ]
  },
  {
   "cell_type": "code",
   "execution_count": null,
   "metadata": {},
   "outputs": [],
   "source": [
    "# Get sorted unique energy classes\n",
    "\n",
    "energy_classes = sorted(buildings_CDM[\"energy_class\"].unique())\n",
    "\n",
    "# Create colormap based on the number of unique energy classes\n",
    "colors = plt.cm.RdYlGn_r(np.linspace(0, 1, len(energy_classes)))\n",
    "\n",
    "# Map energy classes to colors\n",
    "color_map = dict(zip(energy_classes, colors, strict=True))"
   ]
  },
  {
   "cell_type": "markdown",
   "metadata": {},
   "source": [
    "#### Electricity use"
   ]
  },
  {
   "cell_type": "code",
   "execution_count": null,
   "metadata": {},
   "outputs": [],
   "source": [
    "# Plot the histogram using Seaborn's histplot\n",
    "sns.histplot(\n",
    "    data=buildings_CDM,\n",
    "    x=\"electricity_use_intensity_kWh_m2\",\n",
    "    hue=\"energy_class\",\n",
    "    hue_order=sorted(buildings_CDM[\"energy_class\"].unique()),\n",
    "    palette=color_map,\n",
    "    weights=\"floor_area_total_ha\",\n",
    "    bins=25,\n",
    "    multiple=\"stack\",\n",
    ")\n",
    "\n",
    "# Set the title and labels\n",
    "plt.title(\"Electricity use intensity per energy class\")\n",
    "plt.xlabel(\"Electricity use intensity (kWh/m2)\")\n",
    "plt.ylabel(\"Floor space (ha)\")\n",
    "plt.xlim(0, 30)\n",
    "plt.savefig(f\"data/output/images/histogram_electricity_use_intensity_per_energy_class_{SCENARIO}_{BUILDING_SUBSET_NAME}.png\", dpi=300, bbox_inches=\"tight\")\n",
    "plt.show()"
   ]
  },
  {
   "cell_type": "markdown",
   "metadata": {},
   "source": [
    "#### GHG emissions"
   ]
  },
  {
   "cell_type": "code",
   "execution_count": null,
   "metadata": {},
   "outputs": [],
   "source": [
    "# Plot the histogram using Seaborn's histplot\n",
    "sns.histplot(\n",
    "    data=buildings_CDM,\n",
    "    x=\"GHG_emissions_intensity_kgCO2eq_m2\",\n",
    "    hue=\"energy_class\",\n",
    "    hue_order=sorted(buildings_CDM[\"energy_class\"].unique()),\n",
    "    palette=color_map,\n",
    "    weights=\"floor_area_total_ha\",\n",
    "    bins=25,\n",
    "    multiple=\"stack\",\n",
    ")\n",
    "\n",
    "# Set the title and labels\n",
    "plt.title(\"GHG emission intensity per energy class\")\n",
    "plt.xlabel(\"GHG emission intensity (kgCO2e/m2)\")\n",
    "plt.ylabel(\"Floor space (ha)\")\n",
    "plt.xlim(0, 15)\n",
    "plt.savefig(f\"data/output/images/histogram_GHG_emission_intensity_per_energy_class_{SCENARIO}_{BUILDING_SUBSET_NAME}.png\", dpi=300, bbox_inches=\"tight\")\n",
    "plt.show()"
   ]
  },
  {
   "cell_type": "markdown",
   "metadata": {},
   "source": [
    "#### Material demand"
   ]
  },
  {
   "cell_type": "code",
   "execution_count": null,
   "metadata": {},
   "outputs": [],
   "source": [
    "# Plot the histogram using Seaborn's histplot\n",
    "sns.histplot(\n",
    "    data=buildings_CDM,\n",
    "    x=\"material_use_intensity_kg_m2\",\n",
    "    hue=\"energy_class\",\n",
    "    hue_order=sorted(buildings_CDM[\"energy_class\"].unique()),\n",
    "    palette=color_map,\n",
    "    weights=\"floor_area_total_ha\",\n",
    "    bins=25,\n",
    "    multiple=\"stack\",\n",
    ")\n",
    "\n",
    "# Set the title and labels\n",
    "plt.title(\"Material intensity per energy class\")\n",
    "plt.xlabel(\"Material intensity (kg/m2)\")\n",
    "plt.ylabel(\"Floor space (ha)\")\n",
    "plt.xlim(0, 1.2)\n",
    "plt.savefig(f\"data/output/images/histogram_material_use_intensity_per_energy_class_{SCENARIO}_{BUILDING_SUBSET_NAME}.png\", dpi=300, bbox_inches=\"tight\")\n",
    "plt.show()"
   ]
  },
  {
   "cell_type": "markdown",
   "metadata": {},
   "source": [
    "### By building type"
   ]
  },
  {
   "cell_type": "code",
   "execution_count": null,
   "metadata": {},
   "outputs": [],
   "source": [
    "# Create a new column building type print, which is the string join of building type int and building type\n",
    "buildings_CDM[\"building_type_print\"] = buildings_CDM[\"building_type_int\"].astype(\"str\") + \": \" + buildings_CDM[\"building_type\"]\n",
    "\n",
    "# For some reason, matplotlib handles colormaps differently than seaborn. I manually change the seaborn colormap to match the matplotlib one\n",
    "tab10_colors = sns.color_palette(\"tab10\", 10)\n",
    "\n",
    "# Remove the 4th and 7th colors (remember, Python uses 0-based indexing)\n",
    "adapted_tab10_colors = [color for i, color in enumerate(tab10_colors) if i not in [3, 6]]"
   ]
  },
  {
   "cell_type": "markdown",
   "metadata": {},
   "source": [
    "#### Electricity use"
   ]
  },
  {
   "cell_type": "code",
   "execution_count": null,
   "metadata": {},
   "outputs": [],
   "source": [
    "# Set up the figure and axes\n",
    "plt.figure(figsize=(5, 6))\n",
    "\n",
    "# HACK Rename \"building_type_print\" column for printing purposes\n",
    "buildings_CDM = buildings_CDM.rename(columns={\"building_type_print\": \"Building type:\"})\n",
    "\n",
    "# Plot the histogram using Seaborn's histplot\n",
    "sns.histplot(\n",
    "    data=buildings_CDM,\n",
    "    x=\"electricity_use_intensity_kWh_m2\",\n",
    "    hue=\"Building type:\",\n",
    "    hue_order=sorted(buildings_CDM[\"Building type:\"].unique()),\n",
    "    palette=adapted_tab10_colors,\n",
    "    weights=\"floor_area_total_ha\",\n",
    "    bins=25,\n",
    "    multiple=\"stack\",\n",
    ")\n",
    "\n",
    "# Set the title and labels\n",
    "plt.title(\"Electricity use intensity per building type\")\n",
    "plt.xlabel(\"Electricity use intensity (kWh/m2)\")\n",
    "plt.ylabel(\"Floor space (ha)\")\n",
    "plt.xlim(0, 30)\n",
    "plt.savefig(f\"data/output/images/histogram_electricity_use_intensity_per_building_type_{SCENARIO}_{BUILDING_SUBSET_NAME}.png\", dpi=300, bbox_inches=\"tight\")\n",
    "plt.show()\n",
    "\n",
    "# HACK Revert renaming of \"building_type_print\" column for printing purposes\n",
    "buildings_CDM = buildings_CDM.rename(columns={\"Building type:\": \"building_type_print\"})"
   ]
  },
  {
   "cell_type": "markdown",
   "metadata": {},
   "source": [
    "#### GHG emissions"
   ]
  },
  {
   "cell_type": "code",
   "execution_count": null,
   "metadata": {},
   "outputs": [],
   "source": [
    "# Set up the figure and axes\n",
    "plt.figure(figsize=(5, 6))\n",
    "\n",
    "# HACK Rename \"building_type_print\" column for printing purposes\n",
    "buildings_CDM = buildings_CDM.rename(columns={\"building_type_print\": \"Building type:\"})\n",
    "\n",
    "# Plot the histogram using Seaborn's histplot\n",
    "sns.histplot(\n",
    "    data=buildings_CDM,\n",
    "    x=\"GHG_emissions_intensity_kgCO2eq_m2\",\n",
    "    hue=\"Building type:\",\n",
    "    hue_order=sorted(buildings_CDM[\"Building type:\"].unique()),\n",
    "    palette=adapted_tab10_colors,\n",
    "    weights=\"floor_area_total_ha\",\n",
    "    bins=25,\n",
    "    multiple=\"stack\",\n",
    ")\n",
    "\n",
    "# Set the title and labels\n",
    "plt.title(\"GHG emission intensity per building type\")\n",
    "plt.xlabel(\"GHG emission intensity (kg CO2-eq/m2)\")\n",
    "plt.ylabel(\"Floor space (ha)\")\n",
    "plt.xlim(0, 15)\n",
    "plt.savefig(f\"data/output/images/histogram_GHG_emission_intensity_per_building_type_{SCENARIO}_{BUILDING_SUBSET_NAME}.png\", dpi=300, bbox_inches=\"tight\")\n",
    "plt.show()\n",
    "\n",
    "# HACK Revert renaming of \"building_type_print\" column for printing purposes\n",
    "buildings_CDM = buildings_CDM.rename(columns={\"Building type:\": \"building_type_print\"})"
   ]
  },
  {
   "cell_type": "markdown",
   "metadata": {},
   "source": [
    "#### Material demand"
   ]
  },
  {
   "cell_type": "code",
   "execution_count": null,
   "metadata": {},
   "outputs": [],
   "source": [
    "# Set up the figure and axes\n",
    "plt.figure(figsize=(5, 6))\n",
    "\n",
    "# HACK Rename \"building_type_print\" column for printing purposes\n",
    "buildings_CDM = buildings_CDM.rename(columns={\"building_type_print\": \"Building type:\"})\n",
    "\n",
    "# Plot the histogram using Seaborn's histplot\n",
    "sns.histplot(\n",
    "    data=buildings_CDM,\n",
    "    x=\"material_use_intensity_kg_m2\",\n",
    "    hue=\"Building type:\",\n",
    "    hue_order=sorted(buildings_CDM[\"Building type:\"].unique()),\n",
    "    palette=adapted_tab10_colors,\n",
    "    weights=\"floor_area_total_ha\",\n",
    "    bins=25,\n",
    "    multiple=\"stack\",\n",
    ")\n",
    "\n",
    "# Set the title and labels\n",
    "plt.title(\"Material intensity per building type\")\n",
    "plt.xlabel(\"Material intensity (kg/m2)\")\n",
    "plt.ylabel(\"Floor space (ha)\")\n",
    "plt.xlim(0, 1.2)\n",
    "plt.savefig(f\"data/output/images/histogram_material_use_intensity_per_building_type_{SCENARIO}_{BUILDING_SUBSET_NAME}.png\", dpi=300, bbox_inches=\"tight\")\n",
    "plt.show()\n",
    "\n",
    "# HACK Revert renaming of \"building_type_print\" column for printing purposes\n",
    "buildings_CDM = buildings_CDM.rename(columns={\"Building type:\": \"building_type_print\"})"
   ]
  },
  {
   "cell_type": "markdown",
   "metadata": {},
   "source": [
    "### Maps - Census blocks 100 x 100m\n"
   ]
  },
  {
   "cell_type": "code",
   "execution_count": null,
   "metadata": {},
   "outputs": [],
   "source": [
    "# Join the buildings and census blocks GeoDataFrames\n",
    "joined_buildings_census_blocks = gpd.sjoin(buildings_CDM, census_blocks)"
   ]
  },
  {
   "cell_type": "markdown",
   "metadata": {},
   "source": [
    "#### Electricity use"
   ]
  },
  {
   "cell_type": "code",
   "execution_count": null,
   "metadata": {},
   "outputs": [],
   "source": [
    "# Calculate the mean electricity use per census block, weighted by floor area of the buildings.\n",
    "mean_electricity_use_per_census_block = joined_buildings_census_blocks.groupby(\"index_right\")[\"electricity_use_intensity_kWh_m2\"].mean().reset_index()\n",
    "\n",
    "# Reset index for merging back to the census block DataFrame\n",
    "mean_electricity_use_per_census_block = mean_electricity_use_per_census_block.set_index(\"index_right\")\n",
    "\n",
    "# Join the mean electricity uses to the census block DataFrame\n",
    "census_blocks = census_blocks.merge(mean_electricity_use_per_census_block, left_index=True, right_index=True, how=\"left\")"
   ]
  },
  {
   "cell_type": "code",
   "execution_count": null,
   "metadata": {},
   "outputs": [],
   "source": [
    "# Define parameters for the colorbar's appearance\n",
    "legend_kwds = {\n",
    "    \"label\": \"Electricity use intensity (kWh/m2 floor space)\",\n",
    "    \"shrink\": 0.5,\n",
    "}\n",
    "\n",
    "# Now we can plot the census blocks with the electricity uses\n",
    "ax = census_blocks.plot(column=\"electricity_use_intensity_kWh_m2\", legend=True, figsize=(8, 8), legend_kwds=legend_kwds)\n",
    "ax = outline_TH.plot(ax=ax, color=\"none\", edgecolor=\"black\", linewidth=0.5)  # Add the outline of The Hague\n",
    "ax.set_title(\"Average electricity use intensity per grid cell\")\n",
    "ax.set_axis_off()\n",
    "\n",
    "plt.savefig(f\"data/output/images/GIS/GIS_electricity_use_intensity_100_100_m_grid_{SCENARIO}_{BUILDING_SUBSET_NAME}.png\", dpi=300, bbox_inches=\"tight\")\n",
    "plt.show()"
   ]
  },
  {
   "cell_type": "markdown",
   "metadata": {},
   "source": [
    "#### GHG emissions"
   ]
  },
  {
   "cell_type": "code",
   "execution_count": null,
   "metadata": {},
   "outputs": [],
   "source": [
    "# Calculate the mean GHG emissions per census block, weighted by floor area of the buildings.\n",
    "mean_GHG_emissions_per_census_block = joined_buildings_census_blocks.groupby(\"index_right\")[\"GHG_emissions_intensity_kgCO2eq_m2\"].mean().reset_index()\n",
    "\n",
    "# Reset index for merging back to the census block DataFrame\n",
    "mean_GHG_emissions_per_census_block = mean_GHG_emissions_per_census_block.set_index(\"index_right\")\n",
    "\n",
    "# Join the mean GHG emissions to the census block DataFrame\n",
    "census_blocks = census_blocks.merge(mean_GHG_emissions_per_census_block, left_index=True, right_index=True, how=\"left\")"
   ]
  },
  {
   "cell_type": "code",
   "execution_count": null,
   "metadata": {},
   "outputs": [],
   "source": [
    "# Define parameters for the colorbar's appearance\n",
    "legend_kwds = {\n",
    "    \"label\": \"GHG emission intensity (kg CO2eq/m2 floor space)\",\n",
    "    \"shrink\": 0.5,\n",
    "}\n",
    "\n",
    "# Now we can plot the census blocks with the GHG emissions\n",
    "ax = census_blocks.plot(column=\"GHG_emissions_intensity_kgCO2eq_m2\", legend=True, figsize=(8, 8), legend_kwds=legend_kwds)\n",
    "ax = outline_TH.plot(ax=ax, color=\"none\", edgecolor=\"black\", linewidth=0.5)  # Add the outline of The Hague\n",
    "ax.set_title(\"Average GHG emission intensity per grid cell\")\n",
    "ax.set_axis_off()\n",
    "\n",
    "plt.savefig(f\"data/output/images/GIS/GIS_GHG_emission_intensity_100_100_m_grid_{SCENARIO}_{BUILDING_SUBSET_NAME}.png\", dpi=300, bbox_inches=\"tight\")\n",
    "plt.show()"
   ]
  },
  {
   "cell_type": "markdown",
   "metadata": {},
   "source": [
    "#### Material demand"
   ]
  },
  {
   "cell_type": "code",
   "execution_count": null,
   "metadata": {},
   "outputs": [],
   "source": [
    "# Calculate the mean material use per census block, weighted by floor area of the buildings.\n",
    "mean_material_use_per_census_block = joined_buildings_census_blocks.groupby(\"index_right\")[\"material_use_intensity_kg_m2\"].mean().reset_index()\n",
    "\n",
    "# Reset index for merging back to the census block DataFrame\n",
    "mean_material_use_per_census_block = mean_material_use_per_census_block.set_index(\"index_right\")\n",
    "\n",
    "# Join the mean material uses to the census block DataFrame\n",
    "census_blocks = census_blocks.merge(mean_material_use_per_census_block, left_index=True, right_index=True, how=\"left\")"
   ]
  },
  {
   "cell_type": "code",
   "execution_count": null,
   "metadata": {},
   "outputs": [],
   "source": [
    "# Define parameters for the colorbar's appearance\n",
    "legend_kwds = {\n",
    "    \"label\": \"Material use intensity (kg/m2 floor space)\",\n",
    "    \"shrink\": 0.5,\n",
    "}\n",
    "\n",
    "# Now we can plot the census blocks with the material uses\n",
    "ax = census_blocks.plot(column=\"material_use_intensity_kg_m2\", legend=True, figsize=(8, 8), legend_kwds=legend_kwds)\n",
    "ax = outline_TH.plot(ax=ax, color=\"none\", edgecolor=\"black\", linewidth=0.5)  # Add the outline of The Hague\n",
    "ax.set_title(\"Average material use intensity per grid cell\")\n",
    "ax.set_axis_off()\n",
    "\n",
    "plt.savefig(f\"data/output/images/GIS/GIS_material_use_intensity_100_100_m_grid_{SCENARIO}_{BUILDING_SUBSET_NAME}.png\", dpi=300, bbox_inches=\"tight\")\n",
    "plt.show()"
   ]
  },
  {
   "cell_type": "markdown",
   "metadata": {},
   "source": [
    "### Maps - Neighborhoods\n"
   ]
  },
  {
   "cell_type": "code",
   "execution_count": null,
   "metadata": {},
   "outputs": [],
   "source": [
    "# Join the buildings and neighborhoods GeoDataFrames\n",
    "joined_buildings_neighborhood = gpd.sjoin(buildings_CDM, neighborhoods)"
   ]
  },
  {
   "cell_type": "markdown",
   "metadata": {},
   "source": [
    "#### Electricity use"
   ]
  },
  {
   "cell_type": "code",
   "execution_count": null,
   "metadata": {},
   "outputs": [],
   "source": [
    "# Calculate the mean electricity use per neighborhood, weighted by floor area of the buildings.\n",
    "mean_electricity_use_per_neighborhood = joined_buildings_neighborhoods.groupby(\"index_right\")[\"electricity_use_intensity_kWh_m2\"].mean().reset_index()\n",
    "\n",
    "# Reset index for merging back to the neighborhood DataFrame\n",
    "mean_electricity_use_per_neighborhood = mean_electricity_use_per_neighborhood.set_index(\"index_right\")\n",
    "\n",
    "# Join the mean electricity uses to the neighborhood DataFrame\n",
    "neighborhoods = neighborhoods.merge(mean_electricity_use_per_neighborhood, left_index=True, right_index=True, how=\"left\")"
   ]
  },
  {
   "cell_type": "code",
   "execution_count": null,
   "metadata": {},
   "outputs": [],
   "source": [
    "# Now we can plot the neighborhoods with the electricity uses\n",
    "ax = neighborhoods.plot(column=\"electricity_use_intensity_kWh_m2\", legend=True, figsize=(8, 8))\n",
    "ax = outline_TH.plot(ax=ax, color=\"none\", edgecolor=\"black\", linewidth=0.5)  # Add the outline of The Hague\n",
    "ax.set_title(\"Average electricity use intensity per neighborhood\")\n",
    "ax.set_axis_off()\n",
    "\n",
    "# Add y-axis label to the colorbar\n",
    "colorbar = ax.get_figure().get_axes()[1]\n",
    "colorbar.set_ylabel(\"Electricity use intensity (kWh/m2 floor space)\", rotation=270, labelpad=15)\n",
    "\n",
    "plt.savefig(f\"data/output/images/GIS/GIS_electricity_use_intensity_neighborhood_{SCENARIO}_{BUILDING_SUBSET_NAME}.png\", dpi=300, bbox_inches=\"tight\")\n",
    "plt.show()"
   ]
  },
  {
   "cell_type": "markdown",
   "metadata": {},
   "source": [
    "#### GHG emissions"
   ]
  },
  {
   "cell_type": "code",
   "execution_count": null,
   "metadata": {},
   "outputs": [],
   "source": [
    "# Calculate the mean GHG emissions per neighborhood, weighted by floor area of the buildings.\n",
    "mean_GHG_emissions_per_neighborhood = joined_buildings_neighborhoods.groupby(\"index_right\")[\"GHG_emissions_kgCO2eq_m2\"].mean().reset_index()\n",
    "\n",
    "# Reset index for merging back to the neighborhood DataFrame\n",
    "mean_GHG_emissions_per_neighborhood = mean_GHG_emissions_per_neighborhood.set_index(\"index_right\")\n",
    "\n",
    "# Join the mean GHG emissions to the neighborhood DataFrame\n",
    "neighborhoods = neighborhoods.merge(mean_GHG_emissions_per_neighborhood, left_index=True, right_index=True, how=\"left\")"
   ]
  },
  {
   "cell_type": "code",
   "execution_count": null,
   "metadata": {},
   "outputs": [],
   "source": [
    "# Now we can plot the neighborhoods with the GHG emissions\n",
    "ax = neighborhoods.plot(column=\"GHG_emissions_intensity_kgCO2eq_m2\", legend=True, figsize=(8, 8))\n",
    "ax = outline_TH.plot(ax=ax, color=\"none\", edgecolor=\"black\", linewidth=0.5)  # Add the outline of The Hague\n",
    "ax.set_title(\"Average GHG emission intensity per neighborhood\")\n",
    "ax.set_axis_off()\n",
    "\n",
    "# Add y-axis label to the colorbar\n",
    "colorbar = ax.get_figure().get_axes()[1]\n",
    "colorbar.set_ylabel(\"GHG emission intensity (kg CO2eq/m2 floor space)\", rotation=270, labelpad=15)\n",
    "\n",
    "plt.savefig(f\"data/output/images/GIS/GIS_GHG_emission_intensity_neighborhood_{SCENARIO}_{BUILDING_SUBSET_NAME}.png\", dpi=300, bbox_inches=\"tight\")\n",
    "plt.show()"
   ]
  },
  {
   "cell_type": "markdown",
   "metadata": {},
   "source": [
    "#### Material demand"
   ]
  },
  {
   "cell_type": "code",
   "execution_count": null,
   "metadata": {},
   "outputs": [],
   "source": [
    "# Calculate the mean material use per neighborhood, weighted by floor area of the buildings.\n",
    "mean_material_use_per_neighborhood = joined_buildings_neighborhoods.groupby(\"index_right\")[\"material_use_intensity_kg_m2\"].mean().reset_index()\n",
    "\n",
    "# Reset index for merging back to the neighborhood DataFrame\n",
    "mean_material_use_per_neighborhood = mean_material_use_per_neighborhood.set_index(\"index_right\")\n",
    "\n",
    "# Join the mean material uses to the neighborhood DataFrame\n",
    "neighborhoods = neighborhoods.merge(mean_material_use_per_neighborhood, left_index=True, right_index=True, how=\"left\")"
   ]
  },
  {
   "cell_type": "code",
   "execution_count": null,
   "metadata": {},
   "outputs": [],
   "source": [
    "# Now we can plot the neighborhoods with the material uses\n",
    "ax = neighborhoods.plot(column=\"material_use_intensity_kg_m2\", legend=True, figsize=(8, 8))\n",
    "ax = outline_TH.plot(ax=ax, color=\"none\", edgecolor=\"black\", linewidth=0.5)  # Add the outline of The Hague\n",
    "ax.set_title(\"Average material use intensity per neighborhood\")\n",
    "ax.set_axis_off()\n",
    "\n",
    "# Add y-axis label to the colorbar\n",
    "colorbar = ax.get_figure().get_axes()[1]\n",
    "colorbar.set_ylabel(\"Material use intensity (kg/m2 floor space)\", rotation=270, labelpad=15)\n",
    "\n",
    "plt.savefig(f\"data/output/images/GIS/GIS_material_use_intensityneighborhood_{SCENARIO}_{BUILDING_SUBSET_NAME}.png\", dpi=300, bbox_inches=\"tight\")\n",
    "plt.show()"
   ]
  }
 ],
 "metadata": {
  "kernelspec": {
   "display_name": "env",
   "language": "python",
   "name": "python3"
  },
  "language_info": {
   "codemirror_mode": {
    "name": "ipython",
    "version": 3
   },
   "file_extension": ".py",
   "mimetype": "text/x-python",
   "name": "python",
   "nbconvert_exporter": "python",
   "pygments_lexer": "ipython3",
   "version": "3.11.6"
  },
  "orig_nbformat": 4
 },
 "nbformat": 4,
 "nbformat_minor": 2
}
